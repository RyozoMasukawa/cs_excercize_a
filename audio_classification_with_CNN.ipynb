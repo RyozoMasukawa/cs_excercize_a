{
 "cells": [
  {
   "cell_type": "code",
   "execution_count": 1,
   "metadata": {},
   "outputs": [
    {
     "name": "stderr",
     "output_type": "stream",
     "text": [
      "UsageError: Line magic function `%keras` not found.\n"
     ]
    }
   ],
   "source": [
    "%keras"
   ]
  },
  {
   "cell_type": "code",
   "execution_count": 1,
   "metadata": {},
   "outputs": [],
   "source": [
    "import pandas as pd\n",
    "import numpy as np\n",
    "from numpy import argmax\n",
    "import matplotlib.pyplot as plt\n",
    "%matplotlib inline\n",
    "import librosa\n",
    "import librosa.display\n",
    "import IPython.display\n",
    "import random\n",
    "import warnings\n",
    "import os\n",
    "from PIL import Image\n",
    "import pathlib\n",
    "import csv\n",
    "# sklearn Preprocessing\n",
    "from sklearn.model_selection import train_test_split\n",
    "#Keras\n",
    "import keras\n",
    "import warnings\n",
    "warnings.filterwarnings('ignore')\n",
    "from keras import layers\n",
    "from keras.layers import Activation, Dense, Dropout, Conv2D, Flatten, MaxPooling2D, GlobalMaxPooling2D, GlobalAveragePooling1D, AveragePooling2D, Input, Add\n",
    "from keras.models import Sequential\n",
    "from keras.optimizers import SGD"
   ]
  },
  {
   "cell_type": "code",
   "execution_count": 2,
   "metadata": {},
   "outputs": [],
   "source": [
    "from tqdm.notebook import tqdm, trange\n",
    "import time    # to be used in loop iterations"
   ]
  },
  {
   "cell_type": "code",
   "execution_count": 91,
   "metadata": {},
   "outputs": [],
   "source": [
    "from keras.preprocessing.image import load_img, img_to_array, array_to_img\n",
    "from keras.utils import np_utils\n",
    "from keras.callbacks import LearningRateScheduler\n",
    "from keras.callbacks import ModelCheckpoint\n",
    "from keras.optimizers import Adam\n",
    "from keras.models import model_from_json"
   ]
  },
  {
   "cell_type": "code",
   "execution_count": 72,
   "metadata": {},
   "outputs": [
    {
     "name": "stderr",
     "output_type": "stream",
     "text": [
      "Copying files: 1000 files [00:06, 157.94 files/s]\n"
     ]
    }
   ],
   "source": [
    "import splitfolders\n",
    "\n",
    "splitfolders.ratio('./img_data', output=\"./data\", seed=1337, ratio=(0.8, 0.2))"
   ]
  },
  {
   "cell_type": "code",
   "execution_count": 71,
   "metadata": {},
   "outputs": [
    {
     "data": {
      "application/vnd.jupyter.widget-view+json": {
       "model_id": "e82ef73cc5384a3580949935c50e0126",
       "version_major": 2,
       "version_minor": 0
      },
      "text/plain": [
       "HBox(children=(HTML(value=''), FloatProgress(value=0.0, max=10.0), HTML(value='')))"
      ]
     },
     "metadata": {},
     "output_type": "display_data"
    },
    {
     "data": {
      "application/vnd.jupyter.widget-view+json": {
       "model_id": "d5f2e6aaf346434687df4c5dbca5b1cc",
       "version_major": 2,
       "version_minor": 0
      },
      "text/plain": [
       "HBox(children=(HTML(value=''), FloatProgress(value=0.0), HTML(value='')))"
      ]
     },
     "metadata": {},
     "output_type": "display_data"
    },
    {
     "name": "stdout",
     "output_type": "stream",
     "text": [
      "\n"
     ]
    },
    {
     "data": {
      "application/vnd.jupyter.widget-view+json": {
       "model_id": "c724e03a3e3d411eb5499007c584a005",
       "version_major": 2,
       "version_minor": 0
      },
      "text/plain": [
       "HBox(children=(HTML(value=''), FloatProgress(value=0.0), HTML(value='')))"
      ]
     },
     "metadata": {},
     "output_type": "display_data"
    },
    {
     "name": "stdout",
     "output_type": "stream",
     "text": [
      "\n"
     ]
    },
    {
     "data": {
      "application/vnd.jupyter.widget-view+json": {
       "model_id": "b04146a7fd824daf8c42b4422764c42e",
       "version_major": 2,
       "version_minor": 0
      },
      "text/plain": [
       "HBox(children=(HTML(value=''), FloatProgress(value=0.0), HTML(value='')))"
      ]
     },
     "metadata": {},
     "output_type": "display_data"
    },
    {
     "name": "stdout",
     "output_type": "stream",
     "text": [
      "\n"
     ]
    },
    {
     "data": {
      "application/vnd.jupyter.widget-view+json": {
       "model_id": "9f6a98b41ac240bf9302a55f8dd415d9",
       "version_major": 2,
       "version_minor": 0
      },
      "text/plain": [
       "HBox(children=(HTML(value=''), FloatProgress(value=0.0), HTML(value='')))"
      ]
     },
     "metadata": {},
     "output_type": "display_data"
    },
    {
     "name": "stdout",
     "output_type": "stream",
     "text": [
      "\n"
     ]
    },
    {
     "data": {
      "application/vnd.jupyter.widget-view+json": {
       "model_id": "9b98c4a0bc534dd2945091d199ea0c19",
       "version_major": 2,
       "version_minor": 0
      },
      "text/plain": [
       "HBox(children=(HTML(value=''), FloatProgress(value=0.0), HTML(value='')))"
      ]
     },
     "metadata": {},
     "output_type": "display_data"
    },
    {
     "name": "stdout",
     "output_type": "stream",
     "text": [
      "\n"
     ]
    },
    {
     "data": {
      "application/vnd.jupyter.widget-view+json": {
       "model_id": "694f891d313b45fc971856ed0f8e8afe",
       "version_major": 2,
       "version_minor": 0
      },
      "text/plain": [
       "HBox(children=(HTML(value=''), FloatProgress(value=0.0), HTML(value='')))"
      ]
     },
     "metadata": {},
     "output_type": "display_data"
    },
    {
     "name": "stdout",
     "output_type": "stream",
     "text": [
      "\n"
     ]
    },
    {
     "data": {
      "application/vnd.jupyter.widget-view+json": {
       "model_id": "dbcc9f906fc54e7a9da6f36906b5bee8",
       "version_major": 2,
       "version_minor": 0
      },
      "text/plain": [
       "HBox(children=(HTML(value=''), FloatProgress(value=0.0), HTML(value='')))"
      ]
     },
     "metadata": {},
     "output_type": "display_data"
    },
    {
     "name": "stdout",
     "output_type": "stream",
     "text": [
      "\n"
     ]
    },
    {
     "data": {
      "application/vnd.jupyter.widget-view+json": {
       "model_id": "2e61644a358a45989644666053ceaa6d",
       "version_major": 2,
       "version_minor": 0
      },
      "text/plain": [
       "HBox(children=(HTML(value=''), FloatProgress(value=0.0), HTML(value='')))"
      ]
     },
     "metadata": {},
     "output_type": "display_data"
    },
    {
     "name": "stdout",
     "output_type": "stream",
     "text": [
      "\n"
     ]
    },
    {
     "data": {
      "application/vnd.jupyter.widget-view+json": {
       "model_id": "5aed39a36e1c4f22a7531095069dbbff",
       "version_major": 2,
       "version_minor": 0
      },
      "text/plain": [
       "HBox(children=(HTML(value=''), FloatProgress(value=0.0), HTML(value='')))"
      ]
     },
     "metadata": {},
     "output_type": "display_data"
    },
    {
     "name": "stdout",
     "output_type": "stream",
     "text": [
      "\n"
     ]
    },
    {
     "data": {
      "application/vnd.jupyter.widget-view+json": {
       "model_id": "b47a202063854a83aa7cefe10b235504",
       "version_major": 2,
       "version_minor": 0
      },
      "text/plain": [
       "HBox(children=(HTML(value=''), FloatProgress(value=0.0), HTML(value='')))"
      ]
     },
     "metadata": {},
     "output_type": "display_data"
    },
    {
     "name": "stdout",
     "output_type": "stream",
     "text": [
      "\n",
      "\n"
     ]
    },
    {
     "data": {
      "text/plain": [
       "<Figure size 432x288 with 0 Axes>"
      ]
     },
     "metadata": {},
     "output_type": "display_data"
    },
    {
     "data": {
      "text/plain": [
       "<Figure size 432x288 with 0 Axes>"
      ]
     },
     "metadata": {},
     "output_type": "display_data"
    },
    {
     "data": {
      "text/plain": [
       "<Figure size 432x288 with 0 Axes>"
      ]
     },
     "metadata": {},
     "output_type": "display_data"
    },
    {
     "data": {
      "text/plain": [
       "<Figure size 432x288 with 0 Axes>"
      ]
     },
     "metadata": {},
     "output_type": "display_data"
    },
    {
     "data": {
      "text/plain": [
       "<Figure size 432x288 with 0 Axes>"
      ]
     },
     "metadata": {},
     "output_type": "display_data"
    },
    {
     "data": {
      "text/plain": [
       "<Figure size 432x288 with 0 Axes>"
      ]
     },
     "metadata": {},
     "output_type": "display_data"
    },
    {
     "data": {
      "text/plain": [
       "<Figure size 432x288 with 0 Axes>"
      ]
     },
     "metadata": {},
     "output_type": "display_data"
    },
    {
     "data": {
      "text/plain": [
       "<Figure size 432x288 with 0 Axes>"
      ]
     },
     "metadata": {},
     "output_type": "display_data"
    },
    {
     "data": {
      "text/plain": [
       "<Figure size 432x288 with 0 Axes>"
      ]
     },
     "metadata": {},
     "output_type": "display_data"
    },
    {
     "data": {
      "text/plain": [
       "<Figure size 432x288 with 0 Axes>"
      ]
     },
     "metadata": {},
     "output_type": "display_data"
    },
    {
     "data": {
      "text/plain": [
       "<Figure size 432x288 with 0 Axes>"
      ]
     },
     "metadata": {},
     "output_type": "display_data"
    },
    {
     "data": {
      "text/plain": [
       "<Figure size 432x288 with 0 Axes>"
      ]
     },
     "metadata": {},
     "output_type": "display_data"
    },
    {
     "data": {
      "text/plain": [
       "<Figure size 432x288 with 0 Axes>"
      ]
     },
     "metadata": {},
     "output_type": "display_data"
    },
    {
     "data": {
      "text/plain": [
       "<Figure size 432x288 with 0 Axes>"
      ]
     },
     "metadata": {},
     "output_type": "display_data"
    },
    {
     "data": {
      "text/plain": [
       "<Figure size 432x288 with 0 Axes>"
      ]
     },
     "metadata": {},
     "output_type": "display_data"
    },
    {
     "data": {
      "text/plain": [
       "<Figure size 432x288 with 0 Axes>"
      ]
     },
     "metadata": {},
     "output_type": "display_data"
    },
    {
     "data": {
      "text/plain": [
       "<Figure size 432x288 with 0 Axes>"
      ]
     },
     "metadata": {},
     "output_type": "display_data"
    },
    {
     "data": {
      "text/plain": [
       "<Figure size 432x288 with 0 Axes>"
      ]
     },
     "metadata": {},
     "output_type": "display_data"
    },
    {
     "data": {
      "text/plain": [
       "<Figure size 432x288 with 0 Axes>"
      ]
     },
     "metadata": {},
     "output_type": "display_data"
    },
    {
     "data": {
      "text/plain": [
       "<Figure size 432x288 with 0 Axes>"
      ]
     },
     "metadata": {},
     "output_type": "display_data"
    },
    {
     "data": {
      "text/plain": [
       "<Figure size 432x288 with 0 Axes>"
      ]
     },
     "metadata": {},
     "output_type": "display_data"
    },
    {
     "data": {
      "text/plain": [
       "<Figure size 432x288 with 0 Axes>"
      ]
     },
     "metadata": {},
     "output_type": "display_data"
    },
    {
     "data": {
      "text/plain": [
       "<Figure size 432x288 with 0 Axes>"
      ]
     },
     "metadata": {},
     "output_type": "display_data"
    },
    {
     "data": {
      "text/plain": [
       "<Figure size 432x288 with 0 Axes>"
      ]
     },
     "metadata": {},
     "output_type": "display_data"
    },
    {
     "data": {
      "text/plain": [
       "<Figure size 432x288 with 0 Axes>"
      ]
     },
     "metadata": {},
     "output_type": "display_data"
    },
    {
     "data": {
      "text/plain": [
       "<Figure size 432x288 with 0 Axes>"
      ]
     },
     "metadata": {},
     "output_type": "display_data"
    },
    {
     "data": {
      "text/plain": [
       "<Figure size 432x288 with 0 Axes>"
      ]
     },
     "metadata": {},
     "output_type": "display_data"
    },
    {
     "data": {
      "text/plain": [
       "<Figure size 432x288 with 0 Axes>"
      ]
     },
     "metadata": {},
     "output_type": "display_data"
    },
    {
     "data": {
      "text/plain": [
       "<Figure size 432x288 with 0 Axes>"
      ]
     },
     "metadata": {},
     "output_type": "display_data"
    },
    {
     "data": {
      "text/plain": [
       "<Figure size 432x288 with 0 Axes>"
      ]
     },
     "metadata": {},
     "output_type": "display_data"
    },
    {
     "data": {
      "text/plain": [
       "<Figure size 432x288 with 0 Axes>"
      ]
     },
     "metadata": {},
     "output_type": "display_data"
    },
    {
     "data": {
      "text/plain": [
       "<Figure size 432x288 with 0 Axes>"
      ]
     },
     "metadata": {},
     "output_type": "display_data"
    },
    {
     "data": {
      "text/plain": [
       "<Figure size 432x288 with 0 Axes>"
      ]
     },
     "metadata": {},
     "output_type": "display_data"
    },
    {
     "data": {
      "text/plain": [
       "<Figure size 432x288 with 0 Axes>"
      ]
     },
     "metadata": {},
     "output_type": "display_data"
    },
    {
     "data": {
      "text/plain": [
       "<Figure size 432x288 with 0 Axes>"
      ]
     },
     "metadata": {},
     "output_type": "display_data"
    },
    {
     "data": {
      "text/plain": [
       "<Figure size 432x288 with 0 Axes>"
      ]
     },
     "metadata": {},
     "output_type": "display_data"
    },
    {
     "data": {
      "text/plain": [
       "<Figure size 432x288 with 0 Axes>"
      ]
     },
     "metadata": {},
     "output_type": "display_data"
    },
    {
     "data": {
      "text/plain": [
       "<Figure size 432x288 with 0 Axes>"
      ]
     },
     "metadata": {},
     "output_type": "display_data"
    },
    {
     "data": {
      "text/plain": [
       "<Figure size 432x288 with 0 Axes>"
      ]
     },
     "metadata": {},
     "output_type": "display_data"
    },
    {
     "data": {
      "text/plain": [
       "<Figure size 432x288 with 0 Axes>"
      ]
     },
     "metadata": {},
     "output_type": "display_data"
    },
    {
     "data": {
      "text/plain": [
       "<Figure size 432x288 with 0 Axes>"
      ]
     },
     "metadata": {},
     "output_type": "display_data"
    },
    {
     "data": {
      "text/plain": [
       "<Figure size 432x288 with 0 Axes>"
      ]
     },
     "metadata": {},
     "output_type": "display_data"
    },
    {
     "data": {
      "text/plain": [
       "<Figure size 432x288 with 0 Axes>"
      ]
     },
     "metadata": {},
     "output_type": "display_data"
    },
    {
     "data": {
      "text/plain": [
       "<Figure size 432x288 with 0 Axes>"
      ]
     },
     "metadata": {},
     "output_type": "display_data"
    },
    {
     "data": {
      "text/plain": [
       "<Figure size 432x288 with 0 Axes>"
      ]
     },
     "metadata": {},
     "output_type": "display_data"
    },
    {
     "data": {
      "text/plain": [
       "<Figure size 432x288 with 0 Axes>"
      ]
     },
     "metadata": {},
     "output_type": "display_data"
    },
    {
     "data": {
      "text/plain": [
       "<Figure size 432x288 with 0 Axes>"
      ]
     },
     "metadata": {},
     "output_type": "display_data"
    },
    {
     "data": {
      "text/plain": [
       "<Figure size 432x288 with 0 Axes>"
      ]
     },
     "metadata": {},
     "output_type": "display_data"
    },
    {
     "data": {
      "text/plain": [
       "<Figure size 432x288 with 0 Axes>"
      ]
     },
     "metadata": {},
     "output_type": "display_data"
    },
    {
     "data": {
      "text/plain": [
       "<Figure size 432x288 with 0 Axes>"
      ]
     },
     "metadata": {},
     "output_type": "display_data"
    },
    {
     "data": {
      "text/plain": [
       "<Figure size 432x288 with 0 Axes>"
      ]
     },
     "metadata": {},
     "output_type": "display_data"
    },
    {
     "data": {
      "text/plain": [
       "<Figure size 432x288 with 0 Axes>"
      ]
     },
     "metadata": {},
     "output_type": "display_data"
    },
    {
     "data": {
      "text/plain": [
       "<Figure size 432x288 with 0 Axes>"
      ]
     },
     "metadata": {},
     "output_type": "display_data"
    },
    {
     "data": {
      "text/plain": [
       "<Figure size 432x288 with 0 Axes>"
      ]
     },
     "metadata": {},
     "output_type": "display_data"
    },
    {
     "data": {
      "text/plain": [
       "<Figure size 432x288 with 0 Axes>"
      ]
     },
     "metadata": {},
     "output_type": "display_data"
    },
    {
     "data": {
      "text/plain": [
       "<Figure size 432x288 with 0 Axes>"
      ]
     },
     "metadata": {},
     "output_type": "display_data"
    },
    {
     "data": {
      "text/plain": [
       "<Figure size 432x288 with 0 Axes>"
      ]
     },
     "metadata": {},
     "output_type": "display_data"
    },
    {
     "data": {
      "text/plain": [
       "<Figure size 432x288 with 0 Axes>"
      ]
     },
     "metadata": {},
     "output_type": "display_data"
    },
    {
     "data": {
      "text/plain": [
       "<Figure size 432x288 with 0 Axes>"
      ]
     },
     "metadata": {},
     "output_type": "display_data"
    },
    {
     "data": {
      "text/plain": [
       "<Figure size 432x288 with 0 Axes>"
      ]
     },
     "metadata": {},
     "output_type": "display_data"
    },
    {
     "data": {
      "text/plain": [
       "<Figure size 432x288 with 0 Axes>"
      ]
     },
     "metadata": {},
     "output_type": "display_data"
    },
    {
     "data": {
      "text/plain": [
       "<Figure size 432x288 with 0 Axes>"
      ]
     },
     "metadata": {},
     "output_type": "display_data"
    },
    {
     "data": {
      "text/plain": [
       "<Figure size 432x288 with 0 Axes>"
      ]
     },
     "metadata": {},
     "output_type": "display_data"
    },
    {
     "data": {
      "text/plain": [
       "<Figure size 432x288 with 0 Axes>"
      ]
     },
     "metadata": {},
     "output_type": "display_data"
    },
    {
     "data": {
      "text/plain": [
       "<Figure size 432x288 with 0 Axes>"
      ]
     },
     "metadata": {},
     "output_type": "display_data"
    },
    {
     "data": {
      "text/plain": [
       "<Figure size 432x288 with 0 Axes>"
      ]
     },
     "metadata": {},
     "output_type": "display_data"
    },
    {
     "data": {
      "text/plain": [
       "<Figure size 432x288 with 0 Axes>"
      ]
     },
     "metadata": {},
     "output_type": "display_data"
    },
    {
     "data": {
      "text/plain": [
       "<Figure size 432x288 with 0 Axes>"
      ]
     },
     "metadata": {},
     "output_type": "display_data"
    },
    {
     "data": {
      "text/plain": [
       "<Figure size 432x288 with 0 Axes>"
      ]
     },
     "metadata": {},
     "output_type": "display_data"
    },
    {
     "data": {
      "text/plain": [
       "<Figure size 432x288 with 0 Axes>"
      ]
     },
     "metadata": {},
     "output_type": "display_data"
    },
    {
     "data": {
      "text/plain": [
       "<Figure size 432x288 with 0 Axes>"
      ]
     },
     "metadata": {},
     "output_type": "display_data"
    },
    {
     "data": {
      "text/plain": [
       "<Figure size 432x288 with 0 Axes>"
      ]
     },
     "metadata": {},
     "output_type": "display_data"
    },
    {
     "data": {
      "text/plain": [
       "<Figure size 432x288 with 0 Axes>"
      ]
     },
     "metadata": {},
     "output_type": "display_data"
    },
    {
     "data": {
      "text/plain": [
       "<Figure size 432x288 with 0 Axes>"
      ]
     },
     "metadata": {},
     "output_type": "display_data"
    },
    {
     "data": {
      "text/plain": [
       "<Figure size 432x288 with 0 Axes>"
      ]
     },
     "metadata": {},
     "output_type": "display_data"
    },
    {
     "data": {
      "text/plain": [
       "<Figure size 432x288 with 0 Axes>"
      ]
     },
     "metadata": {},
     "output_type": "display_data"
    },
    {
     "data": {
      "text/plain": [
       "<Figure size 432x288 with 0 Axes>"
      ]
     },
     "metadata": {},
     "output_type": "display_data"
    },
    {
     "data": {
      "text/plain": [
       "<Figure size 432x288 with 0 Axes>"
      ]
     },
     "metadata": {},
     "output_type": "display_data"
    },
    {
     "data": {
      "text/plain": [
       "<Figure size 432x288 with 0 Axes>"
      ]
     },
     "metadata": {},
     "output_type": "display_data"
    },
    {
     "data": {
      "text/plain": [
       "<Figure size 432x288 with 0 Axes>"
      ]
     },
     "metadata": {},
     "output_type": "display_data"
    },
    {
     "data": {
      "text/plain": [
       "<Figure size 432x288 with 0 Axes>"
      ]
     },
     "metadata": {},
     "output_type": "display_data"
    },
    {
     "data": {
      "text/plain": [
       "<Figure size 432x288 with 0 Axes>"
      ]
     },
     "metadata": {},
     "output_type": "display_data"
    },
    {
     "data": {
      "text/plain": [
       "<Figure size 432x288 with 0 Axes>"
      ]
     },
     "metadata": {},
     "output_type": "display_data"
    },
    {
     "data": {
      "text/plain": [
       "<Figure size 432x288 with 0 Axes>"
      ]
     },
     "metadata": {},
     "output_type": "display_data"
    },
    {
     "data": {
      "text/plain": [
       "<Figure size 432x288 with 0 Axes>"
      ]
     },
     "metadata": {},
     "output_type": "display_data"
    },
    {
     "data": {
      "text/plain": [
       "<Figure size 432x288 with 0 Axes>"
      ]
     },
     "metadata": {},
     "output_type": "display_data"
    },
    {
     "data": {
      "text/plain": [
       "<Figure size 432x288 with 0 Axes>"
      ]
     },
     "metadata": {},
     "output_type": "display_data"
    },
    {
     "data": {
      "text/plain": [
       "<Figure size 432x288 with 0 Axes>"
      ]
     },
     "metadata": {},
     "output_type": "display_data"
    },
    {
     "data": {
      "text/plain": [
       "<Figure size 432x288 with 0 Axes>"
      ]
     },
     "metadata": {},
     "output_type": "display_data"
    },
    {
     "data": {
      "text/plain": [
       "<Figure size 432x288 with 0 Axes>"
      ]
     },
     "metadata": {},
     "output_type": "display_data"
    },
    {
     "data": {
      "text/plain": [
       "<Figure size 432x288 with 0 Axes>"
      ]
     },
     "metadata": {},
     "output_type": "display_data"
    },
    {
     "data": {
      "text/plain": [
       "<Figure size 432x288 with 0 Axes>"
      ]
     },
     "metadata": {},
     "output_type": "display_data"
    },
    {
     "data": {
      "text/plain": [
       "<Figure size 432x288 with 0 Axes>"
      ]
     },
     "metadata": {},
     "output_type": "display_data"
    },
    {
     "data": {
      "text/plain": [
       "<Figure size 432x288 with 0 Axes>"
      ]
     },
     "metadata": {},
     "output_type": "display_data"
    },
    {
     "data": {
      "text/plain": [
       "<Figure size 432x288 with 0 Axes>"
      ]
     },
     "metadata": {},
     "output_type": "display_data"
    },
    {
     "data": {
      "text/plain": [
       "<Figure size 432x288 with 0 Axes>"
      ]
     },
     "metadata": {},
     "output_type": "display_data"
    },
    {
     "data": {
      "text/plain": [
       "<Figure size 432x288 with 0 Axes>"
      ]
     },
     "metadata": {},
     "output_type": "display_data"
    },
    {
     "data": {
      "text/plain": [
       "<Figure size 432x288 with 0 Axes>"
      ]
     },
     "metadata": {},
     "output_type": "display_data"
    },
    {
     "data": {
      "text/plain": [
       "<Figure size 432x288 with 0 Axes>"
      ]
     },
     "metadata": {},
     "output_type": "display_data"
    },
    {
     "data": {
      "text/plain": [
       "<Figure size 432x288 with 0 Axes>"
      ]
     },
     "metadata": {},
     "output_type": "display_data"
    },
    {
     "data": {
      "text/plain": [
       "<Figure size 432x288 with 0 Axes>"
      ]
     },
     "metadata": {},
     "output_type": "display_data"
    },
    {
     "data": {
      "text/plain": [
       "<Figure size 432x288 with 0 Axes>"
      ]
     },
     "metadata": {},
     "output_type": "display_data"
    },
    {
     "data": {
      "text/plain": [
       "<Figure size 432x288 with 0 Axes>"
      ]
     },
     "metadata": {},
     "output_type": "display_data"
    },
    {
     "data": {
      "text/plain": [
       "<Figure size 432x288 with 0 Axes>"
      ]
     },
     "metadata": {},
     "output_type": "display_data"
    },
    {
     "data": {
      "text/plain": [
       "<Figure size 432x288 with 0 Axes>"
      ]
     },
     "metadata": {},
     "output_type": "display_data"
    },
    {
     "data": {
      "text/plain": [
       "<Figure size 432x288 with 0 Axes>"
      ]
     },
     "metadata": {},
     "output_type": "display_data"
    },
    {
     "data": {
      "text/plain": [
       "<Figure size 432x288 with 0 Axes>"
      ]
     },
     "metadata": {},
     "output_type": "display_data"
    },
    {
     "data": {
      "text/plain": [
       "<Figure size 432x288 with 0 Axes>"
      ]
     },
     "metadata": {},
     "output_type": "display_data"
    },
    {
     "data": {
      "text/plain": [
       "<Figure size 432x288 with 0 Axes>"
      ]
     },
     "metadata": {},
     "output_type": "display_data"
    },
    {
     "data": {
      "text/plain": [
       "<Figure size 432x288 with 0 Axes>"
      ]
     },
     "metadata": {},
     "output_type": "display_data"
    },
    {
     "data": {
      "text/plain": [
       "<Figure size 432x288 with 0 Axes>"
      ]
     },
     "metadata": {},
     "output_type": "display_data"
    },
    {
     "data": {
      "text/plain": [
       "<Figure size 432x288 with 0 Axes>"
      ]
     },
     "metadata": {},
     "output_type": "display_data"
    },
    {
     "data": {
      "text/plain": [
       "<Figure size 432x288 with 0 Axes>"
      ]
     },
     "metadata": {},
     "output_type": "display_data"
    },
    {
     "data": {
      "text/plain": [
       "<Figure size 432x288 with 0 Axes>"
      ]
     },
     "metadata": {},
     "output_type": "display_data"
    },
    {
     "data": {
      "text/plain": [
       "<Figure size 432x288 with 0 Axes>"
      ]
     },
     "metadata": {},
     "output_type": "display_data"
    },
    {
     "data": {
      "text/plain": [
       "<Figure size 432x288 with 0 Axes>"
      ]
     },
     "metadata": {},
     "output_type": "display_data"
    },
    {
     "data": {
      "text/plain": [
       "<Figure size 432x288 with 0 Axes>"
      ]
     },
     "metadata": {},
     "output_type": "display_data"
    },
    {
     "data": {
      "text/plain": [
       "<Figure size 432x288 with 0 Axes>"
      ]
     },
     "metadata": {},
     "output_type": "display_data"
    },
    {
     "data": {
      "text/plain": [
       "<Figure size 432x288 with 0 Axes>"
      ]
     },
     "metadata": {},
     "output_type": "display_data"
    },
    {
     "data": {
      "text/plain": [
       "<Figure size 432x288 with 0 Axes>"
      ]
     },
     "metadata": {},
     "output_type": "display_data"
    },
    {
     "data": {
      "text/plain": [
       "<Figure size 432x288 with 0 Axes>"
      ]
     },
     "metadata": {},
     "output_type": "display_data"
    },
    {
     "data": {
      "text/plain": [
       "<Figure size 432x288 with 0 Axes>"
      ]
     },
     "metadata": {},
     "output_type": "display_data"
    },
    {
     "data": {
      "text/plain": [
       "<Figure size 432x288 with 0 Axes>"
      ]
     },
     "metadata": {},
     "output_type": "display_data"
    },
    {
     "data": {
      "text/plain": [
       "<Figure size 432x288 with 0 Axes>"
      ]
     },
     "metadata": {},
     "output_type": "display_data"
    },
    {
     "data": {
      "text/plain": [
       "<Figure size 432x288 with 0 Axes>"
      ]
     },
     "metadata": {},
     "output_type": "display_data"
    },
    {
     "data": {
      "text/plain": [
       "<Figure size 432x288 with 0 Axes>"
      ]
     },
     "metadata": {},
     "output_type": "display_data"
    },
    {
     "data": {
      "text/plain": [
       "<Figure size 432x288 with 0 Axes>"
      ]
     },
     "metadata": {},
     "output_type": "display_data"
    },
    {
     "data": {
      "text/plain": [
       "<Figure size 432x288 with 0 Axes>"
      ]
     },
     "metadata": {},
     "output_type": "display_data"
    },
    {
     "data": {
      "text/plain": [
       "<Figure size 432x288 with 0 Axes>"
      ]
     },
     "metadata": {},
     "output_type": "display_data"
    },
    {
     "data": {
      "text/plain": [
       "<Figure size 432x288 with 0 Axes>"
      ]
     },
     "metadata": {},
     "output_type": "display_data"
    },
    {
     "data": {
      "text/plain": [
       "<Figure size 432x288 with 0 Axes>"
      ]
     },
     "metadata": {},
     "output_type": "display_data"
    },
    {
     "data": {
      "text/plain": [
       "<Figure size 432x288 with 0 Axes>"
      ]
     },
     "metadata": {},
     "output_type": "display_data"
    },
    {
     "data": {
      "text/plain": [
       "<Figure size 432x288 with 0 Axes>"
      ]
     },
     "metadata": {},
     "output_type": "display_data"
    },
    {
     "data": {
      "text/plain": [
       "<Figure size 432x288 with 0 Axes>"
      ]
     },
     "metadata": {},
     "output_type": "display_data"
    },
    {
     "data": {
      "text/plain": [
       "<Figure size 432x288 with 0 Axes>"
      ]
     },
     "metadata": {},
     "output_type": "display_data"
    },
    {
     "data": {
      "text/plain": [
       "<Figure size 432x288 with 0 Axes>"
      ]
     },
     "metadata": {},
     "output_type": "display_data"
    },
    {
     "data": {
      "text/plain": [
       "<Figure size 432x288 with 0 Axes>"
      ]
     },
     "metadata": {},
     "output_type": "display_data"
    },
    {
     "data": {
      "text/plain": [
       "<Figure size 432x288 with 0 Axes>"
      ]
     },
     "metadata": {},
     "output_type": "display_data"
    },
    {
     "data": {
      "text/plain": [
       "<Figure size 432x288 with 0 Axes>"
      ]
     },
     "metadata": {},
     "output_type": "display_data"
    },
    {
     "data": {
      "text/plain": [
       "<Figure size 432x288 with 0 Axes>"
      ]
     },
     "metadata": {},
     "output_type": "display_data"
    },
    {
     "data": {
      "text/plain": [
       "<Figure size 432x288 with 0 Axes>"
      ]
     },
     "metadata": {},
     "output_type": "display_data"
    },
    {
     "data": {
      "text/plain": [
       "<Figure size 432x288 with 0 Axes>"
      ]
     },
     "metadata": {},
     "output_type": "display_data"
    },
    {
     "data": {
      "text/plain": [
       "<Figure size 432x288 with 0 Axes>"
      ]
     },
     "metadata": {},
     "output_type": "display_data"
    },
    {
     "data": {
      "text/plain": [
       "<Figure size 432x288 with 0 Axes>"
      ]
     },
     "metadata": {},
     "output_type": "display_data"
    },
    {
     "data": {
      "text/plain": [
       "<Figure size 432x288 with 0 Axes>"
      ]
     },
     "metadata": {},
     "output_type": "display_data"
    },
    {
     "data": {
      "text/plain": [
       "<Figure size 432x288 with 0 Axes>"
      ]
     },
     "metadata": {},
     "output_type": "display_data"
    },
    {
     "data": {
      "text/plain": [
       "<Figure size 432x288 with 0 Axes>"
      ]
     },
     "metadata": {},
     "output_type": "display_data"
    },
    {
     "data": {
      "text/plain": [
       "<Figure size 432x288 with 0 Axes>"
      ]
     },
     "metadata": {},
     "output_type": "display_data"
    },
    {
     "data": {
      "text/plain": [
       "<Figure size 432x288 with 0 Axes>"
      ]
     },
     "metadata": {},
     "output_type": "display_data"
    },
    {
     "data": {
      "text/plain": [
       "<Figure size 432x288 with 0 Axes>"
      ]
     },
     "metadata": {},
     "output_type": "display_data"
    },
    {
     "data": {
      "text/plain": [
       "<Figure size 432x288 with 0 Axes>"
      ]
     },
     "metadata": {},
     "output_type": "display_data"
    },
    {
     "data": {
      "text/plain": [
       "<Figure size 432x288 with 0 Axes>"
      ]
     },
     "metadata": {},
     "output_type": "display_data"
    },
    {
     "data": {
      "text/plain": [
       "<Figure size 432x288 with 0 Axes>"
      ]
     },
     "metadata": {},
     "output_type": "display_data"
    },
    {
     "data": {
      "text/plain": [
       "<Figure size 432x288 with 0 Axes>"
      ]
     },
     "metadata": {},
     "output_type": "display_data"
    },
    {
     "data": {
      "text/plain": [
       "<Figure size 432x288 with 0 Axes>"
      ]
     },
     "metadata": {},
     "output_type": "display_data"
    },
    {
     "data": {
      "text/plain": [
       "<Figure size 432x288 with 0 Axes>"
      ]
     },
     "metadata": {},
     "output_type": "display_data"
    },
    {
     "data": {
      "text/plain": [
       "<Figure size 432x288 with 0 Axes>"
      ]
     },
     "metadata": {},
     "output_type": "display_data"
    },
    {
     "data": {
      "text/plain": [
       "<Figure size 432x288 with 0 Axes>"
      ]
     },
     "metadata": {},
     "output_type": "display_data"
    },
    {
     "data": {
      "text/plain": [
       "<Figure size 432x288 with 0 Axes>"
      ]
     },
     "metadata": {},
     "output_type": "display_data"
    },
    {
     "data": {
      "text/plain": [
       "<Figure size 432x288 with 0 Axes>"
      ]
     },
     "metadata": {},
     "output_type": "display_data"
    },
    {
     "data": {
      "text/plain": [
       "<Figure size 432x288 with 0 Axes>"
      ]
     },
     "metadata": {},
     "output_type": "display_data"
    },
    {
     "data": {
      "text/plain": [
       "<Figure size 432x288 with 0 Axes>"
      ]
     },
     "metadata": {},
     "output_type": "display_data"
    },
    {
     "data": {
      "text/plain": [
       "<Figure size 432x288 with 0 Axes>"
      ]
     },
     "metadata": {},
     "output_type": "display_data"
    },
    {
     "data": {
      "text/plain": [
       "<Figure size 432x288 with 0 Axes>"
      ]
     },
     "metadata": {},
     "output_type": "display_data"
    },
    {
     "data": {
      "text/plain": [
       "<Figure size 432x288 with 0 Axes>"
      ]
     },
     "metadata": {},
     "output_type": "display_data"
    },
    {
     "data": {
      "text/plain": [
       "<Figure size 432x288 with 0 Axes>"
      ]
     },
     "metadata": {},
     "output_type": "display_data"
    },
    {
     "data": {
      "text/plain": [
       "<Figure size 432x288 with 0 Axes>"
      ]
     },
     "metadata": {},
     "output_type": "display_data"
    },
    {
     "data": {
      "text/plain": [
       "<Figure size 432x288 with 0 Axes>"
      ]
     },
     "metadata": {},
     "output_type": "display_data"
    },
    {
     "data": {
      "text/plain": [
       "<Figure size 432x288 with 0 Axes>"
      ]
     },
     "metadata": {},
     "output_type": "display_data"
    },
    {
     "data": {
      "text/plain": [
       "<Figure size 432x288 with 0 Axes>"
      ]
     },
     "metadata": {},
     "output_type": "display_data"
    },
    {
     "data": {
      "text/plain": [
       "<Figure size 432x288 with 0 Axes>"
      ]
     },
     "metadata": {},
     "output_type": "display_data"
    },
    {
     "data": {
      "text/plain": [
       "<Figure size 432x288 with 0 Axes>"
      ]
     },
     "metadata": {},
     "output_type": "display_data"
    },
    {
     "data": {
      "text/plain": [
       "<Figure size 432x288 with 0 Axes>"
      ]
     },
     "metadata": {},
     "output_type": "display_data"
    },
    {
     "data": {
      "text/plain": [
       "<Figure size 432x288 with 0 Axes>"
      ]
     },
     "metadata": {},
     "output_type": "display_data"
    },
    {
     "data": {
      "text/plain": [
       "<Figure size 432x288 with 0 Axes>"
      ]
     },
     "metadata": {},
     "output_type": "display_data"
    },
    {
     "data": {
      "text/plain": [
       "<Figure size 432x288 with 0 Axes>"
      ]
     },
     "metadata": {},
     "output_type": "display_data"
    },
    {
     "data": {
      "text/plain": [
       "<Figure size 432x288 with 0 Axes>"
      ]
     },
     "metadata": {},
     "output_type": "display_data"
    },
    {
     "data": {
      "text/plain": [
       "<Figure size 432x288 with 0 Axes>"
      ]
     },
     "metadata": {},
     "output_type": "display_data"
    },
    {
     "data": {
      "text/plain": [
       "<Figure size 432x288 with 0 Axes>"
      ]
     },
     "metadata": {},
     "output_type": "display_data"
    },
    {
     "data": {
      "text/plain": [
       "<Figure size 432x288 with 0 Axes>"
      ]
     },
     "metadata": {},
     "output_type": "display_data"
    },
    {
     "data": {
      "text/plain": [
       "<Figure size 432x288 with 0 Axes>"
      ]
     },
     "metadata": {},
     "output_type": "display_data"
    },
    {
     "data": {
      "text/plain": [
       "<Figure size 432x288 with 0 Axes>"
      ]
     },
     "metadata": {},
     "output_type": "display_data"
    },
    {
     "data": {
      "text/plain": [
       "<Figure size 432x288 with 0 Axes>"
      ]
     },
     "metadata": {},
     "output_type": "display_data"
    },
    {
     "data": {
      "text/plain": [
       "<Figure size 432x288 with 0 Axes>"
      ]
     },
     "metadata": {},
     "output_type": "display_data"
    },
    {
     "data": {
      "text/plain": [
       "<Figure size 432x288 with 0 Axes>"
      ]
     },
     "metadata": {},
     "output_type": "display_data"
    },
    {
     "data": {
      "text/plain": [
       "<Figure size 432x288 with 0 Axes>"
      ]
     },
     "metadata": {},
     "output_type": "display_data"
    },
    {
     "data": {
      "text/plain": [
       "<Figure size 432x288 with 0 Axes>"
      ]
     },
     "metadata": {},
     "output_type": "display_data"
    },
    {
     "data": {
      "text/plain": [
       "<Figure size 432x288 with 0 Axes>"
      ]
     },
     "metadata": {},
     "output_type": "display_data"
    },
    {
     "data": {
      "text/plain": [
       "<Figure size 432x288 with 0 Axes>"
      ]
     },
     "metadata": {},
     "output_type": "display_data"
    },
    {
     "data": {
      "text/plain": [
       "<Figure size 432x288 with 0 Axes>"
      ]
     },
     "metadata": {},
     "output_type": "display_data"
    },
    {
     "data": {
      "text/plain": [
       "<Figure size 432x288 with 0 Axes>"
      ]
     },
     "metadata": {},
     "output_type": "display_data"
    },
    {
     "data": {
      "text/plain": [
       "<Figure size 432x288 with 0 Axes>"
      ]
     },
     "metadata": {},
     "output_type": "display_data"
    },
    {
     "data": {
      "text/plain": [
       "<Figure size 432x288 with 0 Axes>"
      ]
     },
     "metadata": {},
     "output_type": "display_data"
    },
    {
     "data": {
      "text/plain": [
       "<Figure size 432x288 with 0 Axes>"
      ]
     },
     "metadata": {},
     "output_type": "display_data"
    },
    {
     "data": {
      "text/plain": [
       "<Figure size 432x288 with 0 Axes>"
      ]
     },
     "metadata": {},
     "output_type": "display_data"
    },
    {
     "data": {
      "text/plain": [
       "<Figure size 432x288 with 0 Axes>"
      ]
     },
     "metadata": {},
     "output_type": "display_data"
    },
    {
     "data": {
      "text/plain": [
       "<Figure size 432x288 with 0 Axes>"
      ]
     },
     "metadata": {},
     "output_type": "display_data"
    },
    {
     "data": {
      "text/plain": [
       "<Figure size 432x288 with 0 Axes>"
      ]
     },
     "metadata": {},
     "output_type": "display_data"
    },
    {
     "data": {
      "text/plain": [
       "<Figure size 432x288 with 0 Axes>"
      ]
     },
     "metadata": {},
     "output_type": "display_data"
    },
    {
     "data": {
      "text/plain": [
       "<Figure size 432x288 with 0 Axes>"
      ]
     },
     "metadata": {},
     "output_type": "display_data"
    },
    {
     "data": {
      "text/plain": [
       "<Figure size 432x288 with 0 Axes>"
      ]
     },
     "metadata": {},
     "output_type": "display_data"
    },
    {
     "data": {
      "text/plain": [
       "<Figure size 432x288 with 0 Axes>"
      ]
     },
     "metadata": {},
     "output_type": "display_data"
    },
    {
     "data": {
      "text/plain": [
       "<Figure size 432x288 with 0 Axes>"
      ]
     },
     "metadata": {},
     "output_type": "display_data"
    },
    {
     "data": {
      "text/plain": [
       "<Figure size 432x288 with 0 Axes>"
      ]
     },
     "metadata": {},
     "output_type": "display_data"
    },
    {
     "data": {
      "text/plain": [
       "<Figure size 432x288 with 0 Axes>"
      ]
     },
     "metadata": {},
     "output_type": "display_data"
    },
    {
     "data": {
      "text/plain": [
       "<Figure size 432x288 with 0 Axes>"
      ]
     },
     "metadata": {},
     "output_type": "display_data"
    },
    {
     "data": {
      "text/plain": [
       "<Figure size 432x288 with 0 Axes>"
      ]
     },
     "metadata": {},
     "output_type": "display_data"
    },
    {
     "data": {
      "text/plain": [
       "<Figure size 432x288 with 0 Axes>"
      ]
     },
     "metadata": {},
     "output_type": "display_data"
    },
    {
     "data": {
      "text/plain": [
       "<Figure size 432x288 with 0 Axes>"
      ]
     },
     "metadata": {},
     "output_type": "display_data"
    },
    {
     "data": {
      "text/plain": [
       "<Figure size 432x288 with 0 Axes>"
      ]
     },
     "metadata": {},
     "output_type": "display_data"
    },
    {
     "data": {
      "text/plain": [
       "<Figure size 432x288 with 0 Axes>"
      ]
     },
     "metadata": {},
     "output_type": "display_data"
    },
    {
     "data": {
      "text/plain": [
       "<Figure size 432x288 with 0 Axes>"
      ]
     },
     "metadata": {},
     "output_type": "display_data"
    },
    {
     "data": {
      "text/plain": [
       "<Figure size 432x288 with 0 Axes>"
      ]
     },
     "metadata": {},
     "output_type": "display_data"
    },
    {
     "data": {
      "text/plain": [
       "<Figure size 432x288 with 0 Axes>"
      ]
     },
     "metadata": {},
     "output_type": "display_data"
    },
    {
     "data": {
      "text/plain": [
       "<Figure size 432x288 with 0 Axes>"
      ]
     },
     "metadata": {},
     "output_type": "display_data"
    },
    {
     "data": {
      "text/plain": [
       "<Figure size 432x288 with 0 Axes>"
      ]
     },
     "metadata": {},
     "output_type": "display_data"
    },
    {
     "data": {
      "text/plain": [
       "<Figure size 432x288 with 0 Axes>"
      ]
     },
     "metadata": {},
     "output_type": "display_data"
    },
    {
     "data": {
      "text/plain": [
       "<Figure size 432x288 with 0 Axes>"
      ]
     },
     "metadata": {},
     "output_type": "display_data"
    },
    {
     "data": {
      "text/plain": [
       "<Figure size 432x288 with 0 Axes>"
      ]
     },
     "metadata": {},
     "output_type": "display_data"
    },
    {
     "data": {
      "text/plain": [
       "<Figure size 432x288 with 0 Axes>"
      ]
     },
     "metadata": {},
     "output_type": "display_data"
    },
    {
     "data": {
      "text/plain": [
       "<Figure size 432x288 with 0 Axes>"
      ]
     },
     "metadata": {},
     "output_type": "display_data"
    },
    {
     "data": {
      "text/plain": [
       "<Figure size 432x288 with 0 Axes>"
      ]
     },
     "metadata": {},
     "output_type": "display_data"
    },
    {
     "data": {
      "text/plain": [
       "<Figure size 432x288 with 0 Axes>"
      ]
     },
     "metadata": {},
     "output_type": "display_data"
    },
    {
     "data": {
      "text/plain": [
       "<Figure size 432x288 with 0 Axes>"
      ]
     },
     "metadata": {},
     "output_type": "display_data"
    },
    {
     "data": {
      "text/plain": [
       "<Figure size 432x288 with 0 Axes>"
      ]
     },
     "metadata": {},
     "output_type": "display_data"
    },
    {
     "data": {
      "text/plain": [
       "<Figure size 432x288 with 0 Axes>"
      ]
     },
     "metadata": {},
     "output_type": "display_data"
    },
    {
     "data": {
      "text/plain": [
       "<Figure size 432x288 with 0 Axes>"
      ]
     },
     "metadata": {},
     "output_type": "display_data"
    },
    {
     "data": {
      "text/plain": [
       "<Figure size 432x288 with 0 Axes>"
      ]
     },
     "metadata": {},
     "output_type": "display_data"
    },
    {
     "data": {
      "text/plain": [
       "<Figure size 432x288 with 0 Axes>"
      ]
     },
     "metadata": {},
     "output_type": "display_data"
    },
    {
     "data": {
      "text/plain": [
       "<Figure size 432x288 with 0 Axes>"
      ]
     },
     "metadata": {},
     "output_type": "display_data"
    },
    {
     "data": {
      "text/plain": [
       "<Figure size 432x288 with 0 Axes>"
      ]
     },
     "metadata": {},
     "output_type": "display_data"
    },
    {
     "data": {
      "text/plain": [
       "<Figure size 432x288 with 0 Axes>"
      ]
     },
     "metadata": {},
     "output_type": "display_data"
    },
    {
     "data": {
      "text/plain": [
       "<Figure size 432x288 with 0 Axes>"
      ]
     },
     "metadata": {},
     "output_type": "display_data"
    },
    {
     "data": {
      "text/plain": [
       "<Figure size 432x288 with 0 Axes>"
      ]
     },
     "metadata": {},
     "output_type": "display_data"
    },
    {
     "data": {
      "text/plain": [
       "<Figure size 432x288 with 0 Axes>"
      ]
     },
     "metadata": {},
     "output_type": "display_data"
    },
    {
     "data": {
      "text/plain": [
       "<Figure size 432x288 with 0 Axes>"
      ]
     },
     "metadata": {},
     "output_type": "display_data"
    },
    {
     "data": {
      "text/plain": [
       "<Figure size 432x288 with 0 Axes>"
      ]
     },
     "metadata": {},
     "output_type": "display_data"
    },
    {
     "data": {
      "text/plain": [
       "<Figure size 432x288 with 0 Axes>"
      ]
     },
     "metadata": {},
     "output_type": "display_data"
    },
    {
     "data": {
      "text/plain": [
       "<Figure size 432x288 with 0 Axes>"
      ]
     },
     "metadata": {},
     "output_type": "display_data"
    },
    {
     "data": {
      "text/plain": [
       "<Figure size 432x288 with 0 Axes>"
      ]
     },
     "metadata": {},
     "output_type": "display_data"
    },
    {
     "data": {
      "text/plain": [
       "<Figure size 432x288 with 0 Axes>"
      ]
     },
     "metadata": {},
     "output_type": "display_data"
    },
    {
     "data": {
      "text/plain": [
       "<Figure size 432x288 with 0 Axes>"
      ]
     },
     "metadata": {},
     "output_type": "display_data"
    },
    {
     "data": {
      "text/plain": [
       "<Figure size 432x288 with 0 Axes>"
      ]
     },
     "metadata": {},
     "output_type": "display_data"
    },
    {
     "data": {
      "text/plain": [
       "<Figure size 432x288 with 0 Axes>"
      ]
     },
     "metadata": {},
     "output_type": "display_data"
    },
    {
     "data": {
      "text/plain": [
       "<Figure size 432x288 with 0 Axes>"
      ]
     },
     "metadata": {},
     "output_type": "display_data"
    },
    {
     "data": {
      "text/plain": [
       "<Figure size 432x288 with 0 Axes>"
      ]
     },
     "metadata": {},
     "output_type": "display_data"
    },
    {
     "data": {
      "text/plain": [
       "<Figure size 432x288 with 0 Axes>"
      ]
     },
     "metadata": {},
     "output_type": "display_data"
    },
    {
     "data": {
      "text/plain": [
       "<Figure size 432x288 with 0 Axes>"
      ]
     },
     "metadata": {},
     "output_type": "display_data"
    },
    {
     "data": {
      "text/plain": [
       "<Figure size 432x288 with 0 Axes>"
      ]
     },
     "metadata": {},
     "output_type": "display_data"
    },
    {
     "data": {
      "text/plain": [
       "<Figure size 432x288 with 0 Axes>"
      ]
     },
     "metadata": {},
     "output_type": "display_data"
    },
    {
     "data": {
      "text/plain": [
       "<Figure size 432x288 with 0 Axes>"
      ]
     },
     "metadata": {},
     "output_type": "display_data"
    },
    {
     "data": {
      "text/plain": [
       "<Figure size 432x288 with 0 Axes>"
      ]
     },
     "metadata": {},
     "output_type": "display_data"
    },
    {
     "data": {
      "text/plain": [
       "<Figure size 432x288 with 0 Axes>"
      ]
     },
     "metadata": {},
     "output_type": "display_data"
    },
    {
     "data": {
      "text/plain": [
       "<Figure size 432x288 with 0 Axes>"
      ]
     },
     "metadata": {},
     "output_type": "display_data"
    },
    {
     "data": {
      "text/plain": [
       "<Figure size 432x288 with 0 Axes>"
      ]
     },
     "metadata": {},
     "output_type": "display_data"
    },
    {
     "data": {
      "text/plain": [
       "<Figure size 432x288 with 0 Axes>"
      ]
     },
     "metadata": {},
     "output_type": "display_data"
    },
    {
     "data": {
      "text/plain": [
       "<Figure size 432x288 with 0 Axes>"
      ]
     },
     "metadata": {},
     "output_type": "display_data"
    },
    {
     "data": {
      "text/plain": [
       "<Figure size 432x288 with 0 Axes>"
      ]
     },
     "metadata": {},
     "output_type": "display_data"
    },
    {
     "data": {
      "text/plain": [
       "<Figure size 432x288 with 0 Axes>"
      ]
     },
     "metadata": {},
     "output_type": "display_data"
    },
    {
     "data": {
      "text/plain": [
       "<Figure size 432x288 with 0 Axes>"
      ]
     },
     "metadata": {},
     "output_type": "display_data"
    },
    {
     "data": {
      "text/plain": [
       "<Figure size 432x288 with 0 Axes>"
      ]
     },
     "metadata": {},
     "output_type": "display_data"
    },
    {
     "data": {
      "text/plain": [
       "<Figure size 432x288 with 0 Axes>"
      ]
     },
     "metadata": {},
     "output_type": "display_data"
    },
    {
     "data": {
      "text/plain": [
       "<Figure size 432x288 with 0 Axes>"
      ]
     },
     "metadata": {},
     "output_type": "display_data"
    },
    {
     "data": {
      "text/plain": [
       "<Figure size 432x288 with 0 Axes>"
      ]
     },
     "metadata": {},
     "output_type": "display_data"
    },
    {
     "data": {
      "text/plain": [
       "<Figure size 432x288 with 0 Axes>"
      ]
     },
     "metadata": {},
     "output_type": "display_data"
    },
    {
     "data": {
      "text/plain": [
       "<Figure size 432x288 with 0 Axes>"
      ]
     },
     "metadata": {},
     "output_type": "display_data"
    },
    {
     "data": {
      "text/plain": [
       "<Figure size 432x288 with 0 Axes>"
      ]
     },
     "metadata": {},
     "output_type": "display_data"
    },
    {
     "data": {
      "text/plain": [
       "<Figure size 432x288 with 0 Axes>"
      ]
     },
     "metadata": {},
     "output_type": "display_data"
    },
    {
     "data": {
      "text/plain": [
       "<Figure size 432x288 with 0 Axes>"
      ]
     },
     "metadata": {},
     "output_type": "display_data"
    },
    {
     "data": {
      "text/plain": [
       "<Figure size 432x288 with 0 Axes>"
      ]
     },
     "metadata": {},
     "output_type": "display_data"
    },
    {
     "data": {
      "text/plain": [
       "<Figure size 432x288 with 0 Axes>"
      ]
     },
     "metadata": {},
     "output_type": "display_data"
    },
    {
     "data": {
      "text/plain": [
       "<Figure size 432x288 with 0 Axes>"
      ]
     },
     "metadata": {},
     "output_type": "display_data"
    },
    {
     "data": {
      "text/plain": [
       "<Figure size 432x288 with 0 Axes>"
      ]
     },
     "metadata": {},
     "output_type": "display_data"
    },
    {
     "data": {
      "text/plain": [
       "<Figure size 432x288 with 0 Axes>"
      ]
     },
     "metadata": {},
     "output_type": "display_data"
    },
    {
     "data": {
      "text/plain": [
       "<Figure size 432x288 with 0 Axes>"
      ]
     },
     "metadata": {},
     "output_type": "display_data"
    },
    {
     "data": {
      "text/plain": [
       "<Figure size 432x288 with 0 Axes>"
      ]
     },
     "metadata": {},
     "output_type": "display_data"
    },
    {
     "data": {
      "text/plain": [
       "<Figure size 432x288 with 0 Axes>"
      ]
     },
     "metadata": {},
     "output_type": "display_data"
    },
    {
     "data": {
      "text/plain": [
       "<Figure size 432x288 with 0 Axes>"
      ]
     },
     "metadata": {},
     "output_type": "display_data"
    },
    {
     "data": {
      "text/plain": [
       "<Figure size 432x288 with 0 Axes>"
      ]
     },
     "metadata": {},
     "output_type": "display_data"
    },
    {
     "data": {
      "text/plain": [
       "<Figure size 432x288 with 0 Axes>"
      ]
     },
     "metadata": {},
     "output_type": "display_data"
    },
    {
     "data": {
      "text/plain": [
       "<Figure size 432x288 with 0 Axes>"
      ]
     },
     "metadata": {},
     "output_type": "display_data"
    },
    {
     "data": {
      "text/plain": [
       "<Figure size 432x288 with 0 Axes>"
      ]
     },
     "metadata": {},
     "output_type": "display_data"
    },
    {
     "data": {
      "text/plain": [
       "<Figure size 432x288 with 0 Axes>"
      ]
     },
     "metadata": {},
     "output_type": "display_data"
    },
    {
     "data": {
      "text/plain": [
       "<Figure size 432x288 with 0 Axes>"
      ]
     },
     "metadata": {},
     "output_type": "display_data"
    },
    {
     "data": {
      "text/plain": [
       "<Figure size 432x288 with 0 Axes>"
      ]
     },
     "metadata": {},
     "output_type": "display_data"
    },
    {
     "data": {
      "text/plain": [
       "<Figure size 432x288 with 0 Axes>"
      ]
     },
     "metadata": {},
     "output_type": "display_data"
    },
    {
     "data": {
      "text/plain": [
       "<Figure size 432x288 with 0 Axes>"
      ]
     },
     "metadata": {},
     "output_type": "display_data"
    },
    {
     "data": {
      "text/plain": [
       "<Figure size 432x288 with 0 Axes>"
      ]
     },
     "metadata": {},
     "output_type": "display_data"
    },
    {
     "data": {
      "text/plain": [
       "<Figure size 432x288 with 0 Axes>"
      ]
     },
     "metadata": {},
     "output_type": "display_data"
    },
    {
     "data": {
      "text/plain": [
       "<Figure size 432x288 with 0 Axes>"
      ]
     },
     "metadata": {},
     "output_type": "display_data"
    },
    {
     "data": {
      "text/plain": [
       "<Figure size 432x288 with 0 Axes>"
      ]
     },
     "metadata": {},
     "output_type": "display_data"
    },
    {
     "data": {
      "text/plain": [
       "<Figure size 432x288 with 0 Axes>"
      ]
     },
     "metadata": {},
     "output_type": "display_data"
    },
    {
     "data": {
      "text/plain": [
       "<Figure size 432x288 with 0 Axes>"
      ]
     },
     "metadata": {},
     "output_type": "display_data"
    },
    {
     "data": {
      "text/plain": [
       "<Figure size 432x288 with 0 Axes>"
      ]
     },
     "metadata": {},
     "output_type": "display_data"
    },
    {
     "data": {
      "text/plain": [
       "<Figure size 432x288 with 0 Axes>"
      ]
     },
     "metadata": {},
     "output_type": "display_data"
    },
    {
     "data": {
      "text/plain": [
       "<Figure size 432x288 with 0 Axes>"
      ]
     },
     "metadata": {},
     "output_type": "display_data"
    },
    {
     "data": {
      "text/plain": [
       "<Figure size 432x288 with 0 Axes>"
      ]
     },
     "metadata": {},
     "output_type": "display_data"
    },
    {
     "data": {
      "text/plain": [
       "<Figure size 432x288 with 0 Axes>"
      ]
     },
     "metadata": {},
     "output_type": "display_data"
    },
    {
     "data": {
      "text/plain": [
       "<Figure size 432x288 with 0 Axes>"
      ]
     },
     "metadata": {},
     "output_type": "display_data"
    },
    {
     "data": {
      "text/plain": [
       "<Figure size 432x288 with 0 Axes>"
      ]
     },
     "metadata": {},
     "output_type": "display_data"
    },
    {
     "data": {
      "text/plain": [
       "<Figure size 432x288 with 0 Axes>"
      ]
     },
     "metadata": {},
     "output_type": "display_data"
    },
    {
     "data": {
      "text/plain": [
       "<Figure size 432x288 with 0 Axes>"
      ]
     },
     "metadata": {},
     "output_type": "display_data"
    },
    {
     "data": {
      "text/plain": [
       "<Figure size 432x288 with 0 Axes>"
      ]
     },
     "metadata": {},
     "output_type": "display_data"
    },
    {
     "data": {
      "text/plain": [
       "<Figure size 432x288 with 0 Axes>"
      ]
     },
     "metadata": {},
     "output_type": "display_data"
    },
    {
     "data": {
      "text/plain": [
       "<Figure size 432x288 with 0 Axes>"
      ]
     },
     "metadata": {},
     "output_type": "display_data"
    },
    {
     "data": {
      "text/plain": [
       "<Figure size 432x288 with 0 Axes>"
      ]
     },
     "metadata": {},
     "output_type": "display_data"
    },
    {
     "data": {
      "text/plain": [
       "<Figure size 432x288 with 0 Axes>"
      ]
     },
     "metadata": {},
     "output_type": "display_data"
    },
    {
     "data": {
      "text/plain": [
       "<Figure size 432x288 with 0 Axes>"
      ]
     },
     "metadata": {},
     "output_type": "display_data"
    },
    {
     "data": {
      "text/plain": [
       "<Figure size 432x288 with 0 Axes>"
      ]
     },
     "metadata": {},
     "output_type": "display_data"
    },
    {
     "data": {
      "text/plain": [
       "<Figure size 432x288 with 0 Axes>"
      ]
     },
     "metadata": {},
     "output_type": "display_data"
    },
    {
     "data": {
      "text/plain": [
       "<Figure size 432x288 with 0 Axes>"
      ]
     },
     "metadata": {},
     "output_type": "display_data"
    },
    {
     "data": {
      "text/plain": [
       "<Figure size 432x288 with 0 Axes>"
      ]
     },
     "metadata": {},
     "output_type": "display_data"
    },
    {
     "data": {
      "text/plain": [
       "<Figure size 432x288 with 0 Axes>"
      ]
     },
     "metadata": {},
     "output_type": "display_data"
    },
    {
     "data": {
      "text/plain": [
       "<Figure size 432x288 with 0 Axes>"
      ]
     },
     "metadata": {},
     "output_type": "display_data"
    },
    {
     "data": {
      "text/plain": [
       "<Figure size 432x288 with 0 Axes>"
      ]
     },
     "metadata": {},
     "output_type": "display_data"
    },
    {
     "data": {
      "text/plain": [
       "<Figure size 432x288 with 0 Axes>"
      ]
     },
     "metadata": {},
     "output_type": "display_data"
    },
    {
     "data": {
      "text/plain": [
       "<Figure size 432x288 with 0 Axes>"
      ]
     },
     "metadata": {},
     "output_type": "display_data"
    },
    {
     "data": {
      "text/plain": [
       "<Figure size 432x288 with 0 Axes>"
      ]
     },
     "metadata": {},
     "output_type": "display_data"
    },
    {
     "data": {
      "text/plain": [
       "<Figure size 432x288 with 0 Axes>"
      ]
     },
     "metadata": {},
     "output_type": "display_data"
    },
    {
     "data": {
      "text/plain": [
       "<Figure size 432x288 with 0 Axes>"
      ]
     },
     "metadata": {},
     "output_type": "display_data"
    },
    {
     "data": {
      "text/plain": [
       "<Figure size 432x288 with 0 Axes>"
      ]
     },
     "metadata": {},
     "output_type": "display_data"
    },
    {
     "data": {
      "text/plain": [
       "<Figure size 432x288 with 0 Axes>"
      ]
     },
     "metadata": {},
     "output_type": "display_data"
    },
    {
     "data": {
      "text/plain": [
       "<Figure size 432x288 with 0 Axes>"
      ]
     },
     "metadata": {},
     "output_type": "display_data"
    },
    {
     "data": {
      "text/plain": [
       "<Figure size 432x288 with 0 Axes>"
      ]
     },
     "metadata": {},
     "output_type": "display_data"
    },
    {
     "data": {
      "text/plain": [
       "<Figure size 432x288 with 0 Axes>"
      ]
     },
     "metadata": {},
     "output_type": "display_data"
    },
    {
     "data": {
      "text/plain": [
       "<Figure size 432x288 with 0 Axes>"
      ]
     },
     "metadata": {},
     "output_type": "display_data"
    },
    {
     "data": {
      "text/plain": [
       "<Figure size 432x288 with 0 Axes>"
      ]
     },
     "metadata": {},
     "output_type": "display_data"
    },
    {
     "data": {
      "text/plain": [
       "<Figure size 432x288 with 0 Axes>"
      ]
     },
     "metadata": {},
     "output_type": "display_data"
    },
    {
     "data": {
      "text/plain": [
       "<Figure size 432x288 with 0 Axes>"
      ]
     },
     "metadata": {},
     "output_type": "display_data"
    },
    {
     "data": {
      "text/plain": [
       "<Figure size 432x288 with 0 Axes>"
      ]
     },
     "metadata": {},
     "output_type": "display_data"
    },
    {
     "data": {
      "text/plain": [
       "<Figure size 432x288 with 0 Axes>"
      ]
     },
     "metadata": {},
     "output_type": "display_data"
    },
    {
     "data": {
      "text/plain": [
       "<Figure size 432x288 with 0 Axes>"
      ]
     },
     "metadata": {},
     "output_type": "display_data"
    },
    {
     "data": {
      "text/plain": [
       "<Figure size 432x288 with 0 Axes>"
      ]
     },
     "metadata": {},
     "output_type": "display_data"
    },
    {
     "data": {
      "text/plain": [
       "<Figure size 432x288 with 0 Axes>"
      ]
     },
     "metadata": {},
     "output_type": "display_data"
    },
    {
     "data": {
      "text/plain": [
       "<Figure size 432x288 with 0 Axes>"
      ]
     },
     "metadata": {},
     "output_type": "display_data"
    },
    {
     "data": {
      "text/plain": [
       "<Figure size 432x288 with 0 Axes>"
      ]
     },
     "metadata": {},
     "output_type": "display_data"
    },
    {
     "data": {
      "text/plain": [
       "<Figure size 432x288 with 0 Axes>"
      ]
     },
     "metadata": {},
     "output_type": "display_data"
    },
    {
     "data": {
      "text/plain": [
       "<Figure size 432x288 with 0 Axes>"
      ]
     },
     "metadata": {},
     "output_type": "display_data"
    },
    {
     "data": {
      "text/plain": [
       "<Figure size 432x288 with 0 Axes>"
      ]
     },
     "metadata": {},
     "output_type": "display_data"
    },
    {
     "data": {
      "text/plain": [
       "<Figure size 432x288 with 0 Axes>"
      ]
     },
     "metadata": {},
     "output_type": "display_data"
    },
    {
     "data": {
      "text/plain": [
       "<Figure size 432x288 with 0 Axes>"
      ]
     },
     "metadata": {},
     "output_type": "display_data"
    },
    {
     "data": {
      "text/plain": [
       "<Figure size 432x288 with 0 Axes>"
      ]
     },
     "metadata": {},
     "output_type": "display_data"
    },
    {
     "data": {
      "text/plain": [
       "<Figure size 432x288 with 0 Axes>"
      ]
     },
     "metadata": {},
     "output_type": "display_data"
    },
    {
     "data": {
      "text/plain": [
       "<Figure size 432x288 with 0 Axes>"
      ]
     },
     "metadata": {},
     "output_type": "display_data"
    },
    {
     "data": {
      "text/plain": [
       "<Figure size 432x288 with 0 Axes>"
      ]
     },
     "metadata": {},
     "output_type": "display_data"
    },
    {
     "data": {
      "text/plain": [
       "<Figure size 432x288 with 0 Axes>"
      ]
     },
     "metadata": {},
     "output_type": "display_data"
    },
    {
     "data": {
      "text/plain": [
       "<Figure size 432x288 with 0 Axes>"
      ]
     },
     "metadata": {},
     "output_type": "display_data"
    },
    {
     "data": {
      "text/plain": [
       "<Figure size 432x288 with 0 Axes>"
      ]
     },
     "metadata": {},
     "output_type": "display_data"
    },
    {
     "data": {
      "text/plain": [
       "<Figure size 432x288 with 0 Axes>"
      ]
     },
     "metadata": {},
     "output_type": "display_data"
    },
    {
     "data": {
      "text/plain": [
       "<Figure size 432x288 with 0 Axes>"
      ]
     },
     "metadata": {},
     "output_type": "display_data"
    },
    {
     "data": {
      "text/plain": [
       "<Figure size 432x288 with 0 Axes>"
      ]
     },
     "metadata": {},
     "output_type": "display_data"
    },
    {
     "data": {
      "text/plain": [
       "<Figure size 432x288 with 0 Axes>"
      ]
     },
     "metadata": {},
     "output_type": "display_data"
    },
    {
     "data": {
      "text/plain": [
       "<Figure size 432x288 with 0 Axes>"
      ]
     },
     "metadata": {},
     "output_type": "display_data"
    },
    {
     "data": {
      "text/plain": [
       "<Figure size 432x288 with 0 Axes>"
      ]
     },
     "metadata": {},
     "output_type": "display_data"
    },
    {
     "data": {
      "text/plain": [
       "<Figure size 432x288 with 0 Axes>"
      ]
     },
     "metadata": {},
     "output_type": "display_data"
    },
    {
     "data": {
      "text/plain": [
       "<Figure size 432x288 with 0 Axes>"
      ]
     },
     "metadata": {},
     "output_type": "display_data"
    },
    {
     "data": {
      "text/plain": [
       "<Figure size 432x288 with 0 Axes>"
      ]
     },
     "metadata": {},
     "output_type": "display_data"
    },
    {
     "data": {
      "text/plain": [
       "<Figure size 432x288 with 0 Axes>"
      ]
     },
     "metadata": {},
     "output_type": "display_data"
    },
    {
     "data": {
      "text/plain": [
       "<Figure size 432x288 with 0 Axes>"
      ]
     },
     "metadata": {},
     "output_type": "display_data"
    },
    {
     "data": {
      "text/plain": [
       "<Figure size 432x288 with 0 Axes>"
      ]
     },
     "metadata": {},
     "output_type": "display_data"
    },
    {
     "data": {
      "text/plain": [
       "<Figure size 432x288 with 0 Axes>"
      ]
     },
     "metadata": {},
     "output_type": "display_data"
    },
    {
     "data": {
      "text/plain": [
       "<Figure size 432x288 with 0 Axes>"
      ]
     },
     "metadata": {},
     "output_type": "display_data"
    },
    {
     "data": {
      "text/plain": [
       "<Figure size 432x288 with 0 Axes>"
      ]
     },
     "metadata": {},
     "output_type": "display_data"
    },
    {
     "data": {
      "text/plain": [
       "<Figure size 432x288 with 0 Axes>"
      ]
     },
     "metadata": {},
     "output_type": "display_data"
    },
    {
     "data": {
      "text/plain": [
       "<Figure size 432x288 with 0 Axes>"
      ]
     },
     "metadata": {},
     "output_type": "display_data"
    },
    {
     "data": {
      "text/plain": [
       "<Figure size 432x288 with 0 Axes>"
      ]
     },
     "metadata": {},
     "output_type": "display_data"
    },
    {
     "data": {
      "text/plain": [
       "<Figure size 432x288 with 0 Axes>"
      ]
     },
     "metadata": {},
     "output_type": "display_data"
    },
    {
     "data": {
      "text/plain": [
       "<Figure size 432x288 with 0 Axes>"
      ]
     },
     "metadata": {},
     "output_type": "display_data"
    },
    {
     "data": {
      "text/plain": [
       "<Figure size 432x288 with 0 Axes>"
      ]
     },
     "metadata": {},
     "output_type": "display_data"
    },
    {
     "data": {
      "text/plain": [
       "<Figure size 432x288 with 0 Axes>"
      ]
     },
     "metadata": {},
     "output_type": "display_data"
    },
    {
     "data": {
      "text/plain": [
       "<Figure size 432x288 with 0 Axes>"
      ]
     },
     "metadata": {},
     "output_type": "display_data"
    },
    {
     "data": {
      "text/plain": [
       "<Figure size 432x288 with 0 Axes>"
      ]
     },
     "metadata": {},
     "output_type": "display_data"
    },
    {
     "data": {
      "text/plain": [
       "<Figure size 432x288 with 0 Axes>"
      ]
     },
     "metadata": {},
     "output_type": "display_data"
    },
    {
     "data": {
      "text/plain": [
       "<Figure size 432x288 with 0 Axes>"
      ]
     },
     "metadata": {},
     "output_type": "display_data"
    },
    {
     "data": {
      "text/plain": [
       "<Figure size 432x288 with 0 Axes>"
      ]
     },
     "metadata": {},
     "output_type": "display_data"
    },
    {
     "data": {
      "text/plain": [
       "<Figure size 432x288 with 0 Axes>"
      ]
     },
     "metadata": {},
     "output_type": "display_data"
    },
    {
     "data": {
      "text/plain": [
       "<Figure size 432x288 with 0 Axes>"
      ]
     },
     "metadata": {},
     "output_type": "display_data"
    },
    {
     "data": {
      "text/plain": [
       "<Figure size 432x288 with 0 Axes>"
      ]
     },
     "metadata": {},
     "output_type": "display_data"
    },
    {
     "data": {
      "text/plain": [
       "<Figure size 432x288 with 0 Axes>"
      ]
     },
     "metadata": {},
     "output_type": "display_data"
    },
    {
     "data": {
      "text/plain": [
       "<Figure size 432x288 with 0 Axes>"
      ]
     },
     "metadata": {},
     "output_type": "display_data"
    },
    {
     "data": {
      "text/plain": [
       "<Figure size 432x288 with 0 Axes>"
      ]
     },
     "metadata": {},
     "output_type": "display_data"
    },
    {
     "data": {
      "text/plain": [
       "<Figure size 432x288 with 0 Axes>"
      ]
     },
     "metadata": {},
     "output_type": "display_data"
    },
    {
     "data": {
      "text/plain": [
       "<Figure size 432x288 with 0 Axes>"
      ]
     },
     "metadata": {},
     "output_type": "display_data"
    },
    {
     "data": {
      "text/plain": [
       "<Figure size 432x288 with 0 Axes>"
      ]
     },
     "metadata": {},
     "output_type": "display_data"
    },
    {
     "data": {
      "text/plain": [
       "<Figure size 432x288 with 0 Axes>"
      ]
     },
     "metadata": {},
     "output_type": "display_data"
    },
    {
     "data": {
      "text/plain": [
       "<Figure size 432x288 with 0 Axes>"
      ]
     },
     "metadata": {},
     "output_type": "display_data"
    },
    {
     "data": {
      "text/plain": [
       "<Figure size 432x288 with 0 Axes>"
      ]
     },
     "metadata": {},
     "output_type": "display_data"
    },
    {
     "data": {
      "text/plain": [
       "<Figure size 432x288 with 0 Axes>"
      ]
     },
     "metadata": {},
     "output_type": "display_data"
    },
    {
     "data": {
      "text/plain": [
       "<Figure size 432x288 with 0 Axes>"
      ]
     },
     "metadata": {},
     "output_type": "display_data"
    },
    {
     "data": {
      "text/plain": [
       "<Figure size 432x288 with 0 Axes>"
      ]
     },
     "metadata": {},
     "output_type": "display_data"
    },
    {
     "data": {
      "text/plain": [
       "<Figure size 432x288 with 0 Axes>"
      ]
     },
     "metadata": {},
     "output_type": "display_data"
    },
    {
     "data": {
      "text/plain": [
       "<Figure size 432x288 with 0 Axes>"
      ]
     },
     "metadata": {},
     "output_type": "display_data"
    },
    {
     "data": {
      "text/plain": [
       "<Figure size 432x288 with 0 Axes>"
      ]
     },
     "metadata": {},
     "output_type": "display_data"
    },
    {
     "data": {
      "text/plain": [
       "<Figure size 432x288 with 0 Axes>"
      ]
     },
     "metadata": {},
     "output_type": "display_data"
    },
    {
     "data": {
      "text/plain": [
       "<Figure size 432x288 with 0 Axes>"
      ]
     },
     "metadata": {},
     "output_type": "display_data"
    },
    {
     "data": {
      "text/plain": [
       "<Figure size 432x288 with 0 Axes>"
      ]
     },
     "metadata": {},
     "output_type": "display_data"
    },
    {
     "data": {
      "text/plain": [
       "<Figure size 432x288 with 0 Axes>"
      ]
     },
     "metadata": {},
     "output_type": "display_data"
    },
    {
     "data": {
      "text/plain": [
       "<Figure size 432x288 with 0 Axes>"
      ]
     },
     "metadata": {},
     "output_type": "display_data"
    },
    {
     "data": {
      "text/plain": [
       "<Figure size 432x288 with 0 Axes>"
      ]
     },
     "metadata": {},
     "output_type": "display_data"
    },
    {
     "data": {
      "text/plain": [
       "<Figure size 432x288 with 0 Axes>"
      ]
     },
     "metadata": {},
     "output_type": "display_data"
    },
    {
     "data": {
      "text/plain": [
       "<Figure size 432x288 with 0 Axes>"
      ]
     },
     "metadata": {},
     "output_type": "display_data"
    },
    {
     "data": {
      "text/plain": [
       "<Figure size 432x288 with 0 Axes>"
      ]
     },
     "metadata": {},
     "output_type": "display_data"
    },
    {
     "data": {
      "text/plain": [
       "<Figure size 432x288 with 0 Axes>"
      ]
     },
     "metadata": {},
     "output_type": "display_data"
    },
    {
     "data": {
      "text/plain": [
       "<Figure size 432x288 with 0 Axes>"
      ]
     },
     "metadata": {},
     "output_type": "display_data"
    },
    {
     "data": {
      "text/plain": [
       "<Figure size 432x288 with 0 Axes>"
      ]
     },
     "metadata": {},
     "output_type": "display_data"
    },
    {
     "data": {
      "text/plain": [
       "<Figure size 432x288 with 0 Axes>"
      ]
     },
     "metadata": {},
     "output_type": "display_data"
    },
    {
     "data": {
      "text/plain": [
       "<Figure size 432x288 with 0 Axes>"
      ]
     },
     "metadata": {},
     "output_type": "display_data"
    },
    {
     "data": {
      "text/plain": [
       "<Figure size 432x288 with 0 Axes>"
      ]
     },
     "metadata": {},
     "output_type": "display_data"
    },
    {
     "data": {
      "text/plain": [
       "<Figure size 432x288 with 0 Axes>"
      ]
     },
     "metadata": {},
     "output_type": "display_data"
    },
    {
     "data": {
      "text/plain": [
       "<Figure size 432x288 with 0 Axes>"
      ]
     },
     "metadata": {},
     "output_type": "display_data"
    },
    {
     "data": {
      "text/plain": [
       "<Figure size 432x288 with 0 Axes>"
      ]
     },
     "metadata": {},
     "output_type": "display_data"
    },
    {
     "data": {
      "text/plain": [
       "<Figure size 432x288 with 0 Axes>"
      ]
     },
     "metadata": {},
     "output_type": "display_data"
    },
    {
     "data": {
      "text/plain": [
       "<Figure size 432x288 with 0 Axes>"
      ]
     },
     "metadata": {},
     "output_type": "display_data"
    },
    {
     "data": {
      "text/plain": [
       "<Figure size 432x288 with 0 Axes>"
      ]
     },
     "metadata": {},
     "output_type": "display_data"
    },
    {
     "data": {
      "text/plain": [
       "<Figure size 432x288 with 0 Axes>"
      ]
     },
     "metadata": {},
     "output_type": "display_data"
    },
    {
     "data": {
      "text/plain": [
       "<Figure size 432x288 with 0 Axes>"
      ]
     },
     "metadata": {},
     "output_type": "display_data"
    },
    {
     "data": {
      "text/plain": [
       "<Figure size 432x288 with 0 Axes>"
      ]
     },
     "metadata": {},
     "output_type": "display_data"
    },
    {
     "data": {
      "text/plain": [
       "<Figure size 432x288 with 0 Axes>"
      ]
     },
     "metadata": {},
     "output_type": "display_data"
    },
    {
     "data": {
      "text/plain": [
       "<Figure size 432x288 with 0 Axes>"
      ]
     },
     "metadata": {},
     "output_type": "display_data"
    },
    {
     "data": {
      "text/plain": [
       "<Figure size 432x288 with 0 Axes>"
      ]
     },
     "metadata": {},
     "output_type": "display_data"
    },
    {
     "data": {
      "text/plain": [
       "<Figure size 432x288 with 0 Axes>"
      ]
     },
     "metadata": {},
     "output_type": "display_data"
    },
    {
     "data": {
      "text/plain": [
       "<Figure size 432x288 with 0 Axes>"
      ]
     },
     "metadata": {},
     "output_type": "display_data"
    },
    {
     "data": {
      "text/plain": [
       "<Figure size 432x288 with 0 Axes>"
      ]
     },
     "metadata": {},
     "output_type": "display_data"
    },
    {
     "data": {
      "text/plain": [
       "<Figure size 432x288 with 0 Axes>"
      ]
     },
     "metadata": {},
     "output_type": "display_data"
    },
    {
     "data": {
      "text/plain": [
       "<Figure size 432x288 with 0 Axes>"
      ]
     },
     "metadata": {},
     "output_type": "display_data"
    },
    {
     "data": {
      "text/plain": [
       "<Figure size 432x288 with 0 Axes>"
      ]
     },
     "metadata": {},
     "output_type": "display_data"
    },
    {
     "data": {
      "text/plain": [
       "<Figure size 432x288 with 0 Axes>"
      ]
     },
     "metadata": {},
     "output_type": "display_data"
    },
    {
     "data": {
      "text/plain": [
       "<Figure size 432x288 with 0 Axes>"
      ]
     },
     "metadata": {},
     "output_type": "display_data"
    },
    {
     "data": {
      "text/plain": [
       "<Figure size 432x288 with 0 Axes>"
      ]
     },
     "metadata": {},
     "output_type": "display_data"
    },
    {
     "data": {
      "text/plain": [
       "<Figure size 432x288 with 0 Axes>"
      ]
     },
     "metadata": {},
     "output_type": "display_data"
    },
    {
     "data": {
      "text/plain": [
       "<Figure size 432x288 with 0 Axes>"
      ]
     },
     "metadata": {},
     "output_type": "display_data"
    },
    {
     "data": {
      "text/plain": [
       "<Figure size 432x288 with 0 Axes>"
      ]
     },
     "metadata": {},
     "output_type": "display_data"
    },
    {
     "data": {
      "text/plain": [
       "<Figure size 432x288 with 0 Axes>"
      ]
     },
     "metadata": {},
     "output_type": "display_data"
    },
    {
     "data": {
      "text/plain": [
       "<Figure size 432x288 with 0 Axes>"
      ]
     },
     "metadata": {},
     "output_type": "display_data"
    },
    {
     "data": {
      "text/plain": [
       "<Figure size 432x288 with 0 Axes>"
      ]
     },
     "metadata": {},
     "output_type": "display_data"
    },
    {
     "data": {
      "text/plain": [
       "<Figure size 432x288 with 0 Axes>"
      ]
     },
     "metadata": {},
     "output_type": "display_data"
    },
    {
     "data": {
      "text/plain": [
       "<Figure size 432x288 with 0 Axes>"
      ]
     },
     "metadata": {},
     "output_type": "display_data"
    },
    {
     "data": {
      "text/plain": [
       "<Figure size 432x288 with 0 Axes>"
      ]
     },
     "metadata": {},
     "output_type": "display_data"
    },
    {
     "data": {
      "text/plain": [
       "<Figure size 432x288 with 0 Axes>"
      ]
     },
     "metadata": {},
     "output_type": "display_data"
    },
    {
     "data": {
      "text/plain": [
       "<Figure size 432x288 with 0 Axes>"
      ]
     },
     "metadata": {},
     "output_type": "display_data"
    },
    {
     "data": {
      "text/plain": [
       "<Figure size 432x288 with 0 Axes>"
      ]
     },
     "metadata": {},
     "output_type": "display_data"
    },
    {
     "data": {
      "text/plain": [
       "<Figure size 432x288 with 0 Axes>"
      ]
     },
     "metadata": {},
     "output_type": "display_data"
    },
    {
     "data": {
      "text/plain": [
       "<Figure size 432x288 with 0 Axes>"
      ]
     },
     "metadata": {},
     "output_type": "display_data"
    },
    {
     "data": {
      "text/plain": [
       "<Figure size 432x288 with 0 Axes>"
      ]
     },
     "metadata": {},
     "output_type": "display_data"
    },
    {
     "data": {
      "text/plain": [
       "<Figure size 432x288 with 0 Axes>"
      ]
     },
     "metadata": {},
     "output_type": "display_data"
    },
    {
     "data": {
      "text/plain": [
       "<Figure size 432x288 with 0 Axes>"
      ]
     },
     "metadata": {},
     "output_type": "display_data"
    },
    {
     "data": {
      "text/plain": [
       "<Figure size 432x288 with 0 Axes>"
      ]
     },
     "metadata": {},
     "output_type": "display_data"
    },
    {
     "data": {
      "text/plain": [
       "<Figure size 432x288 with 0 Axes>"
      ]
     },
     "metadata": {},
     "output_type": "display_data"
    },
    {
     "data": {
      "text/plain": [
       "<Figure size 432x288 with 0 Axes>"
      ]
     },
     "metadata": {},
     "output_type": "display_data"
    },
    {
     "data": {
      "text/plain": [
       "<Figure size 432x288 with 0 Axes>"
      ]
     },
     "metadata": {},
     "output_type": "display_data"
    },
    {
     "data": {
      "text/plain": [
       "<Figure size 432x288 with 0 Axes>"
      ]
     },
     "metadata": {},
     "output_type": "display_data"
    },
    {
     "data": {
      "text/plain": [
       "<Figure size 432x288 with 0 Axes>"
      ]
     },
     "metadata": {},
     "output_type": "display_data"
    },
    {
     "data": {
      "text/plain": [
       "<Figure size 432x288 with 0 Axes>"
      ]
     },
     "metadata": {},
     "output_type": "display_data"
    },
    {
     "data": {
      "text/plain": [
       "<Figure size 432x288 with 0 Axes>"
      ]
     },
     "metadata": {},
     "output_type": "display_data"
    },
    {
     "data": {
      "text/plain": [
       "<Figure size 432x288 with 0 Axes>"
      ]
     },
     "metadata": {},
     "output_type": "display_data"
    },
    {
     "data": {
      "text/plain": [
       "<Figure size 432x288 with 0 Axes>"
      ]
     },
     "metadata": {},
     "output_type": "display_data"
    },
    {
     "data": {
      "text/plain": [
       "<Figure size 432x288 with 0 Axes>"
      ]
     },
     "metadata": {},
     "output_type": "display_data"
    },
    {
     "data": {
      "text/plain": [
       "<Figure size 432x288 with 0 Axes>"
      ]
     },
     "metadata": {},
     "output_type": "display_data"
    },
    {
     "data": {
      "text/plain": [
       "<Figure size 432x288 with 0 Axes>"
      ]
     },
     "metadata": {},
     "output_type": "display_data"
    },
    {
     "data": {
      "text/plain": [
       "<Figure size 432x288 with 0 Axes>"
      ]
     },
     "metadata": {},
     "output_type": "display_data"
    },
    {
     "data": {
      "text/plain": [
       "<Figure size 432x288 with 0 Axes>"
      ]
     },
     "metadata": {},
     "output_type": "display_data"
    },
    {
     "data": {
      "text/plain": [
       "<Figure size 432x288 with 0 Axes>"
      ]
     },
     "metadata": {},
     "output_type": "display_data"
    },
    {
     "data": {
      "text/plain": [
       "<Figure size 432x288 with 0 Axes>"
      ]
     },
     "metadata": {},
     "output_type": "display_data"
    },
    {
     "data": {
      "text/plain": [
       "<Figure size 432x288 with 0 Axes>"
      ]
     },
     "metadata": {},
     "output_type": "display_data"
    },
    {
     "data": {
      "text/plain": [
       "<Figure size 432x288 with 0 Axes>"
      ]
     },
     "metadata": {},
     "output_type": "display_data"
    },
    {
     "data": {
      "text/plain": [
       "<Figure size 432x288 with 0 Axes>"
      ]
     },
     "metadata": {},
     "output_type": "display_data"
    },
    {
     "data": {
      "text/plain": [
       "<Figure size 432x288 with 0 Axes>"
      ]
     },
     "metadata": {},
     "output_type": "display_data"
    },
    {
     "data": {
      "text/plain": [
       "<Figure size 432x288 with 0 Axes>"
      ]
     },
     "metadata": {},
     "output_type": "display_data"
    },
    {
     "data": {
      "text/plain": [
       "<Figure size 432x288 with 0 Axes>"
      ]
     },
     "metadata": {},
     "output_type": "display_data"
    },
    {
     "data": {
      "text/plain": [
       "<Figure size 432x288 with 0 Axes>"
      ]
     },
     "metadata": {},
     "output_type": "display_data"
    },
    {
     "data": {
      "text/plain": [
       "<Figure size 432x288 with 0 Axes>"
      ]
     },
     "metadata": {},
     "output_type": "display_data"
    },
    {
     "data": {
      "text/plain": [
       "<Figure size 432x288 with 0 Axes>"
      ]
     },
     "metadata": {},
     "output_type": "display_data"
    },
    {
     "data": {
      "text/plain": [
       "<Figure size 432x288 with 0 Axes>"
      ]
     },
     "metadata": {},
     "output_type": "display_data"
    },
    {
     "data": {
      "text/plain": [
       "<Figure size 432x288 with 0 Axes>"
      ]
     },
     "metadata": {},
     "output_type": "display_data"
    },
    {
     "data": {
      "text/plain": [
       "<Figure size 432x288 with 0 Axes>"
      ]
     },
     "metadata": {},
     "output_type": "display_data"
    },
    {
     "data": {
      "text/plain": [
       "<Figure size 432x288 with 0 Axes>"
      ]
     },
     "metadata": {},
     "output_type": "display_data"
    },
    {
     "data": {
      "text/plain": [
       "<Figure size 432x288 with 0 Axes>"
      ]
     },
     "metadata": {},
     "output_type": "display_data"
    },
    {
     "data": {
      "text/plain": [
       "<Figure size 432x288 with 0 Axes>"
      ]
     },
     "metadata": {},
     "output_type": "display_data"
    },
    {
     "data": {
      "text/plain": [
       "<Figure size 432x288 with 0 Axes>"
      ]
     },
     "metadata": {},
     "output_type": "display_data"
    },
    {
     "data": {
      "text/plain": [
       "<Figure size 432x288 with 0 Axes>"
      ]
     },
     "metadata": {},
     "output_type": "display_data"
    },
    {
     "data": {
      "text/plain": [
       "<Figure size 432x288 with 0 Axes>"
      ]
     },
     "metadata": {},
     "output_type": "display_data"
    },
    {
     "data": {
      "text/plain": [
       "<Figure size 432x288 with 0 Axes>"
      ]
     },
     "metadata": {},
     "output_type": "display_data"
    },
    {
     "data": {
      "text/plain": [
       "<Figure size 432x288 with 0 Axes>"
      ]
     },
     "metadata": {},
     "output_type": "display_data"
    },
    {
     "data": {
      "text/plain": [
       "<Figure size 432x288 with 0 Axes>"
      ]
     },
     "metadata": {},
     "output_type": "display_data"
    },
    {
     "data": {
      "text/plain": [
       "<Figure size 432x288 with 0 Axes>"
      ]
     },
     "metadata": {},
     "output_type": "display_data"
    },
    {
     "data": {
      "text/plain": [
       "<Figure size 432x288 with 0 Axes>"
      ]
     },
     "metadata": {},
     "output_type": "display_data"
    },
    {
     "data": {
      "text/plain": [
       "<Figure size 432x288 with 0 Axes>"
      ]
     },
     "metadata": {},
     "output_type": "display_data"
    },
    {
     "data": {
      "text/plain": [
       "<Figure size 432x288 with 0 Axes>"
      ]
     },
     "metadata": {},
     "output_type": "display_data"
    },
    {
     "data": {
      "text/plain": [
       "<Figure size 432x288 with 0 Axes>"
      ]
     },
     "metadata": {},
     "output_type": "display_data"
    },
    {
     "data": {
      "text/plain": [
       "<Figure size 432x288 with 0 Axes>"
      ]
     },
     "metadata": {},
     "output_type": "display_data"
    },
    {
     "data": {
      "text/plain": [
       "<Figure size 432x288 with 0 Axes>"
      ]
     },
     "metadata": {},
     "output_type": "display_data"
    },
    {
     "data": {
      "text/plain": [
       "<Figure size 432x288 with 0 Axes>"
      ]
     },
     "metadata": {},
     "output_type": "display_data"
    },
    {
     "data": {
      "text/plain": [
       "<Figure size 432x288 with 0 Axes>"
      ]
     },
     "metadata": {},
     "output_type": "display_data"
    },
    {
     "data": {
      "text/plain": [
       "<Figure size 432x288 with 0 Axes>"
      ]
     },
     "metadata": {},
     "output_type": "display_data"
    },
    {
     "data": {
      "text/plain": [
       "<Figure size 432x288 with 0 Axes>"
      ]
     },
     "metadata": {},
     "output_type": "display_data"
    },
    {
     "data": {
      "text/plain": [
       "<Figure size 432x288 with 0 Axes>"
      ]
     },
     "metadata": {},
     "output_type": "display_data"
    },
    {
     "data": {
      "text/plain": [
       "<Figure size 432x288 with 0 Axes>"
      ]
     },
     "metadata": {},
     "output_type": "display_data"
    },
    {
     "data": {
      "text/plain": [
       "<Figure size 432x288 with 0 Axes>"
      ]
     },
     "metadata": {},
     "output_type": "display_data"
    },
    {
     "data": {
      "text/plain": [
       "<Figure size 432x288 with 0 Axes>"
      ]
     },
     "metadata": {},
     "output_type": "display_data"
    },
    {
     "data": {
      "text/plain": [
       "<Figure size 432x288 with 0 Axes>"
      ]
     },
     "metadata": {},
     "output_type": "display_data"
    },
    {
     "data": {
      "text/plain": [
       "<Figure size 432x288 with 0 Axes>"
      ]
     },
     "metadata": {},
     "output_type": "display_data"
    },
    {
     "data": {
      "text/plain": [
       "<Figure size 432x288 with 0 Axes>"
      ]
     },
     "metadata": {},
     "output_type": "display_data"
    },
    {
     "data": {
      "text/plain": [
       "<Figure size 432x288 with 0 Axes>"
      ]
     },
     "metadata": {},
     "output_type": "display_data"
    },
    {
     "data": {
      "text/plain": [
       "<Figure size 432x288 with 0 Axes>"
      ]
     },
     "metadata": {},
     "output_type": "display_data"
    },
    {
     "data": {
      "text/plain": [
       "<Figure size 432x288 with 0 Axes>"
      ]
     },
     "metadata": {},
     "output_type": "display_data"
    },
    {
     "data": {
      "text/plain": [
       "<Figure size 432x288 with 0 Axes>"
      ]
     },
     "metadata": {},
     "output_type": "display_data"
    },
    {
     "data": {
      "text/plain": [
       "<Figure size 432x288 with 0 Axes>"
      ]
     },
     "metadata": {},
     "output_type": "display_data"
    },
    {
     "data": {
      "text/plain": [
       "<Figure size 432x288 with 0 Axes>"
      ]
     },
     "metadata": {},
     "output_type": "display_data"
    },
    {
     "data": {
      "text/plain": [
       "<Figure size 432x288 with 0 Axes>"
      ]
     },
     "metadata": {},
     "output_type": "display_data"
    },
    {
     "data": {
      "text/plain": [
       "<Figure size 432x288 with 0 Axes>"
      ]
     },
     "metadata": {},
     "output_type": "display_data"
    },
    {
     "data": {
      "text/plain": [
       "<Figure size 432x288 with 0 Axes>"
      ]
     },
     "metadata": {},
     "output_type": "display_data"
    },
    {
     "data": {
      "text/plain": [
       "<Figure size 432x288 with 0 Axes>"
      ]
     },
     "metadata": {},
     "output_type": "display_data"
    },
    {
     "data": {
      "text/plain": [
       "<Figure size 432x288 with 0 Axes>"
      ]
     },
     "metadata": {},
     "output_type": "display_data"
    },
    {
     "data": {
      "text/plain": [
       "<Figure size 432x288 with 0 Axes>"
      ]
     },
     "metadata": {},
     "output_type": "display_data"
    },
    {
     "data": {
      "text/plain": [
       "<Figure size 432x288 with 0 Axes>"
      ]
     },
     "metadata": {},
     "output_type": "display_data"
    },
    {
     "data": {
      "text/plain": [
       "<Figure size 432x288 with 0 Axes>"
      ]
     },
     "metadata": {},
     "output_type": "display_data"
    },
    {
     "data": {
      "text/plain": [
       "<Figure size 432x288 with 0 Axes>"
      ]
     },
     "metadata": {},
     "output_type": "display_data"
    },
    {
     "data": {
      "text/plain": [
       "<Figure size 432x288 with 0 Axes>"
      ]
     },
     "metadata": {},
     "output_type": "display_data"
    },
    {
     "data": {
      "text/plain": [
       "<Figure size 432x288 with 0 Axes>"
      ]
     },
     "metadata": {},
     "output_type": "display_data"
    },
    {
     "data": {
      "text/plain": [
       "<Figure size 432x288 with 0 Axes>"
      ]
     },
     "metadata": {},
     "output_type": "display_data"
    },
    {
     "data": {
      "text/plain": [
       "<Figure size 432x288 with 0 Axes>"
      ]
     },
     "metadata": {},
     "output_type": "display_data"
    },
    {
     "data": {
      "text/plain": [
       "<Figure size 432x288 with 0 Axes>"
      ]
     },
     "metadata": {},
     "output_type": "display_data"
    },
    {
     "data": {
      "text/plain": [
       "<Figure size 432x288 with 0 Axes>"
      ]
     },
     "metadata": {},
     "output_type": "display_data"
    },
    {
     "data": {
      "text/plain": [
       "<Figure size 432x288 with 0 Axes>"
      ]
     },
     "metadata": {},
     "output_type": "display_data"
    },
    {
     "data": {
      "text/plain": [
       "<Figure size 432x288 with 0 Axes>"
      ]
     },
     "metadata": {},
     "output_type": "display_data"
    },
    {
     "data": {
      "text/plain": [
       "<Figure size 432x288 with 0 Axes>"
      ]
     },
     "metadata": {},
     "output_type": "display_data"
    },
    {
     "data": {
      "text/plain": [
       "<Figure size 432x288 with 0 Axes>"
      ]
     },
     "metadata": {},
     "output_type": "display_data"
    },
    {
     "data": {
      "text/plain": [
       "<Figure size 432x288 with 0 Axes>"
      ]
     },
     "metadata": {},
     "output_type": "display_data"
    },
    {
     "data": {
      "text/plain": [
       "<Figure size 432x288 with 0 Axes>"
      ]
     },
     "metadata": {},
     "output_type": "display_data"
    },
    {
     "data": {
      "text/plain": [
       "<Figure size 432x288 with 0 Axes>"
      ]
     },
     "metadata": {},
     "output_type": "display_data"
    },
    {
     "data": {
      "text/plain": [
       "<Figure size 432x288 with 0 Axes>"
      ]
     },
     "metadata": {},
     "output_type": "display_data"
    },
    {
     "data": {
      "text/plain": [
       "<Figure size 432x288 with 0 Axes>"
      ]
     },
     "metadata": {},
     "output_type": "display_data"
    },
    {
     "data": {
      "text/plain": [
       "<Figure size 432x288 with 0 Axes>"
      ]
     },
     "metadata": {},
     "output_type": "display_data"
    },
    {
     "data": {
      "text/plain": [
       "<Figure size 432x288 with 0 Axes>"
      ]
     },
     "metadata": {},
     "output_type": "display_data"
    },
    {
     "data": {
      "text/plain": [
       "<Figure size 432x288 with 0 Axes>"
      ]
     },
     "metadata": {},
     "output_type": "display_data"
    },
    {
     "data": {
      "text/plain": [
       "<Figure size 432x288 with 0 Axes>"
      ]
     },
     "metadata": {},
     "output_type": "display_data"
    },
    {
     "data": {
      "text/plain": [
       "<Figure size 432x288 with 0 Axes>"
      ]
     },
     "metadata": {},
     "output_type": "display_data"
    },
    {
     "data": {
      "text/plain": [
       "<Figure size 432x288 with 0 Axes>"
      ]
     },
     "metadata": {},
     "output_type": "display_data"
    },
    {
     "data": {
      "text/plain": [
       "<Figure size 432x288 with 0 Axes>"
      ]
     },
     "metadata": {},
     "output_type": "display_data"
    },
    {
     "data": {
      "text/plain": [
       "<Figure size 432x288 with 0 Axes>"
      ]
     },
     "metadata": {},
     "output_type": "display_data"
    },
    {
     "data": {
      "text/plain": [
       "<Figure size 432x288 with 0 Axes>"
      ]
     },
     "metadata": {},
     "output_type": "display_data"
    },
    {
     "data": {
      "text/plain": [
       "<Figure size 432x288 with 0 Axes>"
      ]
     },
     "metadata": {},
     "output_type": "display_data"
    },
    {
     "data": {
      "text/plain": [
       "<Figure size 432x288 with 0 Axes>"
      ]
     },
     "metadata": {},
     "output_type": "display_data"
    },
    {
     "data": {
      "text/plain": [
       "<Figure size 432x288 with 0 Axes>"
      ]
     },
     "metadata": {},
     "output_type": "display_data"
    },
    {
     "data": {
      "text/plain": [
       "<Figure size 432x288 with 0 Axes>"
      ]
     },
     "metadata": {},
     "output_type": "display_data"
    },
    {
     "data": {
      "text/plain": [
       "<Figure size 432x288 with 0 Axes>"
      ]
     },
     "metadata": {},
     "output_type": "display_data"
    },
    {
     "data": {
      "text/plain": [
       "<Figure size 432x288 with 0 Axes>"
      ]
     },
     "metadata": {},
     "output_type": "display_data"
    },
    {
     "data": {
      "text/plain": [
       "<Figure size 432x288 with 0 Axes>"
      ]
     },
     "metadata": {},
     "output_type": "display_data"
    },
    {
     "data": {
      "text/plain": [
       "<Figure size 432x288 with 0 Axes>"
      ]
     },
     "metadata": {},
     "output_type": "display_data"
    },
    {
     "data": {
      "text/plain": [
       "<Figure size 432x288 with 0 Axes>"
      ]
     },
     "metadata": {},
     "output_type": "display_data"
    },
    {
     "data": {
      "text/plain": [
       "<Figure size 432x288 with 0 Axes>"
      ]
     },
     "metadata": {},
     "output_type": "display_data"
    },
    {
     "data": {
      "text/plain": [
       "<Figure size 432x288 with 0 Axes>"
      ]
     },
     "metadata": {},
     "output_type": "display_data"
    },
    {
     "data": {
      "text/plain": [
       "<Figure size 432x288 with 0 Axes>"
      ]
     },
     "metadata": {},
     "output_type": "display_data"
    },
    {
     "data": {
      "text/plain": [
       "<Figure size 432x288 with 0 Axes>"
      ]
     },
     "metadata": {},
     "output_type": "display_data"
    },
    {
     "data": {
      "text/plain": [
       "<Figure size 432x288 with 0 Axes>"
      ]
     },
     "metadata": {},
     "output_type": "display_data"
    },
    {
     "data": {
      "text/plain": [
       "<Figure size 432x288 with 0 Axes>"
      ]
     },
     "metadata": {},
     "output_type": "display_data"
    },
    {
     "data": {
      "text/plain": [
       "<Figure size 432x288 with 0 Axes>"
      ]
     },
     "metadata": {},
     "output_type": "display_data"
    },
    {
     "data": {
      "text/plain": [
       "<Figure size 432x288 with 0 Axes>"
      ]
     },
     "metadata": {},
     "output_type": "display_data"
    },
    {
     "data": {
      "text/plain": [
       "<Figure size 432x288 with 0 Axes>"
      ]
     },
     "metadata": {},
     "output_type": "display_data"
    },
    {
     "data": {
      "text/plain": [
       "<Figure size 432x288 with 0 Axes>"
      ]
     },
     "metadata": {},
     "output_type": "display_data"
    },
    {
     "data": {
      "text/plain": [
       "<Figure size 432x288 with 0 Axes>"
      ]
     },
     "metadata": {},
     "output_type": "display_data"
    },
    {
     "data": {
      "text/plain": [
       "<Figure size 432x288 with 0 Axes>"
      ]
     },
     "metadata": {},
     "output_type": "display_data"
    },
    {
     "data": {
      "text/plain": [
       "<Figure size 432x288 with 0 Axes>"
      ]
     },
     "metadata": {},
     "output_type": "display_data"
    },
    {
     "data": {
      "text/plain": [
       "<Figure size 432x288 with 0 Axes>"
      ]
     },
     "metadata": {},
     "output_type": "display_data"
    },
    {
     "data": {
      "text/plain": [
       "<Figure size 432x288 with 0 Axes>"
      ]
     },
     "metadata": {},
     "output_type": "display_data"
    },
    {
     "data": {
      "text/plain": [
       "<Figure size 432x288 with 0 Axes>"
      ]
     },
     "metadata": {},
     "output_type": "display_data"
    },
    {
     "data": {
      "text/plain": [
       "<Figure size 432x288 with 0 Axes>"
      ]
     },
     "metadata": {},
     "output_type": "display_data"
    },
    {
     "data": {
      "text/plain": [
       "<Figure size 432x288 with 0 Axes>"
      ]
     },
     "metadata": {},
     "output_type": "display_data"
    },
    {
     "data": {
      "text/plain": [
       "<Figure size 432x288 with 0 Axes>"
      ]
     },
     "metadata": {},
     "output_type": "display_data"
    },
    {
     "data": {
      "text/plain": [
       "<Figure size 432x288 with 0 Axes>"
      ]
     },
     "metadata": {},
     "output_type": "display_data"
    },
    {
     "data": {
      "text/plain": [
       "<Figure size 432x288 with 0 Axes>"
      ]
     },
     "metadata": {},
     "output_type": "display_data"
    },
    {
     "data": {
      "text/plain": [
       "<Figure size 432x288 with 0 Axes>"
      ]
     },
     "metadata": {},
     "output_type": "display_data"
    },
    {
     "data": {
      "text/plain": [
       "<Figure size 432x288 with 0 Axes>"
      ]
     },
     "metadata": {},
     "output_type": "display_data"
    },
    {
     "data": {
      "text/plain": [
       "<Figure size 432x288 with 0 Axes>"
      ]
     },
     "metadata": {},
     "output_type": "display_data"
    },
    {
     "data": {
      "text/plain": [
       "<Figure size 432x288 with 0 Axes>"
      ]
     },
     "metadata": {},
     "output_type": "display_data"
    },
    {
     "data": {
      "text/plain": [
       "<Figure size 432x288 with 0 Axes>"
      ]
     },
     "metadata": {},
     "output_type": "display_data"
    },
    {
     "data": {
      "text/plain": [
       "<Figure size 432x288 with 0 Axes>"
      ]
     },
     "metadata": {},
     "output_type": "display_data"
    },
    {
     "data": {
      "text/plain": [
       "<Figure size 432x288 with 0 Axes>"
      ]
     },
     "metadata": {},
     "output_type": "display_data"
    },
    {
     "data": {
      "text/plain": [
       "<Figure size 432x288 with 0 Axes>"
      ]
     },
     "metadata": {},
     "output_type": "display_data"
    },
    {
     "data": {
      "text/plain": [
       "<Figure size 432x288 with 0 Axes>"
      ]
     },
     "metadata": {},
     "output_type": "display_data"
    },
    {
     "data": {
      "text/plain": [
       "<Figure size 432x288 with 0 Axes>"
      ]
     },
     "metadata": {},
     "output_type": "display_data"
    },
    {
     "data": {
      "text/plain": [
       "<Figure size 432x288 with 0 Axes>"
      ]
     },
     "metadata": {},
     "output_type": "display_data"
    },
    {
     "data": {
      "text/plain": [
       "<Figure size 432x288 with 0 Axes>"
      ]
     },
     "metadata": {},
     "output_type": "display_data"
    },
    {
     "data": {
      "text/plain": [
       "<Figure size 432x288 with 0 Axes>"
      ]
     },
     "metadata": {},
     "output_type": "display_data"
    },
    {
     "data": {
      "text/plain": [
       "<Figure size 432x288 with 0 Axes>"
      ]
     },
     "metadata": {},
     "output_type": "display_data"
    },
    {
     "data": {
      "text/plain": [
       "<Figure size 432x288 with 0 Axes>"
      ]
     },
     "metadata": {},
     "output_type": "display_data"
    },
    {
     "data": {
      "text/plain": [
       "<Figure size 432x288 with 0 Axes>"
      ]
     },
     "metadata": {},
     "output_type": "display_data"
    },
    {
     "data": {
      "text/plain": [
       "<Figure size 432x288 with 0 Axes>"
      ]
     },
     "metadata": {},
     "output_type": "display_data"
    },
    {
     "data": {
      "text/plain": [
       "<Figure size 432x288 with 0 Axes>"
      ]
     },
     "metadata": {},
     "output_type": "display_data"
    },
    {
     "data": {
      "text/plain": [
       "<Figure size 432x288 with 0 Axes>"
      ]
     },
     "metadata": {},
     "output_type": "display_data"
    },
    {
     "data": {
      "text/plain": [
       "<Figure size 432x288 with 0 Axes>"
      ]
     },
     "metadata": {},
     "output_type": "display_data"
    },
    {
     "data": {
      "text/plain": [
       "<Figure size 432x288 with 0 Axes>"
      ]
     },
     "metadata": {},
     "output_type": "display_data"
    },
    {
     "data": {
      "text/plain": [
       "<Figure size 432x288 with 0 Axes>"
      ]
     },
     "metadata": {},
     "output_type": "display_data"
    },
    {
     "data": {
      "text/plain": [
       "<Figure size 432x288 with 0 Axes>"
      ]
     },
     "metadata": {},
     "output_type": "display_data"
    },
    {
     "data": {
      "text/plain": [
       "<Figure size 432x288 with 0 Axes>"
      ]
     },
     "metadata": {},
     "output_type": "display_data"
    },
    {
     "data": {
      "text/plain": [
       "<Figure size 432x288 with 0 Axes>"
      ]
     },
     "metadata": {},
     "output_type": "display_data"
    },
    {
     "data": {
      "text/plain": [
       "<Figure size 432x288 with 0 Axes>"
      ]
     },
     "metadata": {},
     "output_type": "display_data"
    },
    {
     "data": {
      "text/plain": [
       "<Figure size 432x288 with 0 Axes>"
      ]
     },
     "metadata": {},
     "output_type": "display_data"
    },
    {
     "data": {
      "text/plain": [
       "<Figure size 432x288 with 0 Axes>"
      ]
     },
     "metadata": {},
     "output_type": "display_data"
    },
    {
     "data": {
      "text/plain": [
       "<Figure size 432x288 with 0 Axes>"
      ]
     },
     "metadata": {},
     "output_type": "display_data"
    },
    {
     "data": {
      "text/plain": [
       "<Figure size 432x288 with 0 Axes>"
      ]
     },
     "metadata": {},
     "output_type": "display_data"
    },
    {
     "data": {
      "text/plain": [
       "<Figure size 432x288 with 0 Axes>"
      ]
     },
     "metadata": {},
     "output_type": "display_data"
    },
    {
     "data": {
      "text/plain": [
       "<Figure size 432x288 with 0 Axes>"
      ]
     },
     "metadata": {},
     "output_type": "display_data"
    },
    {
     "data": {
      "text/plain": [
       "<Figure size 432x288 with 0 Axes>"
      ]
     },
     "metadata": {},
     "output_type": "display_data"
    },
    {
     "data": {
      "text/plain": [
       "<Figure size 432x288 with 0 Axes>"
      ]
     },
     "metadata": {},
     "output_type": "display_data"
    },
    {
     "data": {
      "text/plain": [
       "<Figure size 432x288 with 0 Axes>"
      ]
     },
     "metadata": {},
     "output_type": "display_data"
    },
    {
     "data": {
      "text/plain": [
       "<Figure size 432x288 with 0 Axes>"
      ]
     },
     "metadata": {},
     "output_type": "display_data"
    },
    {
     "data": {
      "text/plain": [
       "<Figure size 432x288 with 0 Axes>"
      ]
     },
     "metadata": {},
     "output_type": "display_data"
    },
    {
     "data": {
      "text/plain": [
       "<Figure size 432x288 with 0 Axes>"
      ]
     },
     "metadata": {},
     "output_type": "display_data"
    },
    {
     "data": {
      "text/plain": [
       "<Figure size 432x288 with 0 Axes>"
      ]
     },
     "metadata": {},
     "output_type": "display_data"
    },
    {
     "data": {
      "text/plain": [
       "<Figure size 432x288 with 0 Axes>"
      ]
     },
     "metadata": {},
     "output_type": "display_data"
    },
    {
     "data": {
      "text/plain": [
       "<Figure size 432x288 with 0 Axes>"
      ]
     },
     "metadata": {},
     "output_type": "display_data"
    },
    {
     "data": {
      "text/plain": [
       "<Figure size 432x288 with 0 Axes>"
      ]
     },
     "metadata": {},
     "output_type": "display_data"
    },
    {
     "data": {
      "text/plain": [
       "<Figure size 432x288 with 0 Axes>"
      ]
     },
     "metadata": {},
     "output_type": "display_data"
    },
    {
     "data": {
      "text/plain": [
       "<Figure size 432x288 with 0 Axes>"
      ]
     },
     "metadata": {},
     "output_type": "display_data"
    },
    {
     "data": {
      "text/plain": [
       "<Figure size 432x288 with 0 Axes>"
      ]
     },
     "metadata": {},
     "output_type": "display_data"
    },
    {
     "data": {
      "text/plain": [
       "<Figure size 432x288 with 0 Axes>"
      ]
     },
     "metadata": {},
     "output_type": "display_data"
    },
    {
     "data": {
      "text/plain": [
       "<Figure size 432x288 with 0 Axes>"
      ]
     },
     "metadata": {},
     "output_type": "display_data"
    },
    {
     "data": {
      "text/plain": [
       "<Figure size 432x288 with 0 Axes>"
      ]
     },
     "metadata": {},
     "output_type": "display_data"
    },
    {
     "data": {
      "text/plain": [
       "<Figure size 432x288 with 0 Axes>"
      ]
     },
     "metadata": {},
     "output_type": "display_data"
    },
    {
     "data": {
      "text/plain": [
       "<Figure size 432x288 with 0 Axes>"
      ]
     },
     "metadata": {},
     "output_type": "display_data"
    },
    {
     "data": {
      "text/plain": [
       "<Figure size 432x288 with 0 Axes>"
      ]
     },
     "metadata": {},
     "output_type": "display_data"
    },
    {
     "data": {
      "text/plain": [
       "<Figure size 432x288 with 0 Axes>"
      ]
     },
     "metadata": {},
     "output_type": "display_data"
    },
    {
     "data": {
      "text/plain": [
       "<Figure size 432x288 with 0 Axes>"
      ]
     },
     "metadata": {},
     "output_type": "display_data"
    },
    {
     "data": {
      "text/plain": [
       "<Figure size 432x288 with 0 Axes>"
      ]
     },
     "metadata": {},
     "output_type": "display_data"
    },
    {
     "data": {
      "text/plain": [
       "<Figure size 432x288 with 0 Axes>"
      ]
     },
     "metadata": {},
     "output_type": "display_data"
    },
    {
     "data": {
      "text/plain": [
       "<Figure size 432x288 with 0 Axes>"
      ]
     },
     "metadata": {},
     "output_type": "display_data"
    },
    {
     "data": {
      "text/plain": [
       "<Figure size 432x288 with 0 Axes>"
      ]
     },
     "metadata": {},
     "output_type": "display_data"
    },
    {
     "data": {
      "text/plain": [
       "<Figure size 432x288 with 0 Axes>"
      ]
     },
     "metadata": {},
     "output_type": "display_data"
    },
    {
     "data": {
      "text/plain": [
       "<Figure size 432x288 with 0 Axes>"
      ]
     },
     "metadata": {},
     "output_type": "display_data"
    },
    {
     "data": {
      "text/plain": [
       "<Figure size 432x288 with 0 Axes>"
      ]
     },
     "metadata": {},
     "output_type": "display_data"
    },
    {
     "data": {
      "text/plain": [
       "<Figure size 432x288 with 0 Axes>"
      ]
     },
     "metadata": {},
     "output_type": "display_data"
    },
    {
     "data": {
      "text/plain": [
       "<Figure size 432x288 with 0 Axes>"
      ]
     },
     "metadata": {},
     "output_type": "display_data"
    },
    {
     "data": {
      "text/plain": [
       "<Figure size 432x288 with 0 Axes>"
      ]
     },
     "metadata": {},
     "output_type": "display_data"
    },
    {
     "data": {
      "text/plain": [
       "<Figure size 432x288 with 0 Axes>"
      ]
     },
     "metadata": {},
     "output_type": "display_data"
    },
    {
     "data": {
      "text/plain": [
       "<Figure size 432x288 with 0 Axes>"
      ]
     },
     "metadata": {},
     "output_type": "display_data"
    },
    {
     "data": {
      "text/plain": [
       "<Figure size 432x288 with 0 Axes>"
      ]
     },
     "metadata": {},
     "output_type": "display_data"
    },
    {
     "data": {
      "text/plain": [
       "<Figure size 432x288 with 0 Axes>"
      ]
     },
     "metadata": {},
     "output_type": "display_data"
    },
    {
     "data": {
      "text/plain": [
       "<Figure size 432x288 with 0 Axes>"
      ]
     },
     "metadata": {},
     "output_type": "display_data"
    },
    {
     "data": {
      "text/plain": [
       "<Figure size 432x288 with 0 Axes>"
      ]
     },
     "metadata": {},
     "output_type": "display_data"
    },
    {
     "data": {
      "text/plain": [
       "<Figure size 432x288 with 0 Axes>"
      ]
     },
     "metadata": {},
     "output_type": "display_data"
    },
    {
     "data": {
      "text/plain": [
       "<Figure size 432x288 with 0 Axes>"
      ]
     },
     "metadata": {},
     "output_type": "display_data"
    },
    {
     "data": {
      "text/plain": [
       "<Figure size 432x288 with 0 Axes>"
      ]
     },
     "metadata": {},
     "output_type": "display_data"
    },
    {
     "data": {
      "text/plain": [
       "<Figure size 432x288 with 0 Axes>"
      ]
     },
     "metadata": {},
     "output_type": "display_data"
    },
    {
     "data": {
      "text/plain": [
       "<Figure size 432x288 with 0 Axes>"
      ]
     },
     "metadata": {},
     "output_type": "display_data"
    },
    {
     "data": {
      "text/plain": [
       "<Figure size 432x288 with 0 Axes>"
      ]
     },
     "metadata": {},
     "output_type": "display_data"
    },
    {
     "data": {
      "text/plain": [
       "<Figure size 432x288 with 0 Axes>"
      ]
     },
     "metadata": {},
     "output_type": "display_data"
    },
    {
     "data": {
      "text/plain": [
       "<Figure size 432x288 with 0 Axes>"
      ]
     },
     "metadata": {},
     "output_type": "display_data"
    },
    {
     "data": {
      "text/plain": [
       "<Figure size 432x288 with 0 Axes>"
      ]
     },
     "metadata": {},
     "output_type": "display_data"
    },
    {
     "data": {
      "text/plain": [
       "<Figure size 432x288 with 0 Axes>"
      ]
     },
     "metadata": {},
     "output_type": "display_data"
    },
    {
     "data": {
      "text/plain": [
       "<Figure size 432x288 with 0 Axes>"
      ]
     },
     "metadata": {},
     "output_type": "display_data"
    },
    {
     "data": {
      "text/plain": [
       "<Figure size 432x288 with 0 Axes>"
      ]
     },
     "metadata": {},
     "output_type": "display_data"
    },
    {
     "data": {
      "text/plain": [
       "<Figure size 432x288 with 0 Axes>"
      ]
     },
     "metadata": {},
     "output_type": "display_data"
    },
    {
     "data": {
      "text/plain": [
       "<Figure size 432x288 with 0 Axes>"
      ]
     },
     "metadata": {},
     "output_type": "display_data"
    },
    {
     "data": {
      "text/plain": [
       "<Figure size 432x288 with 0 Axes>"
      ]
     },
     "metadata": {},
     "output_type": "display_data"
    },
    {
     "data": {
      "text/plain": [
       "<Figure size 432x288 with 0 Axes>"
      ]
     },
     "metadata": {},
     "output_type": "display_data"
    },
    {
     "data": {
      "text/plain": [
       "<Figure size 432x288 with 0 Axes>"
      ]
     },
     "metadata": {},
     "output_type": "display_data"
    },
    {
     "data": {
      "text/plain": [
       "<Figure size 432x288 with 0 Axes>"
      ]
     },
     "metadata": {},
     "output_type": "display_data"
    },
    {
     "data": {
      "text/plain": [
       "<Figure size 432x288 with 0 Axes>"
      ]
     },
     "metadata": {},
     "output_type": "display_data"
    },
    {
     "data": {
      "text/plain": [
       "<Figure size 432x288 with 0 Axes>"
      ]
     },
     "metadata": {},
     "output_type": "display_data"
    },
    {
     "data": {
      "text/plain": [
       "<Figure size 432x288 with 0 Axes>"
      ]
     },
     "metadata": {},
     "output_type": "display_data"
    },
    {
     "data": {
      "text/plain": [
       "<Figure size 432x288 with 0 Axes>"
      ]
     },
     "metadata": {},
     "output_type": "display_data"
    },
    {
     "data": {
      "text/plain": [
       "<Figure size 432x288 with 0 Axes>"
      ]
     },
     "metadata": {},
     "output_type": "display_data"
    },
    {
     "data": {
      "text/plain": [
       "<Figure size 432x288 with 0 Axes>"
      ]
     },
     "metadata": {},
     "output_type": "display_data"
    },
    {
     "data": {
      "text/plain": [
       "<Figure size 432x288 with 0 Axes>"
      ]
     },
     "metadata": {},
     "output_type": "display_data"
    },
    {
     "data": {
      "text/plain": [
       "<Figure size 432x288 with 0 Axes>"
      ]
     },
     "metadata": {},
     "output_type": "display_data"
    },
    {
     "data": {
      "text/plain": [
       "<Figure size 432x288 with 0 Axes>"
      ]
     },
     "metadata": {},
     "output_type": "display_data"
    },
    {
     "data": {
      "text/plain": [
       "<Figure size 432x288 with 0 Axes>"
      ]
     },
     "metadata": {},
     "output_type": "display_data"
    },
    {
     "data": {
      "text/plain": [
       "<Figure size 432x288 with 0 Axes>"
      ]
     },
     "metadata": {},
     "output_type": "display_data"
    },
    {
     "data": {
      "text/plain": [
       "<Figure size 432x288 with 0 Axes>"
      ]
     },
     "metadata": {},
     "output_type": "display_data"
    },
    {
     "data": {
      "text/plain": [
       "<Figure size 432x288 with 0 Axes>"
      ]
     },
     "metadata": {},
     "output_type": "display_data"
    },
    {
     "data": {
      "text/plain": [
       "<Figure size 432x288 with 0 Axes>"
      ]
     },
     "metadata": {},
     "output_type": "display_data"
    },
    {
     "data": {
      "text/plain": [
       "<Figure size 432x288 with 0 Axes>"
      ]
     },
     "metadata": {},
     "output_type": "display_data"
    },
    {
     "data": {
      "text/plain": [
       "<Figure size 432x288 with 0 Axes>"
      ]
     },
     "metadata": {},
     "output_type": "display_data"
    },
    {
     "data": {
      "text/plain": [
       "<Figure size 432x288 with 0 Axes>"
      ]
     },
     "metadata": {},
     "output_type": "display_data"
    },
    {
     "data": {
      "text/plain": [
       "<Figure size 432x288 with 0 Axes>"
      ]
     },
     "metadata": {},
     "output_type": "display_data"
    },
    {
     "data": {
      "text/plain": [
       "<Figure size 432x288 with 0 Axes>"
      ]
     },
     "metadata": {},
     "output_type": "display_data"
    },
    {
     "data": {
      "text/plain": [
       "<Figure size 432x288 with 0 Axes>"
      ]
     },
     "metadata": {},
     "output_type": "display_data"
    },
    {
     "data": {
      "text/plain": [
       "<Figure size 432x288 with 0 Axes>"
      ]
     },
     "metadata": {},
     "output_type": "display_data"
    },
    {
     "data": {
      "text/plain": [
       "<Figure size 432x288 with 0 Axes>"
      ]
     },
     "metadata": {},
     "output_type": "display_data"
    },
    {
     "data": {
      "text/plain": [
       "<Figure size 432x288 with 0 Axes>"
      ]
     },
     "metadata": {},
     "output_type": "display_data"
    },
    {
     "data": {
      "text/plain": [
       "<Figure size 432x288 with 0 Axes>"
      ]
     },
     "metadata": {},
     "output_type": "display_data"
    },
    {
     "data": {
      "text/plain": [
       "<Figure size 432x288 with 0 Axes>"
      ]
     },
     "metadata": {},
     "output_type": "display_data"
    },
    {
     "data": {
      "text/plain": [
       "<Figure size 432x288 with 0 Axes>"
      ]
     },
     "metadata": {},
     "output_type": "display_data"
    },
    {
     "data": {
      "text/plain": [
       "<Figure size 432x288 with 0 Axes>"
      ]
     },
     "metadata": {},
     "output_type": "display_data"
    },
    {
     "data": {
      "text/plain": [
       "<Figure size 432x288 with 0 Axes>"
      ]
     },
     "metadata": {},
     "output_type": "display_data"
    },
    {
     "data": {
      "text/plain": [
       "<Figure size 432x288 with 0 Axes>"
      ]
     },
     "metadata": {},
     "output_type": "display_data"
    },
    {
     "data": {
      "text/plain": [
       "<Figure size 432x288 with 0 Axes>"
      ]
     },
     "metadata": {},
     "output_type": "display_data"
    },
    {
     "data": {
      "text/plain": [
       "<Figure size 432x288 with 0 Axes>"
      ]
     },
     "metadata": {},
     "output_type": "display_data"
    },
    {
     "data": {
      "text/plain": [
       "<Figure size 432x288 with 0 Axes>"
      ]
     },
     "metadata": {},
     "output_type": "display_data"
    },
    {
     "data": {
      "text/plain": [
       "<Figure size 432x288 with 0 Axes>"
      ]
     },
     "metadata": {},
     "output_type": "display_data"
    },
    {
     "data": {
      "text/plain": [
       "<Figure size 432x288 with 0 Axes>"
      ]
     },
     "metadata": {},
     "output_type": "display_data"
    },
    {
     "data": {
      "text/plain": [
       "<Figure size 432x288 with 0 Axes>"
      ]
     },
     "metadata": {},
     "output_type": "display_data"
    },
    {
     "data": {
      "text/plain": [
       "<Figure size 432x288 with 0 Axes>"
      ]
     },
     "metadata": {},
     "output_type": "display_data"
    },
    {
     "data": {
      "text/plain": [
       "<Figure size 432x288 with 0 Axes>"
      ]
     },
     "metadata": {},
     "output_type": "display_data"
    },
    {
     "data": {
      "text/plain": [
       "<Figure size 432x288 with 0 Axes>"
      ]
     },
     "metadata": {},
     "output_type": "display_data"
    },
    {
     "data": {
      "text/plain": [
       "<Figure size 432x288 with 0 Axes>"
      ]
     },
     "metadata": {},
     "output_type": "display_data"
    },
    {
     "data": {
      "text/plain": [
       "<Figure size 432x288 with 0 Axes>"
      ]
     },
     "metadata": {},
     "output_type": "display_data"
    },
    {
     "data": {
      "text/plain": [
       "<Figure size 432x288 with 0 Axes>"
      ]
     },
     "metadata": {},
     "output_type": "display_data"
    },
    {
     "data": {
      "text/plain": [
       "<Figure size 432x288 with 0 Axes>"
      ]
     },
     "metadata": {},
     "output_type": "display_data"
    },
    {
     "data": {
      "text/plain": [
       "<Figure size 432x288 with 0 Axes>"
      ]
     },
     "metadata": {},
     "output_type": "display_data"
    },
    {
     "data": {
      "text/plain": [
       "<Figure size 432x288 with 0 Axes>"
      ]
     },
     "metadata": {},
     "output_type": "display_data"
    },
    {
     "data": {
      "text/plain": [
       "<Figure size 432x288 with 0 Axes>"
      ]
     },
     "metadata": {},
     "output_type": "display_data"
    },
    {
     "data": {
      "text/plain": [
       "<Figure size 432x288 with 0 Axes>"
      ]
     },
     "metadata": {},
     "output_type": "display_data"
    },
    {
     "data": {
      "text/plain": [
       "<Figure size 432x288 with 0 Axes>"
      ]
     },
     "metadata": {},
     "output_type": "display_data"
    },
    {
     "data": {
      "text/plain": [
       "<Figure size 432x288 with 0 Axes>"
      ]
     },
     "metadata": {},
     "output_type": "display_data"
    },
    {
     "data": {
      "text/plain": [
       "<Figure size 432x288 with 0 Axes>"
      ]
     },
     "metadata": {},
     "output_type": "display_data"
    },
    {
     "data": {
      "text/plain": [
       "<Figure size 432x288 with 0 Axes>"
      ]
     },
     "metadata": {},
     "output_type": "display_data"
    },
    {
     "data": {
      "text/plain": [
       "<Figure size 432x288 with 0 Axes>"
      ]
     },
     "metadata": {},
     "output_type": "display_data"
    },
    {
     "data": {
      "text/plain": [
       "<Figure size 432x288 with 0 Axes>"
      ]
     },
     "metadata": {},
     "output_type": "display_data"
    },
    {
     "data": {
      "text/plain": [
       "<Figure size 432x288 with 0 Axes>"
      ]
     },
     "metadata": {},
     "output_type": "display_data"
    },
    {
     "data": {
      "text/plain": [
       "<Figure size 432x288 with 0 Axes>"
      ]
     },
     "metadata": {},
     "output_type": "display_data"
    },
    {
     "data": {
      "text/plain": [
       "<Figure size 432x288 with 0 Axes>"
      ]
     },
     "metadata": {},
     "output_type": "display_data"
    },
    {
     "data": {
      "text/plain": [
       "<Figure size 432x288 with 0 Axes>"
      ]
     },
     "metadata": {},
     "output_type": "display_data"
    },
    {
     "data": {
      "text/plain": [
       "<Figure size 432x288 with 0 Axes>"
      ]
     },
     "metadata": {},
     "output_type": "display_data"
    },
    {
     "data": {
      "text/plain": [
       "<Figure size 432x288 with 0 Axes>"
      ]
     },
     "metadata": {},
     "output_type": "display_data"
    },
    {
     "data": {
      "text/plain": [
       "<Figure size 432x288 with 0 Axes>"
      ]
     },
     "metadata": {},
     "output_type": "display_data"
    },
    {
     "data": {
      "text/plain": [
       "<Figure size 432x288 with 0 Axes>"
      ]
     },
     "metadata": {},
     "output_type": "display_data"
    },
    {
     "data": {
      "text/plain": [
       "<Figure size 432x288 with 0 Axes>"
      ]
     },
     "metadata": {},
     "output_type": "display_data"
    },
    {
     "data": {
      "text/plain": [
       "<Figure size 432x288 with 0 Axes>"
      ]
     },
     "metadata": {},
     "output_type": "display_data"
    },
    {
     "data": {
      "text/plain": [
       "<Figure size 432x288 with 0 Axes>"
      ]
     },
     "metadata": {},
     "output_type": "display_data"
    },
    {
     "data": {
      "text/plain": [
       "<Figure size 432x288 with 0 Axes>"
      ]
     },
     "metadata": {},
     "output_type": "display_data"
    },
    {
     "data": {
      "text/plain": [
       "<Figure size 432x288 with 0 Axes>"
      ]
     },
     "metadata": {},
     "output_type": "display_data"
    },
    {
     "data": {
      "text/plain": [
       "<Figure size 432x288 with 0 Axes>"
      ]
     },
     "metadata": {},
     "output_type": "display_data"
    },
    {
     "data": {
      "text/plain": [
       "<Figure size 432x288 with 0 Axes>"
      ]
     },
     "metadata": {},
     "output_type": "display_data"
    },
    {
     "data": {
      "text/plain": [
       "<Figure size 432x288 with 0 Axes>"
      ]
     },
     "metadata": {},
     "output_type": "display_data"
    },
    {
     "data": {
      "text/plain": [
       "<Figure size 432x288 with 0 Axes>"
      ]
     },
     "metadata": {},
     "output_type": "display_data"
    },
    {
     "data": {
      "text/plain": [
       "<Figure size 432x288 with 0 Axes>"
      ]
     },
     "metadata": {},
     "output_type": "display_data"
    },
    {
     "data": {
      "text/plain": [
       "<Figure size 432x288 with 0 Axes>"
      ]
     },
     "metadata": {},
     "output_type": "display_data"
    },
    {
     "data": {
      "text/plain": [
       "<Figure size 432x288 with 0 Axes>"
      ]
     },
     "metadata": {},
     "output_type": "display_data"
    },
    {
     "data": {
      "text/plain": [
       "<Figure size 432x288 with 0 Axes>"
      ]
     },
     "metadata": {},
     "output_type": "display_data"
    },
    {
     "data": {
      "text/plain": [
       "<Figure size 432x288 with 0 Axes>"
      ]
     },
     "metadata": {},
     "output_type": "display_data"
    },
    {
     "data": {
      "text/plain": [
       "<Figure size 432x288 with 0 Axes>"
      ]
     },
     "metadata": {},
     "output_type": "display_data"
    },
    {
     "data": {
      "text/plain": [
       "<Figure size 432x288 with 0 Axes>"
      ]
     },
     "metadata": {},
     "output_type": "display_data"
    },
    {
     "data": {
      "text/plain": [
       "<Figure size 432x288 with 0 Axes>"
      ]
     },
     "metadata": {},
     "output_type": "display_data"
    },
    {
     "data": {
      "text/plain": [
       "<Figure size 432x288 with 0 Axes>"
      ]
     },
     "metadata": {},
     "output_type": "display_data"
    },
    {
     "data": {
      "text/plain": [
       "<Figure size 432x288 with 0 Axes>"
      ]
     },
     "metadata": {},
     "output_type": "display_data"
    },
    {
     "data": {
      "text/plain": [
       "<Figure size 432x288 with 0 Axes>"
      ]
     },
     "metadata": {},
     "output_type": "display_data"
    },
    {
     "data": {
      "text/plain": [
       "<Figure size 432x288 with 0 Axes>"
      ]
     },
     "metadata": {},
     "output_type": "display_data"
    },
    {
     "data": {
      "text/plain": [
       "<Figure size 432x288 with 0 Axes>"
      ]
     },
     "metadata": {},
     "output_type": "display_data"
    },
    {
     "data": {
      "text/plain": [
       "<Figure size 432x288 with 0 Axes>"
      ]
     },
     "metadata": {},
     "output_type": "display_data"
    },
    {
     "data": {
      "text/plain": [
       "<Figure size 432x288 with 0 Axes>"
      ]
     },
     "metadata": {},
     "output_type": "display_data"
    },
    {
     "data": {
      "text/plain": [
       "<Figure size 432x288 with 0 Axes>"
      ]
     },
     "metadata": {},
     "output_type": "display_data"
    },
    {
     "data": {
      "text/plain": [
       "<Figure size 432x288 with 0 Axes>"
      ]
     },
     "metadata": {},
     "output_type": "display_data"
    },
    {
     "data": {
      "text/plain": [
       "<Figure size 432x288 with 0 Axes>"
      ]
     },
     "metadata": {},
     "output_type": "display_data"
    },
    {
     "data": {
      "text/plain": [
       "<Figure size 432x288 with 0 Axes>"
      ]
     },
     "metadata": {},
     "output_type": "display_data"
    },
    {
     "data": {
      "text/plain": [
       "<Figure size 432x288 with 0 Axes>"
      ]
     },
     "metadata": {},
     "output_type": "display_data"
    },
    {
     "data": {
      "text/plain": [
       "<Figure size 432x288 with 0 Axes>"
      ]
     },
     "metadata": {},
     "output_type": "display_data"
    },
    {
     "data": {
      "text/plain": [
       "<Figure size 432x288 with 0 Axes>"
      ]
     },
     "metadata": {},
     "output_type": "display_data"
    },
    {
     "data": {
      "text/plain": [
       "<Figure size 432x288 with 0 Axes>"
      ]
     },
     "metadata": {},
     "output_type": "display_data"
    },
    {
     "data": {
      "text/plain": [
       "<Figure size 432x288 with 0 Axes>"
      ]
     },
     "metadata": {},
     "output_type": "display_data"
    },
    {
     "data": {
      "text/plain": [
       "<Figure size 432x288 with 0 Axes>"
      ]
     },
     "metadata": {},
     "output_type": "display_data"
    },
    {
     "data": {
      "text/plain": [
       "<Figure size 432x288 with 0 Axes>"
      ]
     },
     "metadata": {},
     "output_type": "display_data"
    },
    {
     "data": {
      "text/plain": [
       "<Figure size 432x288 with 0 Axes>"
      ]
     },
     "metadata": {},
     "output_type": "display_data"
    },
    {
     "data": {
      "text/plain": [
       "<Figure size 432x288 with 0 Axes>"
      ]
     },
     "metadata": {},
     "output_type": "display_data"
    },
    {
     "data": {
      "text/plain": [
       "<Figure size 432x288 with 0 Axes>"
      ]
     },
     "metadata": {},
     "output_type": "display_data"
    },
    {
     "data": {
      "text/plain": [
       "<Figure size 432x288 with 0 Axes>"
      ]
     },
     "metadata": {},
     "output_type": "display_data"
    },
    {
     "data": {
      "text/plain": [
       "<Figure size 432x288 with 0 Axes>"
      ]
     },
     "metadata": {},
     "output_type": "display_data"
    },
    {
     "data": {
      "text/plain": [
       "<Figure size 432x288 with 0 Axes>"
      ]
     },
     "metadata": {},
     "output_type": "display_data"
    },
    {
     "data": {
      "text/plain": [
       "<Figure size 432x288 with 0 Axes>"
      ]
     },
     "metadata": {},
     "output_type": "display_data"
    },
    {
     "data": {
      "text/plain": [
       "<Figure size 432x288 with 0 Axes>"
      ]
     },
     "metadata": {},
     "output_type": "display_data"
    },
    {
     "data": {
      "text/plain": [
       "<Figure size 432x288 with 0 Axes>"
      ]
     },
     "metadata": {},
     "output_type": "display_data"
    },
    {
     "data": {
      "text/plain": [
       "<Figure size 432x288 with 0 Axes>"
      ]
     },
     "metadata": {},
     "output_type": "display_data"
    },
    {
     "data": {
      "text/plain": [
       "<Figure size 432x288 with 0 Axes>"
      ]
     },
     "metadata": {},
     "output_type": "display_data"
    },
    {
     "data": {
      "text/plain": [
       "<Figure size 432x288 with 0 Axes>"
      ]
     },
     "metadata": {},
     "output_type": "display_data"
    },
    {
     "data": {
      "text/plain": [
       "<Figure size 432x288 with 0 Axes>"
      ]
     },
     "metadata": {},
     "output_type": "display_data"
    },
    {
     "data": {
      "text/plain": [
       "<Figure size 432x288 with 0 Axes>"
      ]
     },
     "metadata": {},
     "output_type": "display_data"
    },
    {
     "data": {
      "text/plain": [
       "<Figure size 432x288 with 0 Axes>"
      ]
     },
     "metadata": {},
     "output_type": "display_data"
    },
    {
     "data": {
      "text/plain": [
       "<Figure size 432x288 with 0 Axes>"
      ]
     },
     "metadata": {},
     "output_type": "display_data"
    },
    {
     "data": {
      "text/plain": [
       "<Figure size 432x288 with 0 Axes>"
      ]
     },
     "metadata": {},
     "output_type": "display_data"
    },
    {
     "data": {
      "text/plain": [
       "<Figure size 432x288 with 0 Axes>"
      ]
     },
     "metadata": {},
     "output_type": "display_data"
    },
    {
     "data": {
      "text/plain": [
       "<Figure size 432x288 with 0 Axes>"
      ]
     },
     "metadata": {},
     "output_type": "display_data"
    },
    {
     "data": {
      "text/plain": [
       "<Figure size 432x288 with 0 Axes>"
      ]
     },
     "metadata": {},
     "output_type": "display_data"
    },
    {
     "data": {
      "text/plain": [
       "<Figure size 432x288 with 0 Axes>"
      ]
     },
     "metadata": {},
     "output_type": "display_data"
    },
    {
     "data": {
      "text/plain": [
       "<Figure size 432x288 with 0 Axes>"
      ]
     },
     "metadata": {},
     "output_type": "display_data"
    },
    {
     "data": {
      "text/plain": [
       "<Figure size 432x288 with 0 Axes>"
      ]
     },
     "metadata": {},
     "output_type": "display_data"
    },
    {
     "data": {
      "text/plain": [
       "<Figure size 432x288 with 0 Axes>"
      ]
     },
     "metadata": {},
     "output_type": "display_data"
    },
    {
     "data": {
      "text/plain": [
       "<Figure size 432x288 with 0 Axes>"
      ]
     },
     "metadata": {},
     "output_type": "display_data"
    },
    {
     "data": {
      "text/plain": [
       "<Figure size 432x288 with 0 Axes>"
      ]
     },
     "metadata": {},
     "output_type": "display_data"
    },
    {
     "data": {
      "text/plain": [
       "<Figure size 432x288 with 0 Axes>"
      ]
     },
     "metadata": {},
     "output_type": "display_data"
    },
    {
     "data": {
      "text/plain": [
       "<Figure size 432x288 with 0 Axes>"
      ]
     },
     "metadata": {},
     "output_type": "display_data"
    },
    {
     "data": {
      "text/plain": [
       "<Figure size 432x288 with 0 Axes>"
      ]
     },
     "metadata": {},
     "output_type": "display_data"
    },
    {
     "data": {
      "text/plain": [
       "<Figure size 432x288 with 0 Axes>"
      ]
     },
     "metadata": {},
     "output_type": "display_data"
    },
    {
     "data": {
      "text/plain": [
       "<Figure size 432x288 with 0 Axes>"
      ]
     },
     "metadata": {},
     "output_type": "display_data"
    },
    {
     "data": {
      "text/plain": [
       "<Figure size 432x288 with 0 Axes>"
      ]
     },
     "metadata": {},
     "output_type": "display_data"
    },
    {
     "data": {
      "text/plain": [
       "<Figure size 432x288 with 0 Axes>"
      ]
     },
     "metadata": {},
     "output_type": "display_data"
    },
    {
     "data": {
      "text/plain": [
       "<Figure size 432x288 with 0 Axes>"
      ]
     },
     "metadata": {},
     "output_type": "display_data"
    },
    {
     "data": {
      "text/plain": [
       "<Figure size 432x288 with 0 Axes>"
      ]
     },
     "metadata": {},
     "output_type": "display_data"
    },
    {
     "data": {
      "text/plain": [
       "<Figure size 432x288 with 0 Axes>"
      ]
     },
     "metadata": {},
     "output_type": "display_data"
    },
    {
     "data": {
      "text/plain": [
       "<Figure size 432x288 with 0 Axes>"
      ]
     },
     "metadata": {},
     "output_type": "display_data"
    },
    {
     "data": {
      "text/plain": [
       "<Figure size 432x288 with 0 Axes>"
      ]
     },
     "metadata": {},
     "output_type": "display_data"
    },
    {
     "data": {
      "text/plain": [
       "<Figure size 432x288 with 0 Axes>"
      ]
     },
     "metadata": {},
     "output_type": "display_data"
    },
    {
     "data": {
      "text/plain": [
       "<Figure size 432x288 with 0 Axes>"
      ]
     },
     "metadata": {},
     "output_type": "display_data"
    },
    {
     "data": {
      "text/plain": [
       "<Figure size 432x288 with 0 Axes>"
      ]
     },
     "metadata": {},
     "output_type": "display_data"
    },
    {
     "data": {
      "text/plain": [
       "<Figure size 432x288 with 0 Axes>"
      ]
     },
     "metadata": {},
     "output_type": "display_data"
    },
    {
     "data": {
      "text/plain": [
       "<Figure size 432x288 with 0 Axes>"
      ]
     },
     "metadata": {},
     "output_type": "display_data"
    },
    {
     "data": {
      "text/plain": [
       "<Figure size 432x288 with 0 Axes>"
      ]
     },
     "metadata": {},
     "output_type": "display_data"
    },
    {
     "data": {
      "text/plain": [
       "<Figure size 432x288 with 0 Axes>"
      ]
     },
     "metadata": {},
     "output_type": "display_data"
    },
    {
     "data": {
      "text/plain": [
       "<Figure size 432x288 with 0 Axes>"
      ]
     },
     "metadata": {},
     "output_type": "display_data"
    },
    {
     "data": {
      "text/plain": [
       "<Figure size 432x288 with 0 Axes>"
      ]
     },
     "metadata": {},
     "output_type": "display_data"
    },
    {
     "data": {
      "text/plain": [
       "<Figure size 432x288 with 0 Axes>"
      ]
     },
     "metadata": {},
     "output_type": "display_data"
    },
    {
     "data": {
      "text/plain": [
       "<Figure size 432x288 with 0 Axes>"
      ]
     },
     "metadata": {},
     "output_type": "display_data"
    },
    {
     "data": {
      "text/plain": [
       "<Figure size 432x288 with 0 Axes>"
      ]
     },
     "metadata": {},
     "output_type": "display_data"
    },
    {
     "data": {
      "text/plain": [
       "<Figure size 432x288 with 0 Axes>"
      ]
     },
     "metadata": {},
     "output_type": "display_data"
    },
    {
     "data": {
      "text/plain": [
       "<Figure size 432x288 with 0 Axes>"
      ]
     },
     "metadata": {},
     "output_type": "display_data"
    },
    {
     "data": {
      "text/plain": [
       "<Figure size 432x288 with 0 Axes>"
      ]
     },
     "metadata": {},
     "output_type": "display_data"
    },
    {
     "data": {
      "text/plain": [
       "<Figure size 432x288 with 0 Axes>"
      ]
     },
     "metadata": {},
     "output_type": "display_data"
    },
    {
     "data": {
      "text/plain": [
       "<Figure size 432x288 with 0 Axes>"
      ]
     },
     "metadata": {},
     "output_type": "display_data"
    },
    {
     "data": {
      "text/plain": [
       "<Figure size 432x288 with 0 Axes>"
      ]
     },
     "metadata": {},
     "output_type": "display_data"
    },
    {
     "data": {
      "text/plain": [
       "<Figure size 432x288 with 0 Axes>"
      ]
     },
     "metadata": {},
     "output_type": "display_data"
    },
    {
     "data": {
      "text/plain": [
       "<Figure size 432x288 with 0 Axes>"
      ]
     },
     "metadata": {},
     "output_type": "display_data"
    },
    {
     "data": {
      "text/plain": [
       "<Figure size 432x288 with 0 Axes>"
      ]
     },
     "metadata": {},
     "output_type": "display_data"
    },
    {
     "data": {
      "text/plain": [
       "<Figure size 432x288 with 0 Axes>"
      ]
     },
     "metadata": {},
     "output_type": "display_data"
    },
    {
     "data": {
      "text/plain": [
       "<Figure size 432x288 with 0 Axes>"
      ]
     },
     "metadata": {},
     "output_type": "display_data"
    },
    {
     "data": {
      "text/plain": [
       "<Figure size 432x288 with 0 Axes>"
      ]
     },
     "metadata": {},
     "output_type": "display_data"
    },
    {
     "data": {
      "text/plain": [
       "<Figure size 432x288 with 0 Axes>"
      ]
     },
     "metadata": {},
     "output_type": "display_data"
    },
    {
     "data": {
      "text/plain": [
       "<Figure size 432x288 with 0 Axes>"
      ]
     },
     "metadata": {},
     "output_type": "display_data"
    },
    {
     "data": {
      "text/plain": [
       "<Figure size 432x288 with 0 Axes>"
      ]
     },
     "metadata": {},
     "output_type": "display_data"
    },
    {
     "data": {
      "text/plain": [
       "<Figure size 432x288 with 0 Axes>"
      ]
     },
     "metadata": {},
     "output_type": "display_data"
    },
    {
     "data": {
      "text/plain": [
       "<Figure size 432x288 with 0 Axes>"
      ]
     },
     "metadata": {},
     "output_type": "display_data"
    },
    {
     "data": {
      "text/plain": [
       "<Figure size 432x288 with 0 Axes>"
      ]
     },
     "metadata": {},
     "output_type": "display_data"
    },
    {
     "data": {
      "text/plain": [
       "<Figure size 432x288 with 0 Axes>"
      ]
     },
     "metadata": {},
     "output_type": "display_data"
    },
    {
     "data": {
      "text/plain": [
       "<Figure size 432x288 with 0 Axes>"
      ]
     },
     "metadata": {},
     "output_type": "display_data"
    },
    {
     "data": {
      "text/plain": [
       "<Figure size 432x288 with 0 Axes>"
      ]
     },
     "metadata": {},
     "output_type": "display_data"
    },
    {
     "data": {
      "text/plain": [
       "<Figure size 432x288 with 0 Axes>"
      ]
     },
     "metadata": {},
     "output_type": "display_data"
    },
    {
     "data": {
      "text/plain": [
       "<Figure size 432x288 with 0 Axes>"
      ]
     },
     "metadata": {},
     "output_type": "display_data"
    },
    {
     "data": {
      "text/plain": [
       "<Figure size 432x288 with 0 Axes>"
      ]
     },
     "metadata": {},
     "output_type": "display_data"
    },
    {
     "data": {
      "text/plain": [
       "<Figure size 432x288 with 0 Axes>"
      ]
     },
     "metadata": {},
     "output_type": "display_data"
    },
    {
     "data": {
      "text/plain": [
       "<Figure size 432x288 with 0 Axes>"
      ]
     },
     "metadata": {},
     "output_type": "display_data"
    },
    {
     "data": {
      "text/plain": [
       "<Figure size 432x288 with 0 Axes>"
      ]
     },
     "metadata": {},
     "output_type": "display_data"
    },
    {
     "data": {
      "text/plain": [
       "<Figure size 432x288 with 0 Axes>"
      ]
     },
     "metadata": {},
     "output_type": "display_data"
    },
    {
     "data": {
      "text/plain": [
       "<Figure size 432x288 with 0 Axes>"
      ]
     },
     "metadata": {},
     "output_type": "display_data"
    },
    {
     "data": {
      "text/plain": [
       "<Figure size 432x288 with 0 Axes>"
      ]
     },
     "metadata": {},
     "output_type": "display_data"
    },
    {
     "data": {
      "text/plain": [
       "<Figure size 432x288 with 0 Axes>"
      ]
     },
     "metadata": {},
     "output_type": "display_data"
    },
    {
     "data": {
      "text/plain": [
       "<Figure size 432x288 with 0 Axes>"
      ]
     },
     "metadata": {},
     "output_type": "display_data"
    },
    {
     "data": {
      "text/plain": [
       "<Figure size 432x288 with 0 Axes>"
      ]
     },
     "metadata": {},
     "output_type": "display_data"
    },
    {
     "data": {
      "text/plain": [
       "<Figure size 432x288 with 0 Axes>"
      ]
     },
     "metadata": {},
     "output_type": "display_data"
    },
    {
     "data": {
      "text/plain": [
       "<Figure size 432x288 with 0 Axes>"
      ]
     },
     "metadata": {},
     "output_type": "display_data"
    },
    {
     "data": {
      "text/plain": [
       "<Figure size 432x288 with 0 Axes>"
      ]
     },
     "metadata": {},
     "output_type": "display_data"
    },
    {
     "data": {
      "text/plain": [
       "<Figure size 432x288 with 0 Axes>"
      ]
     },
     "metadata": {},
     "output_type": "display_data"
    },
    {
     "data": {
      "text/plain": [
       "<Figure size 432x288 with 0 Axes>"
      ]
     },
     "metadata": {},
     "output_type": "display_data"
    },
    {
     "data": {
      "text/plain": [
       "<Figure size 432x288 with 0 Axes>"
      ]
     },
     "metadata": {},
     "output_type": "display_data"
    },
    {
     "data": {
      "text/plain": [
       "<Figure size 432x288 with 0 Axes>"
      ]
     },
     "metadata": {},
     "output_type": "display_data"
    },
    {
     "data": {
      "text/plain": [
       "<Figure size 432x288 with 0 Axes>"
      ]
     },
     "metadata": {},
     "output_type": "display_data"
    },
    {
     "data": {
      "text/plain": [
       "<Figure size 432x288 with 0 Axes>"
      ]
     },
     "metadata": {},
     "output_type": "display_data"
    },
    {
     "data": {
      "text/plain": [
       "<Figure size 432x288 with 0 Axes>"
      ]
     },
     "metadata": {},
     "output_type": "display_data"
    },
    {
     "data": {
      "text/plain": [
       "<Figure size 432x288 with 0 Axes>"
      ]
     },
     "metadata": {},
     "output_type": "display_data"
    },
    {
     "data": {
      "text/plain": [
       "<Figure size 432x288 with 0 Axes>"
      ]
     },
     "metadata": {},
     "output_type": "display_data"
    },
    {
     "data": {
      "text/plain": [
       "<Figure size 432x288 with 0 Axes>"
      ]
     },
     "metadata": {},
     "output_type": "display_data"
    },
    {
     "data": {
      "text/plain": [
       "<Figure size 432x288 with 0 Axes>"
      ]
     },
     "metadata": {},
     "output_type": "display_data"
    },
    {
     "data": {
      "text/plain": [
       "<Figure size 432x288 with 0 Axes>"
      ]
     },
     "metadata": {},
     "output_type": "display_data"
    },
    {
     "data": {
      "text/plain": [
       "<Figure size 432x288 with 0 Axes>"
      ]
     },
     "metadata": {},
     "output_type": "display_data"
    },
    {
     "data": {
      "text/plain": [
       "<Figure size 432x288 with 0 Axes>"
      ]
     },
     "metadata": {},
     "output_type": "display_data"
    },
    {
     "data": {
      "text/plain": [
       "<Figure size 432x288 with 0 Axes>"
      ]
     },
     "metadata": {},
     "output_type": "display_data"
    },
    {
     "data": {
      "text/plain": [
       "<Figure size 432x288 with 0 Axes>"
      ]
     },
     "metadata": {},
     "output_type": "display_data"
    },
    {
     "data": {
      "text/plain": [
       "<Figure size 432x288 with 0 Axes>"
      ]
     },
     "metadata": {},
     "output_type": "display_data"
    },
    {
     "data": {
      "text/plain": [
       "<Figure size 432x288 with 0 Axes>"
      ]
     },
     "metadata": {},
     "output_type": "display_data"
    },
    {
     "data": {
      "text/plain": [
       "<Figure size 432x288 with 0 Axes>"
      ]
     },
     "metadata": {},
     "output_type": "display_data"
    },
    {
     "data": {
      "text/plain": [
       "<Figure size 432x288 with 0 Axes>"
      ]
     },
     "metadata": {},
     "output_type": "display_data"
    },
    {
     "data": {
      "text/plain": [
       "<Figure size 432x288 with 0 Axes>"
      ]
     },
     "metadata": {},
     "output_type": "display_data"
    },
    {
     "data": {
      "text/plain": [
       "<Figure size 432x288 with 0 Axes>"
      ]
     },
     "metadata": {},
     "output_type": "display_data"
    },
    {
     "data": {
      "text/plain": [
       "<Figure size 432x288 with 0 Axes>"
      ]
     },
     "metadata": {},
     "output_type": "display_data"
    },
    {
     "data": {
      "text/plain": [
       "<Figure size 432x288 with 0 Axes>"
      ]
     },
     "metadata": {},
     "output_type": "display_data"
    },
    {
     "data": {
      "text/plain": [
       "<Figure size 432x288 with 0 Axes>"
      ]
     },
     "metadata": {},
     "output_type": "display_data"
    },
    {
     "data": {
      "text/plain": [
       "<Figure size 432x288 with 0 Axes>"
      ]
     },
     "metadata": {},
     "output_type": "display_data"
    },
    {
     "data": {
      "text/plain": [
       "<Figure size 432x288 with 0 Axes>"
      ]
     },
     "metadata": {},
     "output_type": "display_data"
    },
    {
     "data": {
      "text/plain": [
       "<Figure size 432x288 with 0 Axes>"
      ]
     },
     "metadata": {},
     "output_type": "display_data"
    },
    {
     "data": {
      "text/plain": [
       "<Figure size 432x288 with 0 Axes>"
      ]
     },
     "metadata": {},
     "output_type": "display_data"
    },
    {
     "data": {
      "text/plain": [
       "<Figure size 432x288 with 0 Axes>"
      ]
     },
     "metadata": {},
     "output_type": "display_data"
    },
    {
     "data": {
      "text/plain": [
       "<Figure size 432x288 with 0 Axes>"
      ]
     },
     "metadata": {},
     "output_type": "display_data"
    },
    {
     "data": {
      "text/plain": [
       "<Figure size 432x288 with 0 Axes>"
      ]
     },
     "metadata": {},
     "output_type": "display_data"
    },
    {
     "data": {
      "text/plain": [
       "<Figure size 432x288 with 0 Axes>"
      ]
     },
     "metadata": {},
     "output_type": "display_data"
    },
    {
     "data": {
      "text/plain": [
       "<Figure size 432x288 with 0 Axes>"
      ]
     },
     "metadata": {},
     "output_type": "display_data"
    },
    {
     "data": {
      "text/plain": [
       "<Figure size 432x288 with 0 Axes>"
      ]
     },
     "metadata": {},
     "output_type": "display_data"
    },
    {
     "data": {
      "text/plain": [
       "<Figure size 432x288 with 0 Axes>"
      ]
     },
     "metadata": {},
     "output_type": "display_data"
    },
    {
     "data": {
      "text/plain": [
       "<Figure size 432x288 with 0 Axes>"
      ]
     },
     "metadata": {},
     "output_type": "display_data"
    },
    {
     "data": {
      "text/plain": [
       "<Figure size 432x288 with 0 Axes>"
      ]
     },
     "metadata": {},
     "output_type": "display_data"
    },
    {
     "data": {
      "text/plain": [
       "<Figure size 432x288 with 0 Axes>"
      ]
     },
     "metadata": {},
     "output_type": "display_data"
    },
    {
     "data": {
      "text/plain": [
       "<Figure size 432x288 with 0 Axes>"
      ]
     },
     "metadata": {},
     "output_type": "display_data"
    },
    {
     "data": {
      "text/plain": [
       "<Figure size 432x288 with 0 Axes>"
      ]
     },
     "metadata": {},
     "output_type": "display_data"
    },
    {
     "data": {
      "text/plain": [
       "<Figure size 432x288 with 0 Axes>"
      ]
     },
     "metadata": {},
     "output_type": "display_data"
    },
    {
     "data": {
      "text/plain": [
       "<Figure size 432x288 with 0 Axes>"
      ]
     },
     "metadata": {},
     "output_type": "display_data"
    },
    {
     "data": {
      "text/plain": [
       "<Figure size 432x288 with 0 Axes>"
      ]
     },
     "metadata": {},
     "output_type": "display_data"
    },
    {
     "data": {
      "text/plain": [
       "<Figure size 432x288 with 0 Axes>"
      ]
     },
     "metadata": {},
     "output_type": "display_data"
    },
    {
     "data": {
      "text/plain": [
       "<Figure size 432x288 with 0 Axes>"
      ]
     },
     "metadata": {},
     "output_type": "display_data"
    },
    {
     "data": {
      "text/plain": [
       "<Figure size 432x288 with 0 Axes>"
      ]
     },
     "metadata": {},
     "output_type": "display_data"
    },
    {
     "data": {
      "text/plain": [
       "<Figure size 432x288 with 0 Axes>"
      ]
     },
     "metadata": {},
     "output_type": "display_data"
    },
    {
     "data": {
      "text/plain": [
       "<Figure size 432x288 with 0 Axes>"
      ]
     },
     "metadata": {},
     "output_type": "display_data"
    },
    {
     "data": {
      "text/plain": [
       "<Figure size 432x288 with 0 Axes>"
      ]
     },
     "metadata": {},
     "output_type": "display_data"
    },
    {
     "data": {
      "text/plain": [
       "<Figure size 432x288 with 0 Axes>"
      ]
     },
     "metadata": {},
     "output_type": "display_data"
    },
    {
     "data": {
      "text/plain": [
       "<Figure size 432x288 with 0 Axes>"
      ]
     },
     "metadata": {},
     "output_type": "display_data"
    },
    {
     "data": {
      "text/plain": [
       "<Figure size 432x288 with 0 Axes>"
      ]
     },
     "metadata": {},
     "output_type": "display_data"
    },
    {
     "data": {
      "text/plain": [
       "<Figure size 432x288 with 0 Axes>"
      ]
     },
     "metadata": {},
     "output_type": "display_data"
    },
    {
     "data": {
      "text/plain": [
       "<Figure size 432x288 with 0 Axes>"
      ]
     },
     "metadata": {},
     "output_type": "display_data"
    },
    {
     "data": {
      "text/plain": [
       "<Figure size 432x288 with 0 Axes>"
      ]
     },
     "metadata": {},
     "output_type": "display_data"
    },
    {
     "data": {
      "text/plain": [
       "<Figure size 432x288 with 0 Axes>"
      ]
     },
     "metadata": {},
     "output_type": "display_data"
    },
    {
     "data": {
      "text/plain": [
       "<Figure size 432x288 with 0 Axes>"
      ]
     },
     "metadata": {},
     "output_type": "display_data"
    },
    {
     "data": {
      "text/plain": [
       "<Figure size 432x288 with 0 Axes>"
      ]
     },
     "metadata": {},
     "output_type": "display_data"
    },
    {
     "data": {
      "text/plain": [
       "<Figure size 432x288 with 0 Axes>"
      ]
     },
     "metadata": {},
     "output_type": "display_data"
    },
    {
     "data": {
      "text/plain": [
       "<Figure size 432x288 with 0 Axes>"
      ]
     },
     "metadata": {},
     "output_type": "display_data"
    },
    {
     "data": {
      "text/plain": [
       "<Figure size 432x288 with 0 Axes>"
      ]
     },
     "metadata": {},
     "output_type": "display_data"
    },
    {
     "data": {
      "text/plain": [
       "<Figure size 432x288 with 0 Axes>"
      ]
     },
     "metadata": {},
     "output_type": "display_data"
    },
    {
     "data": {
      "text/plain": [
       "<Figure size 432x288 with 0 Axes>"
      ]
     },
     "metadata": {},
     "output_type": "display_data"
    },
    {
     "data": {
      "text/plain": [
       "<Figure size 432x288 with 0 Axes>"
      ]
     },
     "metadata": {},
     "output_type": "display_data"
    },
    {
     "data": {
      "text/plain": [
       "<Figure size 432x288 with 0 Axes>"
      ]
     },
     "metadata": {},
     "output_type": "display_data"
    },
    {
     "data": {
      "text/plain": [
       "<Figure size 432x288 with 0 Axes>"
      ]
     },
     "metadata": {},
     "output_type": "display_data"
    },
    {
     "data": {
      "text/plain": [
       "<Figure size 432x288 with 0 Axes>"
      ]
     },
     "metadata": {},
     "output_type": "display_data"
    },
    {
     "data": {
      "text/plain": [
       "<Figure size 432x288 with 0 Axes>"
      ]
     },
     "metadata": {},
     "output_type": "display_data"
    },
    {
     "data": {
      "text/plain": [
       "<Figure size 432x288 with 0 Axes>"
      ]
     },
     "metadata": {},
     "output_type": "display_data"
    },
    {
     "data": {
      "text/plain": [
       "<Figure size 432x288 with 0 Axes>"
      ]
     },
     "metadata": {},
     "output_type": "display_data"
    },
    {
     "data": {
      "text/plain": [
       "<Figure size 432x288 with 0 Axes>"
      ]
     },
     "metadata": {},
     "output_type": "display_data"
    },
    {
     "data": {
      "text/plain": [
       "<Figure size 432x288 with 0 Axes>"
      ]
     },
     "metadata": {},
     "output_type": "display_data"
    },
    {
     "data": {
      "text/plain": [
       "<Figure size 432x288 with 0 Axes>"
      ]
     },
     "metadata": {},
     "output_type": "display_data"
    },
    {
     "data": {
      "text/plain": [
       "<Figure size 432x288 with 0 Axes>"
      ]
     },
     "metadata": {},
     "output_type": "display_data"
    },
    {
     "data": {
      "text/plain": [
       "<Figure size 432x288 with 0 Axes>"
      ]
     },
     "metadata": {},
     "output_type": "display_data"
    },
    {
     "data": {
      "text/plain": [
       "<Figure size 432x288 with 0 Axes>"
      ]
     },
     "metadata": {},
     "output_type": "display_data"
    },
    {
     "data": {
      "text/plain": [
       "<Figure size 432x288 with 0 Axes>"
      ]
     },
     "metadata": {},
     "output_type": "display_data"
    },
    {
     "data": {
      "text/plain": [
       "<Figure size 432x288 with 0 Axes>"
      ]
     },
     "metadata": {},
     "output_type": "display_data"
    },
    {
     "data": {
      "text/plain": [
       "<Figure size 432x288 with 0 Axes>"
      ]
     },
     "metadata": {},
     "output_type": "display_data"
    },
    {
     "data": {
      "text/plain": [
       "<Figure size 432x288 with 0 Axes>"
      ]
     },
     "metadata": {},
     "output_type": "display_data"
    },
    {
     "data": {
      "text/plain": [
       "<Figure size 432x288 with 0 Axes>"
      ]
     },
     "metadata": {},
     "output_type": "display_data"
    },
    {
     "data": {
      "text/plain": [
       "<Figure size 432x288 with 0 Axes>"
      ]
     },
     "metadata": {},
     "output_type": "display_data"
    },
    {
     "data": {
      "text/plain": [
       "<Figure size 432x288 with 0 Axes>"
      ]
     },
     "metadata": {},
     "output_type": "display_data"
    },
    {
     "data": {
      "text/plain": [
       "<Figure size 432x288 with 0 Axes>"
      ]
     },
     "metadata": {},
     "output_type": "display_data"
    },
    {
     "data": {
      "text/plain": [
       "<Figure size 432x288 with 0 Axes>"
      ]
     },
     "metadata": {},
     "output_type": "display_data"
    },
    {
     "data": {
      "text/plain": [
       "<Figure size 432x288 with 0 Axes>"
      ]
     },
     "metadata": {},
     "output_type": "display_data"
    },
    {
     "data": {
      "text/plain": [
       "<Figure size 432x288 with 0 Axes>"
      ]
     },
     "metadata": {},
     "output_type": "display_data"
    },
    {
     "data": {
      "text/plain": [
       "<Figure size 432x288 with 0 Axes>"
      ]
     },
     "metadata": {},
     "output_type": "display_data"
    },
    {
     "data": {
      "text/plain": [
       "<Figure size 432x288 with 0 Axes>"
      ]
     },
     "metadata": {},
     "output_type": "display_data"
    },
    {
     "data": {
      "text/plain": [
       "<Figure size 432x288 with 0 Axes>"
      ]
     },
     "metadata": {},
     "output_type": "display_data"
    },
    {
     "data": {
      "text/plain": [
       "<Figure size 432x288 with 0 Axes>"
      ]
     },
     "metadata": {},
     "output_type": "display_data"
    },
    {
     "data": {
      "text/plain": [
       "<Figure size 432x288 with 0 Axes>"
      ]
     },
     "metadata": {},
     "output_type": "display_data"
    },
    {
     "data": {
      "text/plain": [
       "<Figure size 432x288 with 0 Axes>"
      ]
     },
     "metadata": {},
     "output_type": "display_data"
    },
    {
     "data": {
      "text/plain": [
       "<Figure size 432x288 with 0 Axes>"
      ]
     },
     "metadata": {},
     "output_type": "display_data"
    },
    {
     "data": {
      "text/plain": [
       "<Figure size 432x288 with 0 Axes>"
      ]
     },
     "metadata": {},
     "output_type": "display_data"
    },
    {
     "data": {
      "text/plain": [
       "<Figure size 432x288 with 0 Axes>"
      ]
     },
     "metadata": {},
     "output_type": "display_data"
    },
    {
     "data": {
      "text/plain": [
       "<Figure size 432x288 with 0 Axes>"
      ]
     },
     "metadata": {},
     "output_type": "display_data"
    },
    {
     "data": {
      "text/plain": [
       "<Figure size 432x288 with 0 Axes>"
      ]
     },
     "metadata": {},
     "output_type": "display_data"
    },
    {
     "data": {
      "text/plain": [
       "<Figure size 432x288 with 0 Axes>"
      ]
     },
     "metadata": {},
     "output_type": "display_data"
    },
    {
     "data": {
      "text/plain": [
       "<Figure size 432x288 with 0 Axes>"
      ]
     },
     "metadata": {},
     "output_type": "display_data"
    },
    {
     "data": {
      "text/plain": [
       "<Figure size 432x288 with 0 Axes>"
      ]
     },
     "metadata": {},
     "output_type": "display_data"
    },
    {
     "data": {
      "text/plain": [
       "<Figure size 432x288 with 0 Axes>"
      ]
     },
     "metadata": {},
     "output_type": "display_data"
    },
    {
     "data": {
      "text/plain": [
       "<Figure size 432x288 with 0 Axes>"
      ]
     },
     "metadata": {},
     "output_type": "display_data"
    },
    {
     "data": {
      "text/plain": [
       "<Figure size 432x288 with 0 Axes>"
      ]
     },
     "metadata": {},
     "output_type": "display_data"
    },
    {
     "data": {
      "text/plain": [
       "<Figure size 432x288 with 0 Axes>"
      ]
     },
     "metadata": {},
     "output_type": "display_data"
    },
    {
     "data": {
      "text/plain": [
       "<Figure size 432x288 with 0 Axes>"
      ]
     },
     "metadata": {},
     "output_type": "display_data"
    },
    {
     "data": {
      "text/plain": [
       "<Figure size 432x288 with 0 Axes>"
      ]
     },
     "metadata": {},
     "output_type": "display_data"
    },
    {
     "data": {
      "text/plain": [
       "<Figure size 432x288 with 0 Axes>"
      ]
     },
     "metadata": {},
     "output_type": "display_data"
    },
    {
     "data": {
      "text/plain": [
       "<Figure size 432x288 with 0 Axes>"
      ]
     },
     "metadata": {},
     "output_type": "display_data"
    },
    {
     "data": {
      "text/plain": [
       "<Figure size 432x288 with 0 Axes>"
      ]
     },
     "metadata": {},
     "output_type": "display_data"
    },
    {
     "data": {
      "text/plain": [
       "<Figure size 432x288 with 0 Axes>"
      ]
     },
     "metadata": {},
     "output_type": "display_data"
    },
    {
     "data": {
      "text/plain": [
       "<Figure size 432x288 with 0 Axes>"
      ]
     },
     "metadata": {},
     "output_type": "display_data"
    },
    {
     "data": {
      "text/plain": [
       "<Figure size 432x288 with 0 Axes>"
      ]
     },
     "metadata": {},
     "output_type": "display_data"
    },
    {
     "data": {
      "text/plain": [
       "<Figure size 432x288 with 0 Axes>"
      ]
     },
     "metadata": {},
     "output_type": "display_data"
    },
    {
     "data": {
      "text/plain": [
       "<Figure size 432x288 with 0 Axes>"
      ]
     },
     "metadata": {},
     "output_type": "display_data"
    },
    {
     "data": {
      "text/plain": [
       "<Figure size 432x288 with 0 Axes>"
      ]
     },
     "metadata": {},
     "output_type": "display_data"
    },
    {
     "data": {
      "text/plain": [
       "<Figure size 432x288 with 0 Axes>"
      ]
     },
     "metadata": {},
     "output_type": "display_data"
    },
    {
     "data": {
      "text/plain": [
       "<Figure size 432x288 with 0 Axes>"
      ]
     },
     "metadata": {},
     "output_type": "display_data"
    },
    {
     "data": {
      "text/plain": [
       "<Figure size 432x288 with 0 Axes>"
      ]
     },
     "metadata": {},
     "output_type": "display_data"
    },
    {
     "data": {
      "text/plain": [
       "<Figure size 432x288 with 0 Axes>"
      ]
     },
     "metadata": {},
     "output_type": "display_data"
    },
    {
     "data": {
      "text/plain": [
       "<Figure size 432x288 with 0 Axes>"
      ]
     },
     "metadata": {},
     "output_type": "display_data"
    },
    {
     "data": {
      "text/plain": [
       "<Figure size 432x288 with 0 Axes>"
      ]
     },
     "metadata": {},
     "output_type": "display_data"
    },
    {
     "data": {
      "text/plain": [
       "<Figure size 432x288 with 0 Axes>"
      ]
     },
     "metadata": {},
     "output_type": "display_data"
    },
    {
     "data": {
      "text/plain": [
       "<Figure size 432x288 with 0 Axes>"
      ]
     },
     "metadata": {},
     "output_type": "display_data"
    },
    {
     "data": {
      "text/plain": [
       "<Figure size 432x288 with 0 Axes>"
      ]
     },
     "metadata": {},
     "output_type": "display_data"
    },
    {
     "data": {
      "text/plain": [
       "<Figure size 432x288 with 0 Axes>"
      ]
     },
     "metadata": {},
     "output_type": "display_data"
    },
    {
     "data": {
      "text/plain": [
       "<Figure size 432x288 with 0 Axes>"
      ]
     },
     "metadata": {},
     "output_type": "display_data"
    },
    {
     "data": {
      "text/plain": [
       "<Figure size 432x288 with 0 Axes>"
      ]
     },
     "metadata": {},
     "output_type": "display_data"
    },
    {
     "data": {
      "text/plain": [
       "<Figure size 432x288 with 0 Axes>"
      ]
     },
     "metadata": {},
     "output_type": "display_data"
    },
    {
     "data": {
      "text/plain": [
       "<Figure size 432x288 with 0 Axes>"
      ]
     },
     "metadata": {},
     "output_type": "display_data"
    },
    {
     "data": {
      "text/plain": [
       "<Figure size 432x288 with 0 Axes>"
      ]
     },
     "metadata": {},
     "output_type": "display_data"
    },
    {
     "data": {
      "text/plain": [
       "<Figure size 432x288 with 0 Axes>"
      ]
     },
     "metadata": {},
     "output_type": "display_data"
    },
    {
     "data": {
      "text/plain": [
       "<Figure size 432x288 with 0 Axes>"
      ]
     },
     "metadata": {},
     "output_type": "display_data"
    },
    {
     "data": {
      "text/plain": [
       "<Figure size 432x288 with 0 Axes>"
      ]
     },
     "metadata": {},
     "output_type": "display_data"
    },
    {
     "data": {
      "text/plain": [
       "<Figure size 432x288 with 0 Axes>"
      ]
     },
     "metadata": {},
     "output_type": "display_data"
    },
    {
     "data": {
      "text/plain": [
       "<Figure size 432x288 with 0 Axes>"
      ]
     },
     "metadata": {},
     "output_type": "display_data"
    },
    {
     "data": {
      "text/plain": [
       "<Figure size 432x288 with 0 Axes>"
      ]
     },
     "metadata": {},
     "output_type": "display_data"
    },
    {
     "data": {
      "text/plain": [
       "<Figure size 432x288 with 0 Axes>"
      ]
     },
     "metadata": {},
     "output_type": "display_data"
    },
    {
     "data": {
      "text/plain": [
       "<Figure size 432x288 with 0 Axes>"
      ]
     },
     "metadata": {},
     "output_type": "display_data"
    },
    {
     "data": {
      "text/plain": [
       "<Figure size 432x288 with 0 Axes>"
      ]
     },
     "metadata": {},
     "output_type": "display_data"
    },
    {
     "data": {
      "text/plain": [
       "<Figure size 432x288 with 0 Axes>"
      ]
     },
     "metadata": {},
     "output_type": "display_data"
    },
    {
     "data": {
      "text/plain": [
       "<Figure size 432x288 with 0 Axes>"
      ]
     },
     "metadata": {},
     "output_type": "display_data"
    },
    {
     "data": {
      "text/plain": [
       "<Figure size 432x288 with 0 Axes>"
      ]
     },
     "metadata": {},
     "output_type": "display_data"
    },
    {
     "data": {
      "text/plain": [
       "<Figure size 432x288 with 0 Axes>"
      ]
     },
     "metadata": {},
     "output_type": "display_data"
    },
    {
     "data": {
      "text/plain": [
       "<Figure size 432x288 with 0 Axes>"
      ]
     },
     "metadata": {},
     "output_type": "display_data"
    },
    {
     "data": {
      "text/plain": [
       "<Figure size 432x288 with 0 Axes>"
      ]
     },
     "metadata": {},
     "output_type": "display_data"
    },
    {
     "data": {
      "text/plain": [
       "<Figure size 432x288 with 0 Axes>"
      ]
     },
     "metadata": {},
     "output_type": "display_data"
    },
    {
     "data": {
      "text/plain": [
       "<Figure size 432x288 with 0 Axes>"
      ]
     },
     "metadata": {},
     "output_type": "display_data"
    },
    {
     "data": {
      "text/plain": [
       "<Figure size 432x288 with 0 Axes>"
      ]
     },
     "metadata": {},
     "output_type": "display_data"
    },
    {
     "data": {
      "text/plain": [
       "<Figure size 432x288 with 0 Axes>"
      ]
     },
     "metadata": {},
     "output_type": "display_data"
    },
    {
     "data": {
      "text/plain": [
       "<Figure size 432x288 with 0 Axes>"
      ]
     },
     "metadata": {},
     "output_type": "display_data"
    },
    {
     "data": {
      "text/plain": [
       "<Figure size 432x288 with 0 Axes>"
      ]
     },
     "metadata": {},
     "output_type": "display_data"
    },
    {
     "data": {
      "text/plain": [
       "<Figure size 432x288 with 0 Axes>"
      ]
     },
     "metadata": {},
     "output_type": "display_data"
    },
    {
     "data": {
      "text/plain": [
       "<Figure size 432x288 with 0 Axes>"
      ]
     },
     "metadata": {},
     "output_type": "display_data"
    },
    {
     "data": {
      "text/plain": [
       "<Figure size 432x288 with 0 Axes>"
      ]
     },
     "metadata": {},
     "output_type": "display_data"
    },
    {
     "data": {
      "text/plain": [
       "<Figure size 432x288 with 0 Axes>"
      ]
     },
     "metadata": {},
     "output_type": "display_data"
    },
    {
     "data": {
      "text/plain": [
       "<Figure size 432x288 with 0 Axes>"
      ]
     },
     "metadata": {},
     "output_type": "display_data"
    },
    {
     "data": {
      "text/plain": [
       "<Figure size 432x288 with 0 Axes>"
      ]
     },
     "metadata": {},
     "output_type": "display_data"
    },
    {
     "data": {
      "text/plain": [
       "<Figure size 432x288 with 0 Axes>"
      ]
     },
     "metadata": {},
     "output_type": "display_data"
    },
    {
     "data": {
      "text/plain": [
       "<Figure size 432x288 with 0 Axes>"
      ]
     },
     "metadata": {},
     "output_type": "display_data"
    }
   ],
   "source": [
    "genres = 'blues classical country disco hiphop jazz metal pop reggae rock'.split()\n",
    "for g in tqdm(genres):\n",
    "    pathlib.Path(f'img_data/{g}').mkdir(parents=True, exist_ok = True)\n",
    "    for filename in tqdm(os.listdir(f'./genres/{g}')):\n",
    "        songname = f'./genres/{g}/{filename}'\n",
    "        samples, sampling_rate = librosa.load(songname, mono=True, duration=5)\n",
    "        S = librosa.feature.melspectrogram(y = samples, sr = sampling_rate, n_mels=128, fmax=8000)\n",
    "        fig, ax = plt.subplots()\n",
    "        S_db = librosa.power_to_db(S, ref=np.max)\n",
    "        librosa.display.specshow(S_db, x_axis='time',\n",
    "                                    sr = sampling_rate,\n",
    "                                    fmax=8000, \n",
    "                                    ax=ax)\n",
    "        plt.savefig(f'img_data/{g}/{filename.replace(\".wav\", \".png\")}')\n",
    "        plt.clf()\n",
    "        time.sleep(0.001)\n",
    "    time.sleep(0.001)\n",
    "\n",
    "        \n",
    "        "
   ]
  },
  {
   "cell_type": "code",
   "execution_count": 70,
   "metadata": {},
   "outputs": [],
   "source": [
    "from keras.preprocessing.image import ImageDataGenerator"
   ]
  },
  {
   "cell_type": "code",
   "execution_count": 23,
   "metadata": {},
   "outputs": [],
   "source": [
    "HW = {\"height\" : 64, \"width\" :64}\n",
    "\n",
    "def make_train_set(path):\n",
    "    TRAIN = \"/train\"\n",
    "    genres = os.listdir(path + TRAIN)\n",
    "    train_files = {}\n",
    "    for genre in genres:\n",
    "        train_files[genre] = []\n",
    "        dirname = path + TRAIN + \"/\" + genre\n",
    "        for img_file in tqdm(os.listdir(dirname)):\n",
    "            image_file_name = dirname + \"/\" + img_file\n",
    "            img = load_img(image_file_name, target_size=(HW['height'], HW['width']))\n",
    "            array = img_to_array(img) / 255\n",
    "            train_files[genre].append(array)\n",
    "    \n",
    "    return train_files\n"
   ]
  },
  {
   "cell_type": "code",
   "execution_count": 28,
   "metadata": {},
   "outputs": [],
   "source": [
    "def make_test_set(path):\n",
    "    TEST = \"/val\"\n",
    "    genres = os.listdir(path + TEST)\n",
    "    test_files = {}\n",
    "    for genre in genres:\n",
    "        test_files[genre] = []\n",
    "        dirname = path + TEST + \"/\" + genre\n",
    "        for img_file in tqdm(os.listdir(dirname)):\n",
    "            image_file_name = dirname + \"/\" + img_file\n",
    "            img = load_img(image_file_name, target_size=(HW['height'], HW['width']))\n",
    "            print(img_file)\n",
    "            array = img_to_array(img) / 255\n",
    "            test_files[genre].append(array)\n",
    "    \n",
    "    return test_files"
   ]
  },
  {
   "cell_type": "code",
   "execution_count": 83,
   "metadata": {},
   "outputs": [
    {
     "data": {
      "application/vnd.jupyter.widget-view+json": {
       "model_id": "d32b14d8dddb48509850a07a6af9dacf",
       "version_major": 2,
       "version_minor": 0
      },
      "text/plain": [
       "HBox(children=(HTML(value=''), FloatProgress(value=0.0, max=80.0), HTML(value='')))"
      ]
     },
     "metadata": {},
     "output_type": "display_data"
    },
    {
     "name": "stdout",
     "output_type": "stream",
     "text": [
      "\n"
     ]
    },
    {
     "data": {
      "application/vnd.jupyter.widget-view+json": {
       "model_id": "8c8b11dbe30644fabc406f1ac40f0fca",
       "version_major": 2,
       "version_minor": 0
      },
      "text/plain": [
       "HBox(children=(HTML(value=''), FloatProgress(value=0.0, max=80.0), HTML(value='')))"
      ]
     },
     "metadata": {},
     "output_type": "display_data"
    },
    {
     "name": "stdout",
     "output_type": "stream",
     "text": [
      "\n"
     ]
    },
    {
     "data": {
      "application/vnd.jupyter.widget-view+json": {
       "model_id": "a27aec57ef244c3487304a03f6a0c1b0",
       "version_major": 2,
       "version_minor": 0
      },
      "text/plain": [
       "HBox(children=(HTML(value=''), FloatProgress(value=0.0, max=80.0), HTML(value='')))"
      ]
     },
     "metadata": {},
     "output_type": "display_data"
    },
    {
     "name": "stdout",
     "output_type": "stream",
     "text": [
      "\n"
     ]
    },
    {
     "data": {
      "application/vnd.jupyter.widget-view+json": {
       "model_id": "66354a68cbbe4b39971d46269a6ad8e1",
       "version_major": 2,
       "version_minor": 0
      },
      "text/plain": [
       "HBox(children=(HTML(value=''), FloatProgress(value=0.0, max=80.0), HTML(value='')))"
      ]
     },
     "metadata": {},
     "output_type": "display_data"
    },
    {
     "name": "stdout",
     "output_type": "stream",
     "text": [
      "\n"
     ]
    },
    {
     "data": {
      "application/vnd.jupyter.widget-view+json": {
       "model_id": "04831efb79394067af825c75ff633216",
       "version_major": 2,
       "version_minor": 0
      },
      "text/plain": [
       "HBox(children=(HTML(value=''), FloatProgress(value=0.0, max=80.0), HTML(value='')))"
      ]
     },
     "metadata": {},
     "output_type": "display_data"
    },
    {
     "name": "stdout",
     "output_type": "stream",
     "text": [
      "\n"
     ]
    },
    {
     "data": {
      "application/vnd.jupyter.widget-view+json": {
       "model_id": "bfe41a6c5aab4ed281029aaa7f2ab1d4",
       "version_major": 2,
       "version_minor": 0
      },
      "text/plain": [
       "HBox(children=(HTML(value=''), FloatProgress(value=0.0, max=80.0), HTML(value='')))"
      ]
     },
     "metadata": {},
     "output_type": "display_data"
    },
    {
     "name": "stdout",
     "output_type": "stream",
     "text": [
      "\n"
     ]
    },
    {
     "data": {
      "application/vnd.jupyter.widget-view+json": {
       "model_id": "a5aa63596422429089bded11d5af9caf",
       "version_major": 2,
       "version_minor": 0
      },
      "text/plain": [
       "HBox(children=(HTML(value=''), FloatProgress(value=0.0, max=80.0), HTML(value='')))"
      ]
     },
     "metadata": {},
     "output_type": "display_data"
    },
    {
     "name": "stdout",
     "output_type": "stream",
     "text": [
      "\n"
     ]
    },
    {
     "data": {
      "application/vnd.jupyter.widget-view+json": {
       "model_id": "1abb5be436f6470ab610dd8a82eb26b8",
       "version_major": 2,
       "version_minor": 0
      },
      "text/plain": [
       "HBox(children=(HTML(value=''), FloatProgress(value=0.0, max=80.0), HTML(value='')))"
      ]
     },
     "metadata": {},
     "output_type": "display_data"
    },
    {
     "name": "stdout",
     "output_type": "stream",
     "text": [
      "\n"
     ]
    },
    {
     "data": {
      "application/vnd.jupyter.widget-view+json": {
       "model_id": "03ec2b491c644148aea777c3e7f367f1",
       "version_major": 2,
       "version_minor": 0
      },
      "text/plain": [
       "HBox(children=(HTML(value=''), FloatProgress(value=0.0, max=80.0), HTML(value='')))"
      ]
     },
     "metadata": {},
     "output_type": "display_data"
    },
    {
     "name": "stdout",
     "output_type": "stream",
     "text": [
      "\n"
     ]
    },
    {
     "data": {
      "application/vnd.jupyter.widget-view+json": {
       "model_id": "28927b90ecdb439097fa35e303ad83da",
       "version_major": 2,
       "version_minor": 0
      },
      "text/plain": [
       "HBox(children=(HTML(value=''), FloatProgress(value=0.0, max=80.0), HTML(value='')))"
      ]
     },
     "metadata": {},
     "output_type": "display_data"
    },
    {
     "name": "stdout",
     "output_type": "stream",
     "text": [
      "\n"
     ]
    }
   ],
   "source": [
    "train_set = make_train_set(\"./data\")"
   ]
  },
  {
   "cell_type": "code",
   "execution_count": 74,
   "metadata": {},
   "outputs": [
    {
     "data": {
      "text/plain": [
       "'./data/train/'"
      ]
     },
     "metadata": {},
     "output_type": "display_data"
    }
   ],
   "source": [
    "display(\"./data/train/\")"
   ]
  },
  {
   "cell_type": "code",
   "execution_count": 76,
   "metadata": {},
   "outputs": [
    {
     "name": "stdout",
     "output_type": "stream",
     "text": [
      "10\n",
      "[[1. 1. 1.]\n",
      " [1. 1. 1.]\n",
      " [1. 1. 1.]\n",
      " [1. 1. 1.]\n",
      " [1. 1. 1.]\n",
      " [1. 1. 1.]\n",
      " [1. 1. 1.]\n",
      " [1. 1. 1.]\n",
      " [1. 1. 1.]\n",
      " [1. 1. 1.]\n",
      " [1. 1. 1.]\n",
      " [1. 1. 1.]\n",
      " [1. 1. 1.]\n",
      " [1. 1. 1.]\n",
      " [1. 1. 1.]\n",
      " [1. 1. 1.]\n",
      " [1. 1. 1.]\n",
      " [1. 1. 1.]\n",
      " [1. 1. 1.]\n",
      " [1. 1. 1.]\n",
      " [1. 1. 1.]\n",
      " [1. 1. 1.]\n",
      " [1. 1. 1.]\n",
      " [1. 1. 1.]\n",
      " [1. 1. 1.]\n",
      " [1. 1. 1.]\n",
      " [1. 1. 1.]\n",
      " [1. 1. 1.]\n",
      " [1. 1. 1.]\n",
      " [1. 1. 1.]\n",
      " [1. 1. 1.]\n",
      " [1. 1. 1.]\n",
      " [1. 1. 1.]\n",
      " [1. 1. 1.]\n",
      " [1. 1. 1.]\n",
      " [1. 1. 1.]\n",
      " [1. 1. 1.]\n",
      " [1. 1. 1.]\n",
      " [1. 1. 1.]\n",
      " [1. 1. 1.]\n",
      " [1. 1. 1.]\n",
      " [1. 1. 1.]\n",
      " [1. 1. 1.]\n",
      " [1. 1. 1.]\n",
      " [1. 1. 1.]\n",
      " [1. 1. 1.]\n",
      " [1. 1. 1.]\n",
      " [1. 1. 1.]\n",
      " [1. 1. 1.]\n",
      " [1. 1. 1.]\n",
      " [1. 1. 1.]\n",
      " [1. 1. 1.]\n",
      " [1. 1. 1.]\n",
      " [1. 1. 1.]\n",
      " [1. 1. 1.]\n",
      " [1. 1. 1.]\n",
      " [1. 1. 1.]\n",
      " [1. 1. 1.]\n",
      " [1. 1. 1.]\n",
      " [1. 1. 1.]\n",
      " [1. 1. 1.]\n",
      " [1. 1. 1.]\n",
      " [1. 1. 1.]\n",
      " [1. 1. 1.]]\n"
     ]
    }
   ],
   "source": [
    "genres = 'blues classical country disco hiphop jazz metal pop reggae rock'.split()\n",
    "NUM_GENRES = print(len(genres))\n",
    "print(test_set[genres[0]][0][0])"
   ]
  },
  {
   "cell_type": "code",
   "execution_count": 50,
   "metadata": {},
   "outputs": [],
   "source": [
    "def makeCNN(input_shape=(HW[\"height\"], HW[\"width\"], 3), num_classes = 3):\n",
    "    model = Sequential()\n",
    "    \n",
    "    model.add(Conv2D(24, 3, padding=\"same\", input_shape=input_shape))\n",
    "    model.add(Activation('relu'))\n",
    "    \n",
    "    model.add(Conv2D(48, 3))\n",
    "    model.add(Activation('relu'))\n",
    "    model.add(MaxPooling2D(pool_size=(2, 2)))\n",
    "    model.add(Dropout(0.5))\n",
    "    \n",
    "    model.add(Conv2D(96, 3, padding=\"same\"))\n",
    "    model.add(Activation('relu'))\n",
    "    \n",
    "    model.add(Conv2D(96, 3))\n",
    "    model.add(Activation('relu'))\n",
    "    model.add(MaxPooling2D(pool_size=(2, 2)))\n",
    "    model.add(Dropout(0.5))\n",
    "    \n",
    "    model.add(Flatten())\n",
    "    model.add(Dense(128))\n",
    "    model.add(Activation('relu'))\n",
    "    model.add(Dropout(0.5))\n",
    "    \n",
    "    model.add(Dense(num_classes))\n",
    "    model.add(Activation('softmax'))\n",
    "    \n",
    "    adam = Adam(lr = 0.001, beta_1 = 0.9, beta_2 = 0.999, epsilon=1e-08)\n",
    "    model.compile(loss='categorical_crossentropy', optimizer=adam, metrics=['accuracy'])\n",
    "    \n",
    "    return model\n",
    "    "
   ]
  },
  {
   "cell_type": "code",
   "execution_count": 102,
   "metadata": {},
   "outputs": [],
   "source": [
    "def learn(epochs = 50, batch_size=8, learn_schedule=0.9):\n",
    "    X_TRAIN_list = []; Y_TRAIN_list = []; X_TEST_list = []; Y_TEST_list = [];\n",
    "    target = 0\n",
    "    for genre in train_set.keys():\n",
    "        data = train_set[genre] + test_set[genre]\n",
    "        num_tests = len(data) // 5\n",
    "        num_trains = len(data) - num_tests\n",
    "        X_TRAIN_list += [data[i] for i in range(num_trains)]     # 画像データ\n",
    "        Y_TRAIN_list += [target] * num_trains                         \n",
    "        X_TEST_list  += [data[i] for i in range(num_trains, num_trains + num_tests)] # 学習しない画像データ\n",
    "        Y_TEST_list  += [target] * num_tests;                  # 学習しない分類番号\n",
    "        target += 1\n",
    "\n",
    "    X_TRAIN = np.array(X_TRAIN_list + X_TEST_list)    # 連結\n",
    "    Y_TRAIN = np.array(Y_TRAIN_list + Y_TEST_list)    # 連結\n",
    "    print(\">> 学習サンプル数 : \", X_TRAIN.shape)\n",
    "    y_train = np_utils.to_categorical(Y_TRAIN, target)    # 自然数をベクトルに変換\n",
    "    valrate = num_tests * target * 1.0 / X_TRAIN.shape[0]\n",
    "    \n",
    "    class Schedule(object):\n",
    "        def __init__(self, init=0.001):\n",
    "            self.init = init\n",
    "        def __call__(self, epoch):\n",
    "            lr = self.init\n",
    "            for i in range(1, epoch + 1):\n",
    "                lr *= learn_schedule\n",
    "            return lr\n",
    "        \n",
    "    def get_schedule_func(init):\n",
    "        return Schedule(init)\n",
    "\n",
    "    lrs = LearningRateScheduler(get_schedule_func(0.001))\n",
    "    \n",
    "    mcp = ModelCheckpoint(filepath = \"best.hdf5\", monitor='val_loss', verbose=1, save_best_only=True, mode='auto')\n",
    "    model = makeCNN(input_shape=(X_TRAIN.shape[1], X_TRAIN.shape[2], X_TRAIN.shape[3]), num_classes=target)\n",
    "    \n",
    "    hist = model.fit(X_TRAIN, y_train,\n",
    "                    batch_size=batch_size,\n",
    "                    verbose=1,\n",
    "                    epochs=epochs,\n",
    "                    validation_split=valrate,\n",
    "                    callbacks=[lrs, mcp])\n",
    "\n",
    "    json_string = model.to_json()\n",
    "    json_string += '##########' + str(genres)\n",
    "    open('model.json', 'w').write(json_string)\n",
    "    model.save_weights('last.hdf5')\n",
    "\n",
    "    \n",
    "    \n",
    "def test_process(imgname, path):\n",
    "    modelname_text = open(\"model.json\").read()\n",
    "    json_strings = modelname_text.split('##########')\n",
    "    textlist = json_strings[1].replace(\"[\", \"\").replace(\"]\", \"\").replace(\"\\'\", \"\").split()\n",
    "    model = model_from_json(json_strings[0])\n",
    "    model.load_weights(\"last.hdf5\")  # best.hdf5 で損失最小のパラメータを使用\n",
    "    img = load_img(path + imgname, target_size=(HW[\"height\"], HW[\"width\"]))    \n",
    "    TEST = img_to_array(img) / 255\n",
    "\n",
    "    pred = model.predict(np.array([TEST]), batch_size=1, verbose=0)\n",
    "    print(\">> 計算結果↓\\n\" + str(pred))\n",
    "    print(\">> この画像は「\" + textlist[np.argmax(pred)].replace(\",\", \"\") + \"」です。\")\n",
    "    return textlist[np.argmax(pred)].replace(\",\", \"\")\n",
    "    "
   ]
  },
  {
   "cell_type": "code",
   "execution_count": 94,
   "metadata": {},
   "outputs": [],
   "source": [
    "def make_test_generator():\n",
    "    test_datagen = ImageDataGenerator(rescale=1./255)\n",
    "    test_generator = test_datagen.flow_from_directory(\n",
    "        './data/val',\n",
    "        target_size=(64, 64),\n",
    "        batch_size=32,\n",
    "        class_mode='categorical',\n",
    "        shuffle = False)\n",
    "    return test_generator"
   ]
  },
  {
   "cell_type": "code",
   "execution_count": 84,
   "metadata": {
    "scrolled": true
   },
   "outputs": [
    {
     "name": "stdout",
     "output_type": "stream",
     "text": [
      ">> 学習サンプル数 :  (1000, 64, 64, 3)\n",
      "Epoch 1/50\n",
      "100/100 [==============================] - 10s 82ms/step - loss: 2.3424 - accuracy: 0.1082 - val_loss: 2.3026 - val_accuracy: 0.1000\n",
      "\n",
      "Epoch 00001: val_loss improved from inf to 2.30260, saving model to best.hdf5\n",
      "Epoch 2/50\n",
      "100/100 [==============================] - 6s 62ms/step - loss: 2.2956 - accuracy: 0.1112 - val_loss: 2.3026 - val_accuracy: 0.1000\n",
      "\n",
      "Epoch 00002: val_loss improved from 2.30260 to 2.30259, saving model to best.hdf5\n",
      "Epoch 3/50\n",
      "100/100 [==============================] - 6s 63ms/step - loss: 2.2357 - accuracy: 0.1606 - val_loss: 2.2935 - val_accuracy: 0.1550\n",
      "\n",
      "Epoch 00003: val_loss improved from 2.30259 to 2.29348, saving model to best.hdf5\n",
      "Epoch 4/50\n",
      "100/100 [==============================] - 6s 64ms/step - loss: 2.1630 - accuracy: 0.1959 - val_loss: 2.3059 - val_accuracy: 0.1000\n",
      "\n",
      "Epoch 00004: val_loss did not improve from 2.29348\n",
      "Epoch 5/50\n",
      "100/100 [==============================] - 7s 65ms/step - loss: 2.1208 - accuracy: 0.1853 - val_loss: 2.3490 - val_accuracy: 0.0650\n",
      "\n",
      "Epoch 00005: val_loss did not improve from 2.29348\n",
      "Epoch 6/50\n",
      "100/100 [==============================] - 6s 64ms/step - loss: 2.0622 - accuracy: 0.2285 - val_loss: 2.3419 - val_accuracy: 0.1000\n",
      "\n",
      "Epoch 00006: val_loss did not improve from 2.29348\n",
      "Epoch 7/50\n",
      "100/100 [==============================] - 6s 64ms/step - loss: 2.0443 - accuracy: 0.2150 - val_loss: 2.2891 - val_accuracy: 0.1100\n",
      "\n",
      "Epoch 00007: val_loss improved from 2.29348 to 2.28909, saving model to best.hdf5\n",
      "Epoch 8/50\n",
      "100/100 [==============================] - 6s 63ms/step - loss: 1.9908 - accuracy: 0.2349 - val_loss: 2.4602 - val_accuracy: 0.0800\n",
      "\n",
      "Epoch 00008: val_loss did not improve from 2.28909\n",
      "Epoch 9/50\n",
      "100/100 [==============================] - 6s 63ms/step - loss: 1.9808 - accuracy: 0.2572 - val_loss: 2.3027 - val_accuracy: 0.1100\n",
      "\n",
      "Epoch 00009: val_loss did not improve from 2.28909\n",
      "Epoch 10/50\n",
      "100/100 [==============================] - 6s 64ms/step - loss: 1.8761 - accuracy: 0.3248 - val_loss: 2.3199 - val_accuracy: 0.0850\n",
      "\n",
      "Epoch 00010: val_loss did not improve from 2.28909\n",
      "Epoch 11/50\n",
      "100/100 [==============================] - 6s 63ms/step - loss: 1.6957 - accuracy: 0.3581 - val_loss: 2.3061 - val_accuracy: 0.0900\n",
      "\n",
      "Epoch 00011: val_loss did not improve from 2.28909\n",
      "Epoch 12/50\n",
      "100/100 [==============================] - 6s 63ms/step - loss: 1.6743 - accuracy: 0.3947 - val_loss: 2.3534 - val_accuracy: 0.0800\n",
      "\n",
      "Epoch 00012: val_loss did not improve from 2.28909\n",
      "Epoch 13/50\n",
      "100/100 [==============================] - 6s 62ms/step - loss: 1.5953 - accuracy: 0.4634 - val_loss: 2.3272 - val_accuracy: 0.1300\n",
      "\n",
      "Epoch 00013: val_loss did not improve from 2.28909\n",
      "Epoch 14/50\n",
      "100/100 [==============================] - 6s 63ms/step - loss: 1.4606 - accuracy: 0.4731 - val_loss: 2.3180 - val_accuracy: 0.1000\n",
      "\n",
      "Epoch 00014: val_loss did not improve from 2.28909\n",
      "Epoch 15/50\n",
      "100/100 [==============================] - 6s 63ms/step - loss: 1.3497 - accuracy: 0.4893 - val_loss: 2.3954 - val_accuracy: 0.0950\n",
      "\n",
      "Epoch 00015: val_loss did not improve from 2.28909\n",
      "Epoch 16/50\n",
      "100/100 [==============================] - 6s 62ms/step - loss: 1.2154 - accuracy: 0.5773 - val_loss: 2.3516 - val_accuracy: 0.1200\n",
      "\n",
      "Epoch 00016: val_loss did not improve from 2.28909\n",
      "Epoch 17/50\n",
      "100/100 [==============================] - 6s 62ms/step - loss: 1.2368 - accuracy: 0.5776 - val_loss: 2.3583 - val_accuracy: 0.1000\n",
      "\n",
      "Epoch 00017: val_loss did not improve from 2.28909\n",
      "Epoch 18/50\n",
      "100/100 [==============================] - 6s 63ms/step - loss: 1.1743 - accuracy: 0.5905 - val_loss: 2.3456 - val_accuracy: 0.1000\n",
      "\n",
      "Epoch 00018: val_loss did not improve from 2.28909\n",
      "Epoch 19/50\n",
      "100/100 [==============================] - 6s 63ms/step - loss: 1.0690 - accuracy: 0.6547 - val_loss: 2.5539 - val_accuracy: 0.0950\n",
      "\n",
      "Epoch 00019: val_loss did not improve from 2.28909\n",
      "Epoch 20/50\n",
      "100/100 [==============================] - 6s 63ms/step - loss: 1.0748 - accuracy: 0.6101 - val_loss: 2.4739 - val_accuracy: 0.0900\n",
      "\n",
      "Epoch 00020: val_loss did not improve from 2.28909\n",
      "Epoch 21/50\n",
      "100/100 [==============================] - 6s 62ms/step - loss: 1.0381 - accuracy: 0.6439 - val_loss: 2.4928 - val_accuracy: 0.0950\n",
      "\n",
      "Epoch 00021: val_loss did not improve from 2.28909\n",
      "Epoch 22/50\n",
      "100/100 [==============================] - 6s 63ms/step - loss: 1.0406 - accuracy: 0.6472 - val_loss: 2.7024 - val_accuracy: 0.1050\n",
      "\n",
      "Epoch 00022: val_loss did not improve from 2.28909\n",
      "Epoch 23/50\n",
      "100/100 [==============================] - 6s 63ms/step - loss: 0.9433 - accuracy: 0.6659 - val_loss: 2.6776 - val_accuracy: 0.1000\n",
      "\n",
      "Epoch 00023: val_loss did not improve from 2.28909\n",
      "Epoch 24/50\n",
      "100/100 [==============================] - 6s 63ms/step - loss: 0.8634 - accuracy: 0.6953 - val_loss: 2.6901 - val_accuracy: 0.0950\n",
      "\n",
      "Epoch 00024: val_loss did not improve from 2.28909\n",
      "Epoch 25/50\n",
      "100/100 [==============================] - 6s 63ms/step - loss: 0.8684 - accuracy: 0.7165 - val_loss: 2.6917 - val_accuracy: 0.1000\n",
      "\n",
      "Epoch 00025: val_loss did not improve from 2.28909\n",
      "Epoch 26/50\n",
      "100/100 [==============================] - 6s 64ms/step - loss: 0.8801 - accuracy: 0.6868 - val_loss: 2.6325 - val_accuracy: 0.1000\n",
      "\n",
      "Epoch 00026: val_loss did not improve from 2.28909\n",
      "Epoch 27/50\n",
      "100/100 [==============================] - 6s 63ms/step - loss: 0.8915 - accuracy: 0.6863 - val_loss: 2.5692 - val_accuracy: 0.0850\n",
      "\n",
      "Epoch 00027: val_loss did not improve from 2.28909\n",
      "Epoch 28/50\n",
      "100/100 [==============================] - 6s 64ms/step - loss: 0.8609 - accuracy: 0.6829 - val_loss: 2.6796 - val_accuracy: 0.1050\n",
      "\n",
      "Epoch 00028: val_loss did not improve from 2.28909\n",
      "Epoch 29/50\n",
      "100/100 [==============================] - 6s 62ms/step - loss: 0.9437 - accuracy: 0.6873 - val_loss: 2.6607 - val_accuracy: 0.0950\n",
      "\n",
      "Epoch 00029: val_loss did not improve from 2.28909\n",
      "Epoch 30/50\n",
      "100/100 [==============================] - 6s 62ms/step - loss: 0.7535 - accuracy: 0.7169 - val_loss: 2.7033 - val_accuracy: 0.0850\n",
      "\n",
      "Epoch 00030: val_loss did not improve from 2.28909\n",
      "Epoch 31/50\n",
      "100/100 [==============================] - 6s 62ms/step - loss: 0.7816 - accuracy: 0.7331 - val_loss: 2.7004 - val_accuracy: 0.1000\n",
      "\n",
      "Epoch 00031: val_loss did not improve from 2.28909\n",
      "Epoch 32/50\n",
      "100/100 [==============================] - 6s 63ms/step - loss: 0.8089 - accuracy: 0.6911 - val_loss: 2.7344 - val_accuracy: 0.1000\n",
      "\n",
      "Epoch 00032: val_loss did not improve from 2.28909\n",
      "Epoch 33/50\n",
      "100/100 [==============================] - 6s 63ms/step - loss: 0.7733 - accuracy: 0.7107 - val_loss: 2.6754 - val_accuracy: 0.0900\n",
      "\n",
      "Epoch 00033: val_loss did not improve from 2.28909\n",
      "Epoch 34/50\n",
      "100/100 [==============================] - 6s 63ms/step - loss: 0.8341 - accuracy: 0.7031 - val_loss: 2.6726 - val_accuracy: 0.0800\n",
      "\n",
      "Epoch 00034: val_loss did not improve from 2.28909\n",
      "Epoch 35/50\n",
      "100/100 [==============================] - 6s 62ms/step - loss: 0.7505 - accuracy: 0.7365 - val_loss: 2.7090 - val_accuracy: 0.0850\n",
      "\n",
      "Epoch 00035: val_loss did not improve from 2.28909\n",
      "Epoch 36/50\n",
      "100/100 [==============================] - 6s 63ms/step - loss: 0.7720 - accuracy: 0.7225 - val_loss: 2.7346 - val_accuracy: 0.0850\n",
      "\n",
      "Epoch 00036: val_loss did not improve from 2.28909\n",
      "Epoch 37/50\n",
      "100/100 [==============================] - 6s 62ms/step - loss: 0.7215 - accuracy: 0.7515 - val_loss: 2.7093 - val_accuracy: 0.0850\n",
      "\n",
      "Epoch 00037: val_loss did not improve from 2.28909\n",
      "Epoch 38/50\n",
      "100/100 [==============================] - 6s 62ms/step - loss: 0.8018 - accuracy: 0.7184 - val_loss: 2.7137 - val_accuracy: 0.0850\n",
      "\n",
      "Epoch 00038: val_loss did not improve from 2.28909\n",
      "Epoch 39/50\n",
      "100/100 [==============================] - 6s 63ms/step - loss: 0.7335 - accuracy: 0.7325 - val_loss: 2.7016 - val_accuracy: 0.0850\n",
      "\n",
      "Epoch 00039: val_loss did not improve from 2.28909\n",
      "Epoch 40/50\n",
      "100/100 [==============================] - 6s 63ms/step - loss: 0.7103 - accuracy: 0.7577 - val_loss: 2.7267 - val_accuracy: 0.0900\n",
      "\n",
      "Epoch 00040: val_loss did not improve from 2.28909\n",
      "Epoch 41/50\n",
      "100/100 [==============================] - 6s 63ms/step - loss: 0.7092 - accuracy: 0.7532 - val_loss: 2.7160 - val_accuracy: 0.0850\n",
      "\n",
      "Epoch 00041: val_loss did not improve from 2.28909\n",
      "Epoch 42/50\n"
     ]
    },
    {
     "name": "stdout",
     "output_type": "stream",
     "text": [
      "100/100 [==============================] - 6s 62ms/step - loss: 0.7361 - accuracy: 0.7513 - val_loss: 2.6999 - val_accuracy: 0.0850\n",
      "\n",
      "Epoch 00042: val_loss did not improve from 2.28909\n",
      "Epoch 43/50\n",
      "100/100 [==============================] - 6s 63ms/step - loss: 0.6955 - accuracy: 0.7759 - val_loss: 2.7330 - val_accuracy: 0.0900\n",
      "\n",
      "Epoch 00043: val_loss did not improve from 2.28909\n",
      "Epoch 44/50\n",
      "100/100 [==============================] - 6s 62ms/step - loss: 0.6986 - accuracy: 0.7640 - val_loss: 2.7238 - val_accuracy: 0.0850\n",
      "\n",
      "Epoch 00044: val_loss did not improve from 2.28909\n",
      "Epoch 45/50\n",
      "100/100 [==============================] - 6s 62ms/step - loss: 0.7447 - accuracy: 0.7117 - val_loss: 2.7080 - val_accuracy: 0.0850\n",
      "\n",
      "Epoch 00045: val_loss did not improve from 2.28909\n",
      "Epoch 46/50\n",
      "100/100 [==============================] - 6s 63ms/step - loss: 0.6586 - accuracy: 0.7699 - val_loss: 2.7120 - val_accuracy: 0.0850\n",
      "\n",
      "Epoch 00046: val_loss did not improve from 2.28909\n",
      "Epoch 47/50\n",
      "100/100 [==============================] - 6s 62ms/step - loss: 0.6945 - accuracy: 0.7590 - val_loss: 2.7231 - val_accuracy: 0.0850\n",
      "\n",
      "Epoch 00047: val_loss did not improve from 2.28909\n",
      "Epoch 48/50\n",
      "100/100 [==============================] - 6s 62ms/step - loss: 0.6961 - accuracy: 0.7516 - val_loss: 2.7420 - val_accuracy: 0.0950\n",
      "\n",
      "Epoch 00048: val_loss did not improve from 2.28909\n",
      "Epoch 49/50\n",
      "100/100 [==============================] - 6s 62ms/step - loss: 0.6282 - accuracy: 0.7883 - val_loss: 2.7614 - val_accuracy: 0.0950\n",
      "\n",
      "Epoch 00049: val_loss did not improve from 2.28909\n",
      "Epoch 50/50\n",
      "100/100 [==============================] - 6s 63ms/step - loss: 0.6785 - accuracy: 0.7675 - val_loss: 2.7742 - val_accuracy: 0.0950\n",
      "\n",
      "Epoch 00050: val_loss did not improve from 2.28909\n"
     ]
    }
   ],
   "source": [
    "learn(epochs=50, batch_size=8, learn_schedule=0.9)"
   ]
  },
  {
   "cell_type": "code",
   "execution_count": 77,
   "metadata": {},
   "outputs": [
    {
     "data": {
      "image/png": "[encoded data removed]",
      "text/plain": [
       "<IPython.core.display.Image object>"
      ]
     },
     "execution_count": 77,
     "metadata": {},
     "output_type": "execute_result"
    }
   ],
   "source": [
    "from IPython.display import Image\n",
    "image_file_name = \"./data/train/blues/\" + os.listdir(\"./data/train/blues\" )[0]\n",
    "Image(image_file_name)"
   ]
  },
  {
   "cell_type": "code",
   "execution_count": 82,
   "metadata": {},
   "outputs": [
    {
     "data": {
      "image/png": "[encoded data removed]",
      "text/plain": [
       "<PIL.Image.Image image mode=RGB size=432x288 at 0x25DF0963790>"
      ]
     },
     "execution_count": 82,
     "metadata": {},
     "output_type": "execute_result"
    }
   ],
   "source": [
    "img = load_img(image_file_name)\n",
    "array_to_img(img_to_array(img))"
   ]
  },
  {
   "cell_type": "code",
   "execution_count": 103,
   "metadata": {},
   "outputs": [
    {
     "name": "stdout",
     "output_type": "stream",
     "text": [
      "genre =  blues.00013.png\n",
      ">> 計算結果↓\n",
      "[[8.82946789e-01 1.35010077e-05 9.45264648e-04 3.49238508e-06\n",
      "  4.06811596e-05 1.15490884e-01 1.65452453e-04 2.11755396e-04\n",
      "  7.44936551e-05 1.07679414e-04]]\n",
      ">> この画像は「blues」です。\n",
      "genre =  blues.00021.png\n",
      ">> 計算結果↓\n",
      "[[9.9725145e-01 4.0103561e-07 6.0657253e-06 2.0356694e-08 6.9519215e-06\n",
      "  2.6700622e-03 1.2727710e-06 2.8225529e-07 3.0975061e-05 3.2551023e-05]]\n",
      ">> この画像は「blues」です。\n",
      "genre =  blues.00026.png\n",
      ">> 計算結果↓\n",
      "[[4.5067841e-01 1.4425082e-07 1.2034500e-06 8.2546467e-06 8.7563388e-02\n",
      "  3.1799760e-03 1.9809775e-04 1.1190927e-03 4.5710459e-01 1.4679316e-04]]\n",
      ">> この画像は「reggae」です。\n",
      "genre =  blues.00039.png\n",
      ">> 計算結果↓\n",
      "[[9.5536226e-01 2.2509553e-02 1.6575587e-03 3.3865144e-09 1.0178000e-05\n",
      "  2.0413233e-02 1.3870183e-09 2.8717719e-05 1.6501258e-06 1.6911361e-05]]\n",
      ">> この画像は「blues」です。\n",
      "genre =  blues.00042.png\n",
      ">> 計算結果↓\n",
      "[[0.0179229  0.00191659 0.0135506  0.2576758  0.00610756 0.03605654\n",
      "  0.05773928 0.42722946 0.01607355 0.1657277 ]]\n",
      ">> この画像は「pop」です。\n",
      "genre =  blues.00046.png\n",
      ">> 計算結果↓\n",
      "[[4.8476377e-01 1.4189892e-06 2.9111231e-02 2.4159434e-03 2.5540950e-02\n",
      "  2.7804462e-02 1.1204460e-03 7.7253068e-04 8.4830746e-02 3.4363854e-01]]\n",
      ">> この画像は「blues」です。\n",
      "genre =  blues.00049.png\n",
      ">> 計算結果↓\n",
      "[[9.1996956e-01 1.2694017e-04 6.6188616e-03 5.6305511e-05 2.2591192e-04\n",
      "  4.3052904e-02 9.6226235e-05 3.4511690e-03 2.7375312e-03 2.3664499e-02]]\n",
      ">> この画像は「blues」です。\n",
      "genre =  blues.00050.png\n",
      ">> 計算結果↓\n",
      "[[9.6618477e-03 1.2928651e-07 5.4464224e-03 3.5188295e-02 5.9696827e-03\n",
      "  8.9365747e-03 4.3406268e-03 1.0694254e-01 6.1070144e-01 2.1281242e-01]]\n",
      ">> この画像は「reggae」です。\n",
      "genre =  blues.00051.png\n",
      ">> 計算結果↓\n",
      "[[0.01767137 0.01450106 0.22356541 0.0087242  0.00475681 0.01366471\n",
      "  0.53286576 0.00514704 0.00886205 0.17024165]]\n",
      ">> この画像は「metal」です。\n",
      "genre =  blues.00054.png\n",
      ">> 計算結果↓\n",
      "[[8.2111351e-02 9.1603571e-05 5.9405413e-02 3.4520790e-02 2.7062839e-01\n",
      "  1.6107968e-03 8.5178778e-02 1.2123244e-02 1.1616894e-01 3.3816066e-01]]\n",
      ">> この画像は「rock」です。\n",
      "genre =  blues.00068.png\n",
      ">> 計算結果↓\n",
      "[[5.5724882e-02 1.3830494e-03 6.0327938e-03 1.0148738e-05 2.1373826e-05\n",
      "  9.3617558e-01 1.5933456e-05 9.1964903e-05 2.0044844e-04 3.4387215e-04]]\n",
      ">> この画像は「jazz」です。\n",
      "genre =  blues.00073.png\n",
      ">> 計算結果↓\n",
      "[[0.1495286  0.00084117 0.6051612  0.00708939 0.01158973 0.15619232\n",
      "  0.00146027 0.01086329 0.00952911 0.04774491]]\n",
      ">> この画像は「country」です。\n",
      "genre =  blues.00074.png\n",
      ">> 計算結果↓\n",
      "[[1.6268165e-01 4.6933131e-04 1.2791336e-01 1.0477755e-01 1.0423211e-03\n",
      "  3.9053288e-01 5.4644428e-05 1.4973325e-03 2.2991598e-02 1.8803935e-01]]\n",
      ">> この画像は「jazz」です。\n",
      "genre =  blues.00079.png\n",
      ">> 計算結果↓\n",
      "[[7.3271149e-01 5.0581491e-04 4.1351301e-04 6.9600611e-04 2.7230086e-05\n",
      "  2.6008621e-01 3.8063063e-05 9.8571612e-04 6.7404813e-05 4.4685458e-03]]\n",
      ">> この画像は「blues」です。\n",
      "genre =  blues.00081.png\n",
      ">> 計算結果↓\n",
      "[[2.8734230e-02 4.4178337e-01 4.4385403e-02 3.7866919e-03 5.1919251e-05\n",
      "  4.1520718e-01 1.0838226e-03 3.8103051e-02 6.1464366e-03 2.0717928e-02]]\n",
      ">> この画像は「classical」です。\n",
      "genre =  blues.00084.png\n",
      ">> 計算結果↓\n",
      "[[0.00228363 0.00621826 0.16624041 0.48524225 0.00261405 0.00327301\n",
      "  0.00173502 0.04646374 0.25402483 0.03190476]]\n",
      ">> この画像は「disco」です。\n",
      "genre =  blues.00088.png\n",
      ">> 計算結果↓\n",
      "[[9.64670539e-01 5.54246886e-04 6.87033124e-03 7.60115217e-05\n",
      "  1.21398436e-04 2.16616653e-02 2.42721162e-05 2.81418907e-05\n",
      "  4.44276398e-03 1.55065488e-03]]\n",
      ">> この画像は「blues」です。\n",
      "genre =  blues.00090.png\n",
      ">> 計算結果↓\n",
      "[[7.6627252e-03 1.3367677e-06 1.9079840e-01 2.1119105e-02 2.6995147e-04\n",
      "  5.9982383e-04 1.3904467e-04 5.2452199e-03 4.0211916e-01 3.7204522e-01]]\n",
      ">> この画像は「reggae」です。\n",
      "genre =  blues.00093.png\n",
      ">> 計算結果↓\n",
      "[[3.69019853e-03 8.82454932e-01 2.60315253e-04 2.01763029e-07\n",
      "  4.59467941e-07 1.13407239e-01 3.33642638e-05 1.01768255e-05\n",
      "  5.78549452e-06 1.37273339e-04]]\n",
      ">> この画像は「classical」です。\n",
      "genre =  blues.00096.png\n",
      ">> 計算結果↓\n",
      "[[1.3599856e-04 9.5158684e-01 3.2840844e-02 1.0197265e-07 1.5593605e-08\n",
      "  1.5422074e-02 2.4856227e-08 9.2396448e-07 2.6723640e-06 1.0509259e-05]]\n",
      ">> この画像は「classical」です。\n",
      "genre =  classical.00013.png\n",
      ">> 計算結果↓\n",
      "[[8.96267284e-06 9.36337233e-01 5.99464402e-03 3.13390706e-06\n",
      "  8.79763284e-09 5.73977716e-02 1.14539134e-07 1.90246938e-05\n",
      "  7.19802892e-06 2.31901518e-04]]\n",
      ">> この画像は「classical」です。\n",
      "genre =  classical.00021.png\n",
      ">> 計算結果↓\n",
      "[[4.5535864e-09 9.9985790e-01 1.5112174e-05 2.2430076e-09 6.0710142e-10\n",
      "  1.2115473e-04 2.8530325e-08 6.1419303e-07 1.7790977e-07 5.0768294e-06]]\n",
      ">> この画像は「classical」です。\n",
      "genre =  classical.00026.png\n",
      ">> 計算結果↓\n",
      "[[3.9904885e-04 4.4240624e-02 8.5336274e-01 1.8492718e-03 2.9236146e-05\n",
      "  5.9036762e-03 8.0337362e-05 6.7544699e-04 1.9123288e-03 9.1547236e-02]]\n",
      ">> この画像は「country」です。\n",
      "genre =  classical.00039.png\n",
      ">> 計算結果↓\n",
      "[[8.41423216e-08 9.99761641e-01 1.45044430e-06 1.64603192e-11\n",
      "  1.42365731e-12 2.36778214e-04 1.15005176e-11 9.11380194e-10\n",
      "  1.38457648e-10 7.73055009e-10]]\n",
      ">> この画像は「classical」です。\n",
      "genre =  classical.00042.png\n",
      ">> 計算結果↓\n",
      "[[5.2856681e-08 9.9967992e-01 4.0186869e-06 6.6022512e-09 7.5490225e-11\n",
      "  3.1388193e-04 3.2196248e-10 9.5928624e-07 3.0840734e-08 1.1089300e-06]]\n",
      ">> この画像は「classical」です。\n",
      "genre =  classical.00046.png\n",
      ">> 計算結果↓\n",
      "[[1.6388729e-05 9.9578542e-01 5.7165284e-04 5.2893830e-07 2.7033641e-07\n",
      "  3.3837333e-03 1.1331616e-06 9.9427498e-06 1.3777969e-05 2.1710368e-04]]\n",
      ">> この画像は「classical」です。\n",
      "genre =  classical.00049.png\n",
      ">> 計算結果↓\n",
      "[[3.62626133e-06 9.72501695e-01 3.59770400e-03 2.71939001e-07\n",
      "  3.52079859e-08 2.37495359e-02 6.60683554e-07 2.94217098e-05\n",
      "  2.89067748e-06 1.14176575e-04]]\n",
      ">> この画像は「classical」です。\n",
      "genre =  classical.00050.png\n",
      ">> 計算結果↓\n",
      "[[1.12168935e-04 9.84541774e-01 2.30749324e-03 7.52033102e-09\n",
      "  6.07060713e-09 1.30207315e-02 9.52029836e-07 2.53797992e-07\n",
      "  1.40383634e-06 1.52683278e-05]]\n",
      ">> この画像は「classical」です。\n",
      "genre =  classical.00051.png\n",
      ">> 計算結果↓\n",
      "[[3.9387774e-02 2.4886115e-01 2.8235288e-03 2.8451218e-06 9.0121212e-06\n",
      "  7.0486820e-01 2.1948465e-03 2.5220102e-04 7.0688562e-05 1.5298640e-03]]\n",
      ">> この画像は「jazz」です。\n",
      "genre =  classical.00054.png\n",
      ">> 計算結果↓\n",
      "[[9.4827825e-05 8.6889881e-01 2.7111841e-03 2.7285953e-08 1.5568105e-08\n",
      "  1.2823117e-01 8.1745402e-06 5.5178889e-06 8.1858479e-07 4.9428909e-05]]\n",
      ">> この画像は「classical」です。\n",
      "genre =  classical.00068.png\n",
      ">> 計算結果↓\n",
      "[[4.3230397e-03 1.8385468e-01 5.7011420e-01 1.1502523e-03 3.5634105e-06\n",
      "  2.2905135e-01 1.7295721e-04 2.7342129e-04 1.3292009e-03 9.7273178e-03]]\n",
      ">> この画像は「country」です。\n",
      "genre =  classical.00073.png\n",
      ">> 計算結果↓\n",
      "[[3.1537779e-03 3.0332813e-01 2.5001872e-01 1.2403326e-06 7.1486575e-08\n",
      "  4.4327617e-01 5.5996907e-08 8.3271210e-05 5.9598482e-05 7.8959456e-05]]\n",
      ">> この画像は「jazz」です。\n",
      "genre =  classical.00074.png\n",
      ">> 計算結果↓\n",
      "[[3.13576515e-04 9.34737921e-01 2.51044966e-02 2.62990332e-04\n",
      "  3.89279703e-05 1.81942154e-02 3.53110698e-03 3.47833382e-03\n",
      "  5.89517411e-04 1.37488665e-02]]\n",
      ">> この画像は「classical」です。\n",
      "genre =  classical.00079.png\n",
      ">> 計算結果↓\n",
      "[[5.9163572e-09 9.9959034e-01 3.7402893e-07 2.4100354e-14 8.8757703e-15\n",
      "  4.0936281e-04 9.4485322e-15 7.9915054e-11 1.0531915e-11 2.2578910e-10]]\n",
      ">> この画像は「classical」です。\n",
      "genre =  classical.00081.png\n",
      ">> 計算結果↓\n",
      "[[1.3996013e-06 9.9804902e-01 4.0687885e-04 7.7253425e-08 7.5931062e-08\n",
      "  1.4713826e-03 1.0641982e-06 4.7326280e-06 3.3749070e-06 6.2072766e-05]]\n",
      ">> この画像は「classical」です。\n",
      "genre =  classical.00084.png\n",
      ">> 計算結果↓\n",
      "[[1.3273375e-09 9.9998796e-01 1.1477196e-07 3.3722504e-13 7.3101051e-14\n",
      "  1.1873683e-05 3.2572889e-13 3.0596178e-10 3.0244723e-11 1.7005393e-09]]\n",
      ">> この画像は「classical」です。\n",
      "genre =  classical.00088.png\n",
      ">> 計算結果↓\n",
      "[[6.2999740e-04 9.5345438e-01 5.8624579e-04 7.2195633e-07 1.4749752e-06\n",
      "  4.5111220e-02 9.6720350e-07 3.1879117e-05 2.3172761e-05 1.5998997e-04]]\n",
      ">> この画像は「classical」です。\n",
      "genre =  classical.00090.png\n",
      ">> 計算結果↓\n",
      "[[2.5856034e-11 9.9997711e-01 3.5964902e-08 1.1613941e-13 1.5672674e-14\n",
      "  2.2920622e-05 3.9669440e-12 1.4620173e-09 1.6881578e-11 5.9968950e-09]]\n",
      ">> この画像は「classical」です。\n",
      "genre =  classical.00093.png\n",
      ">> 計算結果↓\n",
      "[[1.92078464e-02 7.31182992e-02 2.82217134e-02 4.12076861e-02\n",
      "  2.72142352e-05 6.98935747e-01 2.24285122e-05 1.08937606e-01\n",
      "  2.73387949e-03 2.75875665e-02]]\n",
      ">> この画像は「jazz」です。\n",
      "genre =  classical.00096.png\n",
      ">> 計算結果↓\n",
      "[[8.1287180e-06 9.9342489e-01 1.3723350e-03 7.8672410e-06 2.1915487e-06\n",
      "  1.4003190e-03 2.7553190e-04 2.4091294e-04 8.7228254e-05 3.1805695e-03]]\n",
      ">> この画像は「classical」です。\n",
      "genre =  country.00013.png\n",
      ">> 計算結果↓\n",
      "[[3.04202408e-01 2.04120486e-04 1.57808840e-01 3.04856636e-02\n",
      "  6.27947971e-04 4.32318687e-01 5.90518874e-04 5.38773276e-03\n",
      "  1.54885575e-02 5.28854802e-02]]\n",
      ">> この画像は「jazz」です。\n",
      "genre =  country.00021.png\n"
     ]
    },
    {
     "name": "stdout",
     "output_type": "stream",
     "text": [
      ">> 計算結果↓\n",
      "[[0.04263988 0.14811599 0.47811162 0.00120403 0.0007479  0.26868618\n",
      "  0.00079141 0.00533413 0.01645368 0.03791519]]\n",
      ">> この画像は「country」です。\n",
      "genre =  country.00026.png\n",
      ">> 計算結果↓\n",
      "[[1.7927364e-02 2.9607627e-03 2.6363659e-01 1.0381640e-02 1.5228691e-04\n",
      "  1.0749866e-01 4.6795769e-05 3.7001525e-03 1.1291704e-01 4.8077866e-01]]\n",
      ">> この画像は「rock」です。\n",
      "genre =  country.00039.png\n",
      ">> 計算結果↓\n",
      "[[2.6231062e-02 3.1066975e-05 7.9691768e-02 2.2820666e-01 4.7232513e-04\n",
      "  3.4672047e-03 3.7477696e-03 1.0134760e-01 3.4699286e-03 5.5333459e-01]]\n",
      ">> この画像は「rock」です。\n",
      "genre =  country.00042.png\n",
      ">> 計算結果↓\n",
      "[[0.08983745 0.00213249 0.14586873 0.06966745 0.06148219 0.01084597\n",
      "  0.03045168 0.00687091 0.07989831 0.50294477]]\n",
      ">> この画像は「rock」です。\n",
      "genre =  country.00046.png\n",
      ">> 計算結果↓\n",
      "[[0.01779192 0.00267926 0.04610893 0.0210678  0.01110612 0.00158999\n",
      "  0.2980446  0.00388311 0.01815509 0.57957315]]\n",
      ">> この画像は「rock」です。\n",
      "genre =  country.00049.png\n",
      ">> 計算結果↓\n",
      "[[4.9590591e-02 3.9721213e-04 4.8075923e-01 1.2566561e-02 3.4451217e-03\n",
      "  4.9205190e-03 4.5201046e-04 1.9671230e-03 2.0013690e-01 2.4576467e-01]]\n",
      ">> この画像は「country」です。\n",
      "genre =  country.00050.png\n",
      ">> 計算結果↓\n",
      "[[0.01058928 0.00496344 0.16326144 0.21361037 0.00122488 0.00162199\n",
      "  0.0238577  0.23100112 0.00763764 0.34223217]]\n",
      ">> この画像は「rock」です。\n",
      "genre =  country.00051.png\n",
      ">> 計算結果↓\n",
      "[[0.00597697 0.0017962  0.9327337  0.00856407 0.00104556 0.00295584\n",
      "  0.00189491 0.00503283 0.00122474 0.03877507]]\n",
      ">> この画像は「country」です。\n",
      "genre =  country.00054.png\n",
      ">> 計算結果↓\n",
      "[[0.2804555  0.00049552 0.12967812 0.10248317 0.00269129 0.01797207\n",
      "  0.00754784 0.00913233 0.00164599 0.44789818]]\n",
      ">> この画像は「rock」です。\n",
      "genre =  country.00068.png\n",
      ">> 計算結果↓\n",
      "[[0.03632525 0.07435121 0.29629642 0.07249563 0.00674929 0.05807131\n",
      "  0.0412575  0.07073646 0.07316896 0.270548  ]]\n",
      ">> この画像は「country」です。\n",
      "genre =  country.00073.png\n",
      ">> 計算結果↓\n",
      "[[2.9611373e-03 3.7596747e-04 6.7440116e-01 4.8113167e-03 5.2423224e-05\n",
      "  8.4379048e-04 4.3213626e-04 1.2028355e-03 8.0530677e-04 3.1411386e-01]]\n",
      ">> この画像は「country」です。\n",
      "genre =  country.00074.png\n",
      ">> 計算結果↓\n",
      "[[2.2487817e-02 1.1472327e-03 9.3954551e-01 1.2692194e-03 6.0411916e-05\n",
      "  2.4638487e-02 2.2016188e-04 1.6087124e-03 6.8560634e-03 2.1663441e-03]]\n",
      ">> この画像は「country」です。\n",
      "genre =  country.00079.png\n",
      ">> 計算結果↓\n",
      "[[4.6706101e-04 9.6560884e-01 1.7467100e-02 6.8566692e-08 8.2692458e-10\n",
      "  1.6454384e-02 1.9377813e-09 2.0719904e-07 3.3981337e-07 2.0690395e-06]]\n",
      ">> この画像は「classical」です。\n",
      "genre =  country.00081.png\n",
      ">> 計算結果↓\n",
      "[[0.0175902  0.00186857 0.7081627  0.05413519 0.02881729 0.00485408\n",
      "  0.01974992 0.01222225 0.04938948 0.10321031]]\n",
      ">> この画像は「country」です。\n",
      "genre =  country.00084.png\n",
      ">> 計算結果↓\n",
      "[[8.1478946e-02 8.3123514e-06 2.8830651e-02 2.8562773e-02 2.4401858e-01\n",
      "  2.1081849e-03 1.8646520e-02 1.2394077e-02 2.7737230e-01 3.0657971e-01]]\n",
      ">> この画像は「rock」です。\n",
      "genre =  country.00088.png\n",
      ">> 計算結果↓\n",
      "[[4.15294468e-01 1.06690866e-04 2.16072991e-01 1.23822372e-02\n",
      "  3.34289798e-04 2.81029373e-01 1.41546736e-03 1.39862252e-02\n",
      "  2.19050259e-03 5.71877509e-02]]\n",
      ">> この画像は「blues」です。\n",
      "genre =  country.00090.png\n",
      ">> 計算結果↓\n",
      "[[0.02536445 0.00105478 0.6540641  0.03694962 0.01932853 0.01577288\n",
      "  0.01856479 0.03251366 0.0351791  0.16120808]]\n",
      ">> この画像は「country」です。\n",
      "genre =  country.00093.png\n",
      ">> 計算結果↓\n",
      "[[3.5534927e-01 1.3969002e-04 5.6677204e-01 5.3355610e-04 4.8455581e-04\n",
      "  5.1799066e-02 7.7187207e-05 6.9789151e-03 2.8372617e-04 1.7582066e-02]]\n",
      ">> この画像は「country」です。\n",
      "genre =  country.00096.png\n",
      ">> 計算結果↓\n",
      "[[1.2724611e-01 4.6996874e-04 4.5925099e-01 4.6549211e-03 1.2910928e-04\n",
      "  6.4285696e-02 1.9027246e-03 7.2025969e-03 1.0320284e-02 3.2453755e-01]]\n",
      ">> この画像は「country」です。\n",
      "genre =  disco.00013.png\n",
      ">> 計算結果↓\n",
      "[[0.01969005 0.00062984 0.03498451 0.2923818  0.14366762 0.00243929\n",
      "  0.2465521  0.03272595 0.03948095 0.18744788]]\n",
      ">> この画像は「disco」です。\n",
      "genre =  disco.00021.png\n",
      ">> 計算結果↓\n",
      "[[1.0543327e-02 5.2058186e-02 1.6235474e-01 1.3640259e-03 2.1024243e-05\n",
      "  7.4431366e-01 5.1337190e-07 3.5807772e-03 1.6853957e-02 8.9097712e-03]]\n",
      ">> この画像は「jazz」です。\n",
      "genre =  disco.00026.png\n",
      ">> 計算結果↓\n",
      "[[1.4393800e-03 5.6047164e-05 4.9772826e-03 2.8910783e-01 3.4180190e-02\n",
      "  3.1763494e-03 5.2728871e-04 9.5211826e-02 4.2458314e-01 1.4674065e-01]]\n",
      ">> この画像は「reggae」です。\n",
      "genre =  disco.00039.png\n",
      ">> 計算結果↓\n",
      "[[0.00495688 0.00076516 0.07695325 0.12095668 0.00135299 0.00077991\n",
      "  0.16226448 0.06558336 0.00529728 0.56109   ]]\n",
      ">> この画像は「rock」です。\n",
      "genre =  disco.00042.png\n",
      ">> 計算結果↓\n",
      "[[0.00747247 0.00592309 0.04588857 0.5261108  0.05921482 0.00801194\n",
      "  0.00417596 0.02153478 0.11586793 0.2057996 ]]\n",
      ">> この画像は「disco」です。\n",
      "genre =  disco.00046.png\n",
      ">> 計算結果↓\n",
      "[[0.00195006 0.00261943 0.0260382  0.49620563 0.00767182 0.00106156\n",
      "  0.01995707 0.31164458 0.02137469 0.11147699]]\n",
      ">> この画像は「disco」です。\n",
      "genre =  disco.00049.png\n",
      ">> 計算結果↓\n",
      "[[0.00871413 0.00400632 0.02540174 0.51252514 0.05415729 0.00438417\n",
      "  0.03284935 0.10985397 0.11865603 0.12945186]]\n",
      ">> この画像は「disco」です。\n",
      "genre =  disco.00050.png\n",
      ">> 計算結果↓\n",
      "[[0.00703183 0.00206897 0.00649712 0.60487485 0.00937966 0.00322402\n",
      "  0.00620579 0.12110239 0.05005293 0.1895624 ]]\n",
      ">> この画像は「disco」です。\n",
      "genre =  disco.00051.png\n",
      ">> 計算結果↓\n",
      "[[0.00914431 0.00143755 0.00271671 0.5468154  0.02861799 0.00174988\n",
      "  0.0024628  0.28423786 0.03492128 0.08789616]]\n",
      ">> この画像は「disco」です。\n",
      "genre =  disco.00054.png\n",
      ">> 計算結果↓\n",
      "[[0.04489403 0.00151237 0.05742431 0.47731078 0.00409614 0.04661042\n",
      "  0.00415162 0.13626966 0.05387761 0.17385308]]\n",
      ">> この画像は「disco」です。\n",
      "genre =  disco.00068.png\n",
      ">> 計算結果↓\n",
      "[[3.6633703e-01 2.6023973e-04 1.0576595e-02 7.5668678e-02 1.7995217e-03\n",
      "  3.7942812e-02 3.6332412e-03 4.4713847e-02 2.0593429e-02 4.3847457e-01]]\n",
      ">> この画像は「rock」です。\n",
      "genre =  disco.00073.png\n",
      ">> 計算結果↓\n",
      "[[0.04306157 0.00039993 0.3826356  0.3092803  0.00494752 0.00800161\n",
      "  0.00691998 0.0526647  0.02641494 0.1656739 ]]\n",
      ">> この画像は「country」です。\n",
      "genre =  disco.00074.png\n",
      ">> 計算結果↓\n",
      "[[0.05303799 0.0005622  0.0124041  0.44190517 0.05280899 0.05367393\n",
      "  0.00342053 0.07609814 0.09114774 0.21494113]]\n",
      ">> この画像は「disco」です。\n",
      "genre =  disco.00079.png\n",
      ">> 計算結果↓\n",
      "[[1.2747225e-02 1.2630384e-03 2.2160176e-02 7.5958639e-01 6.3703448e-02\n",
      "  6.4701639e-04 1.3804084e-02 2.5547843e-02 6.8885811e-02 3.1654958e-02]]\n",
      ">> この画像は「disco」です。\n",
      "genre =  disco.00081.png\n",
      ">> 計算結果↓\n",
      "[[5.6066075e-03 1.9126062e-05 5.8449749e-03 1.4661531e-01 1.4411458e-01\n",
      "  3.5743791e-04 1.2338572e-04 4.5051120e-02 5.4516476e-01 1.0710276e-01]]\n",
      ">> この画像は「reggae」です。\n",
      "genre =  disco.00084.png\n",
      ">> 計算結果↓\n",
      "[[3.4489985e-05 4.0565178e-07 2.6617759e-05 5.8156416e-02 8.4753942e-01\n",
      "  7.6236793e-06 2.2064951e-04 3.1737886e-02 6.1420817e-02 8.5562817e-04]]\n",
      ">> この画像は「hiphop」です。\n",
      "genre =  disco.00088.png\n",
      ">> 計算結果↓\n",
      "[[0.00420409 0.4348456  0.05920196 0.00410164 0.00145973 0.0160451\n",
      "  0.14313544 0.02450256 0.00670231 0.30580157]]\n",
      ">> この画像は「classical」です。\n",
      "genre =  disco.00090.png\n",
      ">> 計算結果↓\n",
      "[[0.00329897 0.00059577 0.01896412 0.39395928 0.01766986 0.00995435\n",
      "  0.0021561  0.33715332 0.04486632 0.17138182]]\n",
      ">> この画像は「disco」です。\n",
      "genre =  disco.00093.png\n",
      ">> 計算結果↓\n",
      "[[0.22490275 0.00675265 0.0217123  0.02959921 0.00740072 0.00599029\n",
      "  0.08401131 0.021292   0.05845876 0.5398801 ]]\n",
      ">> この画像は「rock」です。\n",
      "genre =  disco.00096.png\n",
      ">> 計算結果↓\n",
      "[[0.05248906 0.00044769 0.02849028 0.11984108 0.15694651 0.00963357\n",
      "  0.00200545 0.05368198 0.4042995  0.17216481]]\n",
      ">> この画像は「reggae」です。\n",
      "genre =  hiphop.00013.png\n",
      ">> 計算結果↓\n",
      "[[3.8196738e-03 2.6592632e-05 3.3543673e-03 9.0820648e-02 6.4684880e-01\n",
      "  4.9945642e-04 4.4180215e-03 3.1549376e-02 1.6787124e-01 5.0791793e-02]]\n",
      ">> この画像は「hiphop」です。\n",
      "genre =  hiphop.00021.png\n",
      ">> 計算結果↓\n",
      "[[1.6352072e-02 9.8415157e-06 4.4173086e-03 1.3429596e-02 8.7970155e-01\n",
      "  4.5732551e-04 9.5047365e-04 1.1112634e-02 6.6225827e-02 7.3433327e-03]]\n",
      ">> この画像は「hiphop」です。\n",
      "genre =  hiphop.00026.png\n",
      ">> 計算結果↓\n",
      "[[5.1199162e-04 5.6201952e-06 2.1956862e-04 4.6111815e-02 5.4727668e-01\n",
      "  7.7511926e-05 3.4508309e-03 3.8006794e-01 1.8757651e-02 3.5203404e-03]]\n",
      ">> この画像は「hiphop」です。\n",
      "genre =  hiphop.00039.png\n",
      ">> 計算結果↓\n",
      "[[3.5148301e-10 3.7380925e-18 9.4391910e-13 1.3766953e-06 9.9996579e-01\n",
      "  2.5385767e-13 9.4588963e-12 1.6002090e-05 1.6787422e-05 6.8731274e-09]]\n",
      ">> この画像は「hiphop」です。\n",
      "genre =  hiphop.00042.png\n",
      ">> 計算結果↓\n",
      "[[2.1107274e-03 1.5178406e-04 1.1967186e-02 2.1754293e-01 4.1684157e-01\n",
      "  4.5683500e-03 1.3257150e-03 2.3192178e-01 4.2569283e-02 7.1000673e-02]]\n",
      ">> この画像は「hiphop」です。\n",
      "genre =  hiphop.00046.png\n",
      ">> 計算結果↓\n",
      "[[4.9263472e-04 2.9081249e-07 2.1906215e-05 3.1961750e-03 7.0131922e-01\n",
      "  3.7470450e-05 3.4558925e-05 6.1531495e-03 2.8495377e-01 3.7909122e-03]]\n",
      ">> この画像は「hiphop」です。\n",
      "genre =  hiphop.00049.png\n"
     ]
    },
    {
     "name": "stdout",
     "output_type": "stream",
     "text": [
      ">> 計算結果↓\n",
      "[[1.42883655e-05 1.19476351e-09 1.21599794e-06 2.62508576e-04\n",
      "  9.95285690e-01 6.04057618e-07 5.86354232e-04 1.11929385e-03\n",
      "  2.65962468e-03 7.05884304e-05]]\n",
      ">> この画像は「hiphop」です。\n",
      "genre =  hiphop.00050.png\n",
      ">> 計算結果↓\n",
      "[[3.3834857e-01 3.9625564e-05 4.3680120e-02 9.1219496e-04 2.1082982e-02\n",
      "  1.8379495e-02 7.4371137e-04 1.4766041e-03 5.3808653e-01 3.7250135e-02]]\n",
      ">> この画像は「reggae」です。\n",
      "genre =  hiphop.00051.png\n",
      ">> 計算結果↓\n",
      "[[1.6622884e-03 3.0998406e-06 2.9403684e-04 1.0986689e-02 8.4086013e-01\n",
      "  2.2036491e-04 3.6920019e-04 9.9455351e-03 1.2102607e-01 1.4632610e-02]]\n",
      ">> この画像は「hiphop」です。\n",
      "genre =  hiphop.00054.png\n",
      ">> 計算結果↓\n",
      "[[4.7752526e-04 2.9611826e-07 7.7708428e-06 8.1706941e-03 9.3220562e-01\n",
      "  7.3846277e-05 1.0456667e-04 1.3822799e-02 4.4570453e-02 5.6641182e-04]]\n",
      ">> この画像は「hiphop」です。\n",
      "genre =  hiphop.00068.png\n",
      ">> 計算結果↓\n",
      "[[5.0850157e-03 3.7260645e-04 3.9622210e-02 4.5074186e-01 1.2539828e-01\n",
      "  8.2522287e-04 2.0409541e-02 7.1705475e-02 1.7671777e-01 1.0912200e-01]]\n",
      ">> この画像は「disco」です。\n",
      "genre =  hiphop.00073.png\n",
      ">> 計算結果↓\n",
      "[[3.1075199e-04 5.4353143e-07 2.7242992e-05 4.9107494e-03 3.7141830e-02\n",
      "  1.4474978e-05 9.1304864e-05 6.9870746e-01 2.5784799e-01 9.4764738e-04]]\n",
      ">> この画像は「pop」です。\n",
      "genre =  hiphop.00074.png\n",
      ">> 計算結果↓\n",
      "[[8.2593772e-04 4.6183891e-07 5.6321750e-04 8.3146832e-04 9.7698337e-01\n",
      "  1.2515641e-04 3.6267377e-03 1.3679921e-03 1.2641657e-02 3.0338468e-03]]\n",
      ">> この画像は「hiphop」です。\n",
      "genre =  hiphop.00079.png\n",
      ">> 計算結果↓\n",
      "[[2.9798657e-06 4.0298033e-07 9.1029842e-06 1.7327244e-03 3.4248906e-03\n",
      "  2.0494542e-06 2.2682641e-06 3.2599106e-01 6.6827810e-01 5.5648293e-04]]\n",
      ">> この画像は「reggae」です。\n",
      "genre =  hiphop.00081.png\n",
      ">> 計算結果↓\n",
      "[[0.6961393  0.00134006 0.10526175 0.00256876 0.02225668 0.04888171\n",
      "  0.00220318 0.000935   0.08410885 0.0363046 ]]\n",
      ">> この画像は「blues」です。\n",
      "genre =  hiphop.00084.png\n",
      ">> 計算結果↓\n",
      "[[1.4075705e-02 5.7931679e-06 1.2142776e-03 1.0026904e-02 3.0725414e-01\n",
      "  4.6765085e-04 4.0209293e-04 5.3000348e-03 6.5749675e-01 3.7565569e-03]]\n",
      ">> この画像は「reggae」です。\n",
      "genre =  hiphop.00088.png\n",
      ">> 計算結果↓\n",
      "[[5.8450381e-04 3.6790454e-06 1.5622827e-04 8.1873033e-03 5.7127160e-01\n",
      "  1.0637882e-04 2.1574137e-01 1.7663564e-01 1.8063422e-02 9.2498744e-03]]\n",
      ">> この画像は「hiphop」です。\n",
      "genre =  hiphop.00090.png\n",
      ">> 計算結果↓\n",
      "[[7.9481162e-02 3.2179474e-04 1.4298164e-03 1.0073426e-01 1.3284093e-01\n",
      "  3.7601300e-02 5.5544362e-03 4.3817270e-01 1.8381153e-01 2.0051932e-02]]\n",
      ">> この画像は「pop」です。\n",
      "genre =  hiphop.00093.png\n",
      ">> 計算結果↓\n",
      "[[4.7382675e-03 5.1105180e-06 2.9153921e-04 7.1388604e-03 5.8242434e-01\n",
      "  5.6900276e-04 2.2931166e-01 3.5755750e-02 1.2619607e-01 1.3569385e-02]]\n",
      ">> この画像は「hiphop」です。\n",
      "genre =  hiphop.00096.png\n",
      ">> 計算結果↓\n",
      "[[0.07185734 0.00226966 0.03954069 0.02785116 0.17750436 0.01152867\n",
      "  0.16124065 0.04064593 0.21561787 0.25194368]]\n",
      ">> この画像は「rock」です。\n",
      "genre =  jazz.00013.png\n",
      ">> 計算結果↓\n",
      "[[2.7598871e-02 4.4999879e-02 2.3192694e-02 3.0414725e-03 1.6505766e-04\n",
      "  8.8534570e-01 4.7501188e-04 1.1968809e-02 7.9383928e-04 2.4186790e-03]]\n",
      ">> この画像は「jazz」です。\n",
      "genre =  jazz.00021.png\n",
      ">> 計算結果↓\n",
      "[[2.0314841e-01 3.9659275e-04 3.7521821e-02 4.2218793e-02 1.2092380e-01\n",
      "  1.3376212e-01 4.9200626e-03 4.0121585e-01 6.5932365e-04 5.5233251e-02]]\n",
      ">> この画像は「pop」です。\n",
      "genre =  jazz.00026.png\n",
      ">> 計算結果↓\n",
      "[[4.0983610e-02 6.7642057e-01 1.1221983e-03 1.8819766e-06 3.6383592e-06\n",
      "  2.8052124e-01 2.3080614e-04 1.5192966e-04 6.7425644e-05 4.9677718e-04]]\n",
      ">> この画像は「classical」です。\n",
      "genre =  jazz.00039.png\n",
      ">> 計算結果↓\n",
      "[[1.9497448e-01 2.6163391e-03 9.9000130e-03 3.4625507e-05 9.6945075e-04\n",
      "  7.4737060e-01 2.9605035e-02 1.1192084e-03 5.1530884e-03 8.2571497e-03]]\n",
      ">> この画像は「jazz」です。\n",
      "genre =  jazz.00042.png\n",
      ">> 計算結果↓\n",
      "[[3.6708087e-02 1.0058510e-02 3.2237072e-02 1.8971703e-04 1.8065886e-05\n",
      "  9.1763920e-01 7.4388093e-04 6.1047054e-04 2.4992236e-04 1.5450745e-03]]\n",
      ">> この画像は「jazz」です。\n",
      "genre =  jazz.00046.png\n",
      ">> 計算結果↓\n",
      "[[0.0545829  0.06491143 0.16737233 0.00599576 0.00547176 0.5452614\n",
      "  0.02853679 0.06884095 0.01346068 0.04556595]]\n",
      ">> この画像は「jazz」です。\n",
      "genre =  jazz.00049.png\n",
      ">> 計算結果↓\n",
      "[[0.11450998 0.00147346 0.1223186  0.12758522 0.00066037 0.4269863\n",
      "  0.00591444 0.1317306  0.00293162 0.06588934]]\n",
      ">> この画像は「jazz」です。\n",
      "genre =  jazz.00050.png\n",
      ">> 計算結果↓\n",
      "[[0.4902626  0.00308713 0.02518543 0.01008373 0.01857641 0.20737481\n",
      "  0.01209033 0.01243278 0.16912961 0.05177706]]\n",
      ">> この画像は「blues」です。\n",
      "genre =  jazz.00051.png\n",
      ">> 計算結果↓\n",
      "[[2.3626366e-01 1.3981074e-03 1.7607760e-03 5.1591878e-06 2.2164319e-05\n",
      "  7.5989473e-01 1.4303299e-04 3.7053069e-05 1.7615705e-04 2.9915155e-04]]\n",
      ">> この画像は「jazz」です。\n",
      "genre =  jazz.00054.png\n",
      ">> 計算結果↓\n",
      "[[3.6975955e-05 9.7361743e-01 8.6899428e-04 7.6759270e-06 5.3195123e-07\n",
      "  2.4929523e-02 1.3843475e-06 3.7865670e-04 1.2290475e-05 1.4652780e-04]]\n",
      ">> この画像は「classical」です。\n",
      "genre =  jazz.00068.png\n",
      ">> 計算結果↓\n",
      "[[3.8001772e-02 9.7903069e-03 3.3148278e-02 2.0421308e-04 1.9800136e-05\n",
      "  9.1558141e-01 7.6607772e-04 5.9741247e-04 2.6809069e-04 1.6226443e-03]]\n",
      ">> この画像は「jazz」です。\n",
      "genre =  jazz.00073.png\n",
      ">> 計算結果↓\n",
      "[[0.2690351  0.01162573 0.0461228  0.09906512 0.01495044 0.35200858\n",
      "  0.0107226  0.03602887 0.01973411 0.14070675]]\n",
      ">> この画像は「jazz」です。\n",
      "genre =  jazz.00074.png\n",
      ">> 計算結果↓\n",
      "[[9.5705763e-02 3.0925163e-04 2.6650071e-01 1.6622462e-05 1.3127615e-06\n",
      "  6.3280034e-01 5.0685856e-05 4.2746906e-05 8.2104547e-05 4.4904067e-03]]\n",
      ">> この画像は「jazz」です。\n",
      "genre =  jazz.00079.png\n",
      ">> 計算結果↓\n",
      "[[3.1808153e-01 2.6132082e-04 5.7071671e-02 2.7405635e-05 1.5544254e-05\n",
      "  5.9770429e-01 1.0262486e-04 6.8905254e-05 1.1627694e-05 2.6655065e-02]]\n",
      ">> この画像は「jazz」です。\n",
      "genre =  jazz.00081.png\n",
      ">> 計算結果↓\n",
      "[[1.2021620e-01 5.7508751e-06 2.5614044e-03 8.0350321e-03 5.3738135e-01\n",
      "  4.9312696e-02 5.1446669e-03 2.9086335e-02 2.3076276e-01 1.7493835e-02]]\n",
      ">> この画像は「hiphop」です。\n",
      "genre =  jazz.00084.png\n",
      ">> 計算結果↓\n",
      "[[4.8600754e-01 2.6283981e-04 2.5087982e-01 1.1185747e-02 1.2033910e-02\n",
      "  1.3320432e-02 2.2715705e-03 1.9793264e-03 1.6292033e-03 2.2042964e-01]]\n",
      ">> この画像は「blues」です。\n",
      "genre =  jazz.00088.png\n",
      ">> 計算結果↓\n",
      "[[3.5531586e-03 1.4281122e-02 6.9928521e-01 1.9830384e-03 2.7845366e-05\n",
      "  2.4352448e-01 8.4070976e-05 8.6842349e-04 2.4410812e-03 3.3951540e-02]]\n",
      ">> この画像は「country」です。\n",
      "genre =  jazz.00090.png\n",
      ">> 計算結果↓\n",
      "[[4.1626394e-03 9.8968193e-02 8.1001125e-02 3.0663534e-05 3.8523862e-07\n",
      "  8.1514132e-01 8.0559194e-06 3.5268936e-04 5.5293381e-06 3.2941546e-04]]\n",
      ">> この画像は「jazz」です。\n",
      "genre =  jazz.00093.png\n",
      ">> 計算結果↓\n",
      "[[2.7332099e-03 9.0967953e-02 8.1559867e-03 2.3917073e-05 6.9685103e-07\n",
      "  8.9637947e-01 9.2217990e-05 6.2716781e-04 6.5009467e-06 1.0129344e-03]]\n",
      ">> この画像は「jazz」です。\n",
      "genre =  jazz.00096.png\n",
      ">> 計算結果↓\n",
      "[[7.3946878e-02 4.6413928e-02 3.2295680e-01 1.5089298e-03 5.9815538e-05\n",
      "  5.5143249e-01 1.9129464e-05 2.6093859e-03 6.3159218e-04 4.2110239e-04]]\n",
      ">> この画像は「jazz」です。\n",
      "genre =  metal.00013.png\n",
      ">> 計算結果↓\n",
      "[[5.6739701e-03 1.7826920e-05 3.1890723e-04 5.2723750e-05 2.9050725e-02\n",
      "  3.1577703e-04 9.5621824e-01 7.2551874e-04 2.5053849e-03 5.1208450e-03]]\n",
      ">> この画像は「metal」です。\n",
      "genre =  metal.00021.png\n",
      ">> 計算結果↓\n",
      "[[2.6184797e-02 5.1450101e-04 9.2566293e-03 7.8201940e-04 8.9884773e-03\n",
      "  1.8165255e-02 8.7662619e-01 2.7847871e-02 3.9631398e-03 2.7671209e-02]]\n",
      ">> この画像は「metal」です。\n",
      "genre =  metal.00026.png\n",
      ">> 計算結果↓\n",
      "[[2.92346704e-05 4.85574537e-06 2.52691848e-06 1.05308146e-07\n",
      "  3.82289772e-06 1.39200856e-05 9.99207556e-01 1.56058504e-05\n",
      "  1.13153519e-05 7.10973516e-04]]\n",
      ">> この画像は「metal」です。\n",
      "genre =  metal.00039.png\n",
      ">> 計算結果↓\n",
      "[[7.2923112e-06 8.9139085e-06 4.8982220e-06 1.9877511e-07 3.6261713e-07\n",
      "  2.2865308e-05 9.9910349e-01 2.8333938e-05 1.8956774e-06 8.2180277e-04]]\n",
      ">> この画像は「metal」です。\n",
      "genre =  metal.00042.png\n",
      ">> 計算結果↓\n",
      "[[0.00568768 0.02290711 0.01266669 0.00356794 0.00329242 0.0243767\n",
      "  0.7983457  0.00564331 0.01138719 0.11212531]]\n",
      ">> この画像は「metal」です。\n",
      "genre =  metal.00046.png\n",
      ">> 計算結果↓\n",
      "[[4.43564786e-04 1.39083013e-05 4.44580764e-05 1.06800007e-06\n",
      "  9.34954587e-05 4.21347126e-04 9.98364508e-01 1.21631419e-04\n",
      "  1.01703066e-04 3.94177710e-04]]\n",
      ">> この画像は「metal」です。\n",
      "genre =  metal.00049.png\n",
      ">> 計算結果↓\n",
      "[[1.6103139e-03 2.8766017e-06 3.0525705e-05 1.9442103e-07 8.1642269e-05\n",
      "  6.4040272e-04 9.9729401e-01 7.6223310e-05 5.4265121e-05 2.0943058e-04]]\n",
      ">> この画像は「metal」です。\n",
      "genre =  metal.00050.png\n",
      ">> 計算結果↓\n",
      "[[6.7232945e-04 2.5302127e-06 3.3343797e-05 5.7203613e-07 4.4444241e-04\n",
      "  2.0557070e-04 9.9829990e-01 5.2170690e-05 7.5798023e-05 2.1344580e-04]]\n",
      ">> この画像は「metal」です。\n",
      "genre =  metal.00051.png\n",
      ">> 計算結果↓\n",
      "[[1.63269724e-04 2.47865529e-07 1.75489131e-05 1.91650292e-06\n",
      "  8.47867777e-05 1.28130787e-05 9.99274552e-01 1.20866905e-04\n",
      "  2.94551173e-05 2.94668775e-04]]\n",
      ">> この画像は「metal」です。\n",
      "genre =  metal.00054.png\n"
     ]
    },
    {
     "name": "stdout",
     "output_type": "stream",
     "text": [
      ">> 計算結果↓\n",
      "[[9.7826647e-04 1.9525305e-06 3.0195321e-05 8.2041271e-07 2.3958672e-05\n",
      "  5.6158792e-04 9.9773371e-01 4.7532500e-05 1.6788925e-05 6.0514821e-04]]\n",
      ">> この画像は「metal」です。\n",
      "genre =  metal.00068.png\n",
      ">> 計算結果↓\n",
      "[[1.7789223e-03 9.0635696e-04 2.3482647e-03 1.6818212e-03 1.9630080e-03\n",
      "  2.3380904e-04 9.5647609e-01 4.3268166e-03 2.7075522e-03 2.7577380e-02]]\n",
      ">> この画像は「metal」です。\n",
      "genre =  metal.00073.png\n",
      ">> 計算結果↓\n",
      "[[6.6944310e-03 7.4954728e-06 9.7416033e-04 1.6408850e-03 1.8083179e-02\n",
      "  4.5878810e-04 9.3062800e-01 2.2997013e-03 4.6406491e-03 3.4572754e-02]]\n",
      ">> この画像は「metal」です。\n",
      "genre =  metal.00074.png\n",
      ">> 計算結果↓\n",
      "[[1.6416937e-04 6.1090475e-05 2.6286682e-04 2.7958966e-05 2.0354640e-04\n",
      "  7.8883131e-05 9.9623531e-01 6.3329126e-04 1.2093747e-04 2.2120369e-03]]\n",
      ">> この画像は「metal」です。\n",
      "genre =  metal.00079.png\n",
      ">> 計算結果↓\n",
      "[[0.00425173 0.00256911 0.04843412 0.09666886 0.02469145 0.00094098\n",
      "  0.7098816  0.02256254 0.0165426  0.07345694]]\n",
      ">> この画像は「metal」です。\n",
      "genre =  metal.00081.png\n",
      ">> 計算結果↓\n",
      "[[1.1032248e-05 1.0300426e-04 3.0446157e-04 2.4861675e-03 9.3142982e-05\n",
      "  9.5501737e-06 9.7696930e-01 2.3369775e-03 3.2390116e-04 1.7362585e-02]]\n",
      ">> この画像は「metal」です。\n",
      "genre =  metal.00084.png\n",
      ">> 計算結果↓\n",
      "[[3.9440821e-04 1.6145594e-03 4.7389553e-03 2.0969437e-02 1.5692605e-03\n",
      "  1.7726353e-04 8.6425966e-01 1.4285760e-02 6.4048879e-03 8.5585743e-02]]\n",
      ">> この画像は「metal」です。\n",
      "genre =  metal.00088.png\n",
      ">> 計算結果↓\n",
      "[[4.6807845e-04 8.4300096e-05 6.0649373e-04 1.4859976e-04 2.4894250e-04\n",
      "  2.7267439e-05 9.7744799e-01 5.9861667e-04 4.3969133e-04 1.9929975e-02]]\n",
      ">> この画像は「metal」です。\n",
      "genre =  metal.00090.png\n",
      ">> 計算結果↓\n",
      "[[0.00351238 0.01114306 0.02610223 0.0224803  0.00539681 0.00519664\n",
      "  0.68954676 0.04567374 0.0138566  0.1770914 ]]\n",
      ">> この画像は「metal」です。\n",
      "genre =  metal.00093.png\n",
      ">> 計算結果↓\n",
      "[[1.1292553e-01 2.5556691e-03 2.4638573e-02 3.8981749e-04 1.1824233e-03\n",
      "  6.7694083e-02 7.1971625e-01 5.0084740e-03 1.7964537e-03 6.4092755e-02]]\n",
      ">> この画像は「metal」です。\n",
      "genre =  metal.00096.png\n",
      ">> 計算結果↓\n",
      "[[5.2902643e-02 1.3807959e-04 3.1008828e-03 3.0852623e-02 3.7363839e-01\n",
      "  5.0494969e-03 3.6220992e-01 1.6382009e-02 8.9574434e-02 6.6151462e-02]]\n",
      ">> この画像は「hiphop」です。\n",
      "genre =  pop.00013.png\n",
      ">> 計算結果↓\n",
      "[[1.8535508e-01 1.8378049e-06 1.6231440e-02 1.7584305e-03 1.5589201e-02\n",
      "  1.5093315e-02 3.2742224e-05 8.5657835e-03 6.7642355e-01 8.0948569e-02]]\n",
      ">> この画像は「reggae」です。\n",
      "genre =  pop.00021.png\n",
      ">> 計算結果↓\n",
      "[[1.9530053e-06 3.6334034e-09 5.4601487e-06 6.8889126e-02 8.5674936e-01\n",
      "  1.3096141e-07 1.3329598e-04 6.6053480e-02 7.8623183e-03 3.0483218e-04]]\n",
      ">> この画像は「hiphop」です。\n",
      "genre =  pop.00026.png\n",
      ">> 計算結果↓\n",
      "[[2.82279565e-04 1.88440299e-05 2.71331402e-03 1.78738087e-01\n",
      "  1.03552360e-04 1.18189819e-04 6.12272788e-06 8.00905347e-01\n",
      "  2.89564114e-03 1.42186945e-02]]\n",
      ">> この画像は「pop」です。\n",
      "genre =  pop.00039.png\n",
      ">> 計算結果↓\n",
      "[[1.6659010e-03 2.8407198e-04 1.1763038e-02 2.1176840e-01 1.1918244e-03\n",
      "  9.1312669e-04 9.6383197e-03 7.1123910e-01 1.0372976e-02 4.1163292e-02]]\n",
      ">> この画像は「pop」です。\n",
      "genre =  pop.00042.png\n",
      ">> 計算結果↓\n",
      "[[0.00274761 0.00069931 0.01105502 0.22869459 0.03623799 0.00230184\n",
      "  0.00700723 0.61627835 0.07003985 0.02493825]]\n",
      ">> この画像は「pop」です。\n",
      "genre =  pop.00046.png\n",
      ">> 計算結果↓\n",
      "[[4.5951800e-03 7.5207467e-06 9.7012811e-04 1.9057553e-02 4.6211436e-02\n",
      "  5.7784904e-04 8.0673344e-05 9.8804362e-02 8.1236708e-01 1.7328216e-02]]\n",
      ">> この画像は「reggae」です。\n",
      "genre =  pop.00049.png\n",
      ">> 計算結果↓\n",
      "[[8.0849201e-04 7.0773909e-04 3.3938494e-02 6.5358547e-03 2.0000341e-05\n",
      "  2.1222172e-02 7.4378386e-06 8.9369184e-01 1.5657100e-04 4.2911362e-02]]\n",
      ">> この画像は「pop」です。\n",
      "genre =  pop.00050.png\n",
      ">> 計算結果↓\n",
      "[[1.59363158e-03 2.31104408e-07 3.56002056e-05 6.70706183e-02\n",
      "  6.39461949e-02 1.14082595e-05 7.57208501e-04 7.78510571e-01\n",
      "  3.34163122e-02 5.46581969e-02]]\n",
      ">> この画像は「pop」です。\n",
      "genre =  pop.00051.png\n",
      ">> 計算結果↓\n",
      "[[1.3343617e-03 5.4265372e-05 1.6582448e-03 9.0002000e-02 1.4876309e-02\n",
      "  1.4478856e-04 1.9412104e-02 8.3025116e-01 9.6328352e-03 3.2634005e-02]]\n",
      ">> この画像は「pop」です。\n",
      "genre =  pop.00054.png\n",
      ">> 計算結果↓\n",
      "[[1.2988207e-03 7.0292968e-05 2.7072923e-03 2.6451765e-02 5.3238566e-04\n",
      "  2.3487213e-04 6.6885677e-06 9.6470428e-01 9.1408071e-04 3.0795243e-03]]\n",
      ">> この画像は「pop」です。\n",
      "genre =  pop.00068.png\n",
      ">> 計算結果↓\n",
      "[[3.5060802e-04 9.9819881e-06 7.1672366e-05 1.5185614e-01 4.7771469e-01\n",
      "  3.5025962e-05 3.2160623e-04 3.4843606e-01 1.0254401e-02 1.0949726e-02]]\n",
      ">> この画像は「hiphop」です。\n",
      "genre =  pop.00073.png\n",
      ">> 計算結果↓\n",
      "[[6.0442682e-02 8.7440912e-06 2.3997322e-02 2.0339303e-01 1.4974057e-03\n",
      "  4.5815986e-03 5.6493183e-05 2.1865085e-01 1.4225128e-01 3.4512061e-01]]\n",
      ">> この画像は「rock」です。\n",
      "genre =  pop.00074.png\n",
      ">> 計算結果↓\n",
      "[[2.0531194e-04 1.0318997e-06 8.4772058e-05 1.3935145e-03 2.3920264e-03\n",
      "  1.2039132e-04 7.9818012e-05 9.8254550e-01 1.2257375e-02 9.2025654e-04]]\n",
      ">> この画像は「pop」です。\n",
      "genre =  pop.00079.png\n",
      ">> 計算結果↓\n",
      "[[9.7949337e-03 3.3476617e-04 1.1188669e-02 6.0322221e-02 4.6594179e-01\n",
      "  1.2893265e-03 2.3083511e-01 5.9503656e-02 6.0045846e-02 1.0074371e-01]]\n",
      ">> この画像は「hiphop」です。\n",
      "genre =  pop.00081.png\n",
      ">> 計算結果↓\n",
      "[[0.10024087 0.00045777 0.44959223 0.02231748 0.07581645 0.00726883\n",
      "  0.00097492 0.00487209 0.2326425  0.10581686]]\n",
      ">> この画像は「country」です。\n",
      "genre =  pop.00084.png\n",
      ">> 計算結果↓\n",
      "[[1.2157668e-03 2.2503466e-05 2.2832777e-03 2.4280433e-01 1.5644100e-01\n",
      "  3.6027028e-05 1.1039894e-03 5.6106049e-01 4.7796657e-03 3.0252911e-02]]\n",
      ">> この画像は「pop」です。\n",
      "genre =  pop.00088.png\n",
      ">> 計算結果↓\n",
      "[[3.4149547e-05 5.5186280e-07 3.4323017e-05 3.9347315e-01 1.0044412e-01\n",
      "  5.4089396e-06 2.5485691e-05 4.7016215e-01 3.0745506e-02 5.0751655e-03]]\n",
      ">> この画像は「pop」です。\n",
      "genre =  pop.00090.png\n",
      ">> 計算結果↓\n",
      "[[8.3107013e-01 3.7774216e-06 1.0933690e-02 1.3006343e-02 4.7271708e-03\n",
      "  4.2679872e-02 1.5639137e-04 5.9927221e-02 2.3839411e-03 3.5111550e-02]]\n",
      ">> この画像は「blues」です。\n",
      "genre =  pop.00093.png\n",
      ">> 計算結果↓\n",
      "[[1.8652692e-01 1.7452665e-04 4.0657726e-01 9.3721874e-02 2.8366430e-02\n",
      "  9.6007055e-03 5.6922866e-04 2.2571272e-01 2.7252164e-02 2.1498159e-02]]\n",
      ">> この画像は「country」です。\n",
      "genre =  pop.00096.png\n",
      ">> 計算結果↓\n",
      "[[9.1271244e-02 1.6521142e-04 1.4184062e-01 1.4431842e-01 6.0530398e-03\n",
      "  1.0619415e-02 1.2272193e-02 3.6162645e-01 4.8188195e-02 1.8364522e-01]]\n",
      ">> この画像は「pop」です。\n",
      "genre =  reggae.00013.png\n",
      ">> 計算結果↓\n",
      "[[8.6589418e-02 3.3324103e-08 4.0369516e-04 7.1862787e-03 3.5965263e-03\n",
      "  3.9207004e-04 1.3634669e-04 2.1858277e-02 8.5576701e-01 2.4070440e-02]]\n",
      ">> この画像は「reggae」です。\n",
      "genre =  reggae.00021.png\n",
      ">> 計算結果↓\n",
      "[[0.02243069 0.00201428 0.06486667 0.01433424 0.02895097 0.4688313\n",
      "  0.00201519 0.11809973 0.1430875  0.13536942]]\n",
      ">> この画像は「jazz」です。\n",
      "genre =  reggae.00026.png\n",
      ">> 計算結果↓\n",
      "[[1.1026405e-01 5.6114482e-06 8.6504308e-04 7.7093579e-03 5.7799453e-03\n",
      "  3.9305296e-03 2.7167791e-04 5.6350224e-02 7.8807521e-01 2.6748370e-02]]\n",
      ">> この画像は「reggae」です。\n",
      "genre =  reggae.00039.png\n",
      ">> 計算結果↓\n",
      "[[6.2429065e-01 2.1542018e-08 1.2373162e-04 1.1048826e-05 3.0494032e-06\n",
      "  7.0955139e-04 1.6583563e-07 1.2721629e-04 3.6721510e-01 7.5195637e-03]]\n",
      ">> この画像は「blues」です。\n",
      "genre =  reggae.00042.png\n",
      ">> 計算結果↓\n",
      "[[7.4764073e-02 3.8380545e-04 1.3194252e-02 2.5424860e-02 5.1856899e-01\n",
      "  1.6170045e-02 9.3076818e-02 2.5838375e-02 1.6293475e-01 6.9644012e-02]]\n",
      ">> この画像は「hiphop」です。\n",
      "genre =  reggae.00046.png\n",
      ">> 計算結果↓\n",
      "[[2.5512260e-01 1.1231257e-04 6.7353092e-02 2.8010411e-02 1.1012717e-01\n",
      "  9.6729109e-03 2.9910870e-03 3.6577396e-02 4.1280779e-01 7.7225208e-02]]\n",
      ">> この画像は「reggae」です。\n",
      "genre =  reggae.00049.png\n",
      ">> 計算結果↓\n",
      "[[0.00837687 0.00059821 0.00573431 0.16412395 0.19593428 0.00222288\n",
      "  0.00949113 0.34890714 0.1993112  0.06530002]]\n",
      ">> この画像は「pop」です。\n",
      "genre =  reggae.00050.png\n",
      ">> 計算結果↓\n",
      "[[1.6762321e-04 8.5972115e-06 2.6826360e-03 2.7245361e-01 2.4794281e-04\n",
      "  8.4220064e-06 2.5604386e-05 6.2953192e-01 3.1846631e-02 6.3026987e-02]]\n",
      ">> この画像は「pop」です。\n",
      "genre =  reggae.00051.png\n",
      ">> 計算結果↓\n",
      "[[5.6886130e-08 7.3992000e-11 2.2804427e-08 2.5774635e-02 9.2853624e-01\n",
      "  5.5885288e-09 2.0717919e-06 4.1160420e-02 4.5062476e-03 2.0190806e-05]]\n",
      ">> この画像は「hiphop」です。\n",
      "genre =  reggae.00054.png\n",
      ">> 計算結果↓\n",
      "[[4.7069438e-02 5.8251596e-04 1.2882558e-02 1.0223935e-01 1.0816982e-02\n",
      "  9.9697569e-03 1.4128112e-03 2.7417447e-02 7.4865013e-01 3.8959019e-02]]\n",
      ">> この画像は「reggae」です。\n",
      "genre =  reggae.00068.png\n",
      ">> 計算結果↓\n",
      "[[3.8078320e-03 9.5875921e-06 1.3944507e-03 1.4868793e-02 3.9391017e-01\n",
      "  3.3106452e-03 5.0327657e-05 4.9151540e-02 5.1736903e-01 1.6127689e-02]]\n",
      ">> この画像は「reggae」です。\n",
      "genre =  reggae.00073.png\n",
      ">> 計算結果↓\n",
      "[[0.6680006  0.01083112 0.0071343  0.00400959 0.02814662 0.22751126\n",
      "  0.00076708 0.00538436 0.04161498 0.00660015]]\n",
      ">> この画像は「blues」です。\n",
      "genre =  reggae.00074.png\n"
     ]
    },
    {
     "name": "stdout",
     "output_type": "stream",
     "text": [
      ">> 計算結果↓\n",
      "[[0.6680006  0.01083112 0.0071343  0.00400959 0.02814662 0.22751126\n",
      "  0.00076708 0.00538436 0.04161498 0.00660015]]\n",
      ">> この画像は「blues」です。\n",
      "genre =  reggae.00079.png\n",
      ">> 計算結果↓\n",
      "[[0.0235145  0.00103056 0.19832145 0.08876721 0.01231975 0.01074195\n",
      "  0.00955146 0.18259174 0.08506147 0.3880999 ]]\n",
      ">> この画像は「rock」です。\n",
      "genre =  reggae.00081.png\n",
      ">> 計算結果↓\n",
      "[[3.4424264e-02 1.0513001e-04 1.9113590e-03 6.6537514e-02 4.2466852e-01\n",
      "  1.5367920e-02 3.1267537e-04 6.3402168e-02 3.8373014e-01 9.5402729e-03]]\n",
      ">> この画像は「hiphop」です。\n",
      "genre =  reggae.00084.png\n",
      ">> 計算結果↓\n",
      "[[0.10899929 0.00046677 0.07388642 0.12939611 0.02406677 0.02494841\n",
      "  0.00457357 0.03886298 0.35636356 0.23843607]]\n",
      ">> この画像は「reggae」です。\n",
      "genre =  reggae.00088.png\n",
      ">> 計算結果↓\n",
      "[[1.0136258e-04 4.1978754e-05 3.3312174e-04 1.8755254e-01 2.4220671e-03\n",
      "  2.5311250e-05 1.7817515e-03 7.9394716e-01 2.7678977e-03 1.1026828e-02]]\n",
      ">> この画像は「pop」です。\n",
      "genre =  reggae.00090.png\n",
      ">> 計算結果↓\n",
      "[[8.9840181e-03 7.3699644e-06 1.4348322e-04 4.5492328e-03 3.0540183e-01\n",
      "  8.0166163e-04 2.5876227e-05 8.8744825e-03 6.6109979e-01 1.0112241e-02]]\n",
      ">> この画像は「reggae」です。\n",
      "genre =  reggae.00093.png\n",
      ">> 計算結果↓\n",
      "[[2.6742943e-02 1.0307853e-04 8.4949128e-02 1.7279473e-01 1.0825999e-01\n",
      "  2.6955227e-03 2.8091744e-03 4.2565104e-02 4.7102776e-01 8.8052504e-02]]\n",
      ">> この画像は「reggae」です。\n",
      "genre =  reggae.00096.png\n",
      ">> 計算結果↓\n",
      "[[1.2959938e-01 8.4310705e-05 1.6548989e-02 3.4587500e-03 2.8576609e-01\n",
      "  1.2892176e-02 3.6714890e-03 5.9300559e-03 5.2317768e-01 1.8871063e-02]]\n",
      ">> この画像は「reggae」です。\n",
      "genre =  rock.00013.png\n",
      ">> 計算結果↓\n",
      "[[9.6131908e-03 2.6770246e-07 3.1344703e-01 1.6474113e-01 1.8926814e-02\n",
      "  5.2197617e-03 1.2291272e-03 5.1904991e-02 1.3854247e-01 2.9637524e-01]]\n",
      ">> この画像は「country」です。\n",
      "genre =  rock.00021.png\n",
      ">> 計算結果↓\n",
      "[[1.4139339e-02 6.2756139e-01 1.4183635e-01 4.0299151e-04 1.1696101e-04\n",
      "  1.4040196e-01 6.2415558e-05 1.9432639e-03 1.4091780e-03 7.2126172e-02]]\n",
      ">> この画像は「classical」です。\n",
      "genre =  rock.00026.png\n",
      ">> 計算結果↓\n",
      "[[0.03586408 0.00148221 0.11996377 0.07562122 0.00866975 0.00995449\n",
      "  0.02821393 0.05365125 0.16170868 0.50487053]]\n",
      ">> この画像は「rock」です。\n",
      "genre =  rock.00039.png\n",
      ">> 計算結果↓\n",
      "[[3.6422256e-02 6.1427150e-03 1.3427195e-02 2.9333018e-05 8.2977596e-05\n",
      "  9.3963104e-01 4.4426079e-06 3.9579978e-04 2.4281589e-03 1.4361177e-03]]\n",
      ">> この画像は「jazz」です。\n",
      "genre =  rock.00042.png\n",
      ">> 計算結果↓\n",
      "[[1.5310417e-02 2.0531687e-04 5.3925145e-02 2.5060657e-01 1.4687514e-01\n",
      "  1.7704444e-03 1.4059492e-02 2.5983239e-02 3.7855160e-01 1.1271270e-01]]\n",
      ">> この画像は「reggae」です。\n",
      "genre =  rock.00046.png\n",
      ">> 計算結果↓\n",
      "[[0.0056851  0.00633116 0.0219897  0.5318227  0.00397267 0.0046576\n",
      "  0.00873893 0.16732284 0.03178592 0.2176934 ]]\n",
      ">> この画像は「disco」です。\n",
      "genre =  rock.00049.png\n",
      ">> 計算結果↓\n",
      "[[1.09542329e-04 8.74246001e-01 1.78811569e-02 9.52716391e-07\n",
      "  7.53978441e-07 1.07272595e-01 4.50984771e-05 6.12493459e-05\n",
      "  1.57518243e-05 3.66887427e-04]]\n",
      ">> この画像は「classical」です。\n",
      "genre =  rock.00050.png\n",
      ">> 計算結果↓\n",
      "[[1.8482676e-02 5.0269449e-03 5.3526199e-01 2.4319114e-03 3.9145834e-04\n",
      "  3.8537753e-01 2.9938852e-03 1.3395685e-02 1.0290018e-02 2.6347943e-02]]\n",
      ">> この画像は「country」です。\n",
      "genre =  rock.00051.png\n",
      ">> 計算結果↓\n",
      "[[9.3477350e-01 5.5521929e-09 4.1216910e-02 1.6878637e-04 1.1438674e-06\n",
      "  1.0241155e-03 4.4493713e-06 9.4144037e-03 3.8587325e-03 9.5380582e-03]]\n",
      ">> この画像は「blues」です。\n",
      "genre =  rock.00054.png\n",
      ">> 計算結果↓\n",
      "[[6.05362177e-01 2.16849276e-06 1.02717735e-01 7.78214959e-03\n",
      "  1.00014871e-02 4.48802067e-03 1.67284583e-04 1.44570068e-01\n",
      "  1.66769754e-02 1.08231932e-01]]\n",
      ">> この画像は「blues」です。\n",
      "genre =  rock.00068.png\n",
      ">> 計算結果↓\n",
      "[[3.4664065e-01 2.8058499e-04 3.0998582e-01 8.2456204e-04 1.2823958e-02\n",
      "  2.1938799e-01 2.4577538e-03 3.8824538e-03 2.7093686e-02 7.6622494e-02]]\n",
      ">> この画像は「blues」です。\n",
      "genre =  rock.00073.png\n",
      ">> 計算結果↓\n",
      "[[0.09008218 0.00396715 0.10353807 0.1581878  0.02289735 0.02184334\n",
      "  0.00875053 0.34084165 0.10968153 0.1402103 ]]\n",
      ">> この画像は「pop」です。\n",
      "genre =  rock.00074.png\n",
      ">> 計算結果↓\n",
      "[[0.14465557 0.00052656 0.4054884  0.0017669  0.00132795 0.04016132\n",
      "  0.08547376 0.00254584 0.00275341 0.31530035]]\n",
      ">> この画像は「country」です。\n",
      "genre =  rock.00079.png\n",
      ">> 計算結果↓\n",
      "[[0.05328055 0.00540027 0.16148028 0.12373816 0.00270853 0.00543803\n",
      "  0.00621498 0.0327467  0.0398423  0.5691502 ]]\n",
      ">> この画像は「rock」です。\n",
      "genre =  rock.00081.png\n",
      ">> 計算結果↓\n",
      "[[9.1990695e-04 1.4633295e-04 2.7739366e-03 2.2719336e-01 1.7915441e-02\n",
      "  1.5355230e-04 2.7697453e-01 3.6741453e-01 3.3779811e-02 7.2728604e-02]]\n",
      ">> この画像は「pop」です。\n",
      "genre =  rock.00084.png\n",
      ">> 計算結果↓\n",
      "[[0.03418682 0.00445982 0.28941694 0.2606565  0.00169637 0.01545419\n",
      "  0.00666141 0.03691113 0.02834929 0.3222075 ]]\n",
      ">> この画像は「rock」です。\n",
      "genre =  rock.00088.png\n",
      ">> 計算結果↓\n",
      "[[0.01161256 0.00155693 0.02031345 0.1912521  0.0452856  0.00045807\n",
      "  0.3921751  0.11249473 0.01977312 0.20507832]]\n",
      ">> この画像は「metal」です。\n",
      "genre =  rock.00090.png\n",
      ">> 計算結果↓\n",
      "[[9.5510024e-01 3.6291271e-06 8.5387903e-04 2.8447856e-04 3.4412899e-04\n",
      "  3.3795204e-02 8.0134691e-04 4.2505367e-03 4.2517344e-04 4.1413680e-03]]\n",
      ">> この画像は「blues」です。\n",
      "genre =  rock.00093.png\n",
      ">> 計算結果↓\n",
      "[[0.00669451 0.0155805  0.2816987  0.02535913 0.00446704 0.00346311\n",
      "  0.09258394 0.00313048 0.02833291 0.5386897 ]]\n",
      ">> この画像は「rock」です。\n",
      "genre =  rock.00096.png\n",
      ">> 計算結果↓\n",
      "[[0.01095063 0.04875818 0.44898933 0.0520466  0.00425176 0.04944921\n",
      "  0.0174123  0.00358049 0.0531837  0.31137785]]\n",
      ">> この画像は「country」です。\n"
     ]
    }
   ],
   "source": [
    "dirname = \"./data/val\"#input(\"フォルダ名：\")\n",
    "num_data = 0;\n",
    "num_correct = 0;\n",
    "for genre in os.listdir(dirname):\n",
    "    path = dirname + \"/\" + genre\n",
    "    for image in tqdm(os.listdir(path)):\n",
    "        print('genre = ', image)\n",
    "        if test_process(image, path + \"/\") in image:\n",
    "            num_correct += 1\n",
    "        num_data += 1\n"
   ]
  },
  {
   "cell_type": "code",
   "execution_count": 105,
   "metadata": {},
   "outputs": [
    {
     "name": "stdout",
     "output_type": "stream",
     "text": [
      "学習・非学習含め正答率は55.0%です。\n"
     ]
    }
   ],
   "source": [
    "print(\"学習・非学習含め正答率は\" + str(100 * num_correct*1.0/num_data) + \"%です。\")"
   ]
  },
  {
   "cell_type": "code",
   "execution_count": null,
   "metadata": {},
   "outputs": [],
   "source": []
  }
 ],
 "metadata": {
  "kernelspec": {
   "display_name": "Python 3",
   "language": "python",
   "name": "python3"
  },
  "language_info": {
   "codemirror_mode": {
    "name": "ipython",
    "version": 3
   },
   "file_extension": ".py",
   "mimetype": "text/x-python",
   "name": "python",
   "nbconvert_exporter": "python",
   "pygments_lexer": "ipython3",
   "version": "3.8.5"
  }
 },
 "nbformat": 4,
 "nbformat_minor": 4
}
